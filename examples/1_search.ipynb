{
 "cells": [
  {
   "cell_type": "markdown",
   "id": "e20dd2d858d80b65",
   "metadata": {},
   "source": [
    "# Search\n",
    "\n",
    "The Search and Searches functions enables you to retrieve **up to 100** results for a single query. This is ideal for most use cases where you need to retrieve information quickly and efficiently.\n",
    "\n",
    "- Use the `search` method when you need between **10 and 100** results for a single query.\n",
    "- The same applies for the `searches` and `.similar()` methods.\n",
    "\n",
    "- A search will return a set of `Result` objects.\n",
    "- The `Result` object is used to represent a single search result and provides methods to access the result's properties.\n",
    "    - `url`: The URL of the search result.\n",
    "    - `title`: The title of the search result.\n",
    "    - `description`: A brief description or summary of the search result.\n",
    "    - `netloc`: The network location (domain) of the URL.\n",
    "    - `published`: The publication date of the search result.\n",
    "    - `visited`: The date and time when the result was visited.\n",
    "    - `author`: The author of the content.\n",
    "    - `content`: The main content or body of the search result.\n",
    "    - `language`: The language code of the content (e.g., 'en' for English).\n",
    "    - `similarity`: Similarity score with respect to a query or reference.\n",
    "\n",
    "They can be accessed directly from the `Result` object.\n",
    "```python\n",
    "print(result.title)\n",
    "```\n",
    "or\n",
    "```python\n",
    "print(result[\"title\"])\n",
    "```"
   ]
  },
  {
   "cell_type": "markdown",
   "id": "f03ef73a",
   "metadata": {},
   "source": [
    "## Simple Search - Default Parameters"
   ]
  },
  {
   "cell_type": "code",
   "execution_count": 20,
   "id": "e1db7659d57e5520",
   "metadata": {
    "ExecuteTime": {
     "end_time": "2025-07-07T13:06:15.692772Z",
     "start_time": "2025-07-07T13:06:13.059716Z"
    }
   },
   "outputs": [
    {
     "name": "stdout",
     "output_type": "stream",
     "text": [
      "Idx | Similarity | Title\n",
      "------------------------\n",
      "  0 |   0.89 | Millennium, Point72, Third Point to Enter Booming Private Credit Market\n",
      "  1 |   0.86 | Hedge Funds Increasingly Join The Private Markets Party\n",
      "  2 |   0.80 | Starwood Capital Secures Massive $2.86B for Private Credit as Traditional Lenders Pull Back\n",
      "  3 |   0.76 | Cliff Asness' AQR sees multiple hedge funds up double digits in 2025, beating the market\n",
      "  4 |   0.74 | Hedge funds see changing capital flows and focus\n",
      "  5 |   0.74 | Here's What the Super Rich Are Increasing Their Investments In, According to BlackRock: Report\n",
      "  6 |   0.73 | Cliff Asness' AQR sees multiple hedge funds up double digits in 2025, beating the market\n",
      "  7 |   0.73 | Ivy Asset Group: Evergreen Fund Passes $100 Million AUM\n",
      "  8 |   0.72 | Jupiter Asset Management launches its first hedge fund\n",
      "  9 |   0.71 | Hedge funds could make billions from a Fannie Mae and Freddie Mac spin-off\n"
     ]
    }
   ],
   "source": [
    "from nosible import Nosible\n",
    "\n",
    "# Simple search with just date and default parameters.\n",
    "with Nosible() as nos:\n",
    "    results = nos.search(\n",
    "        question=\"Hedge funds seek to expand into private credit\", n_results=10, publish_start=\"2025-06-01\"\n",
    "    )\n",
    "\n",
    "# Properties of results can be accessed directly.\n",
    "# Properties : url, title, description, netloc, published, visited, author, content, language, similarity, url_hash\n",
    "\n",
    "print(results)"
   ]
  },
  {
   "cell_type": "code",
   "execution_count": 21,
   "id": "90759bf7",
   "metadata": {},
   "outputs": [
    {
     "name": "stdout",
     "output_type": "stream",
     "text": [
      "  0.89 | Millennium, Point72, Third Point to Enter Booming Private Credit Market\n",
      "0.8875385953606417\n",
      "coinfomania.com\n"
     ]
    }
   ],
   "source": [
    "# Accessing the content of the first result\n",
    "print(results[0])\n",
    "print(results[0].similarity)\n",
    "print(results[0][\"netloc\"])"
   ]
  },
  {
   "cell_type": "code",
   "execution_count": 22,
   "id": "f2e51ef4",
   "metadata": {},
   "outputs": [
    {
     "name": "stdout",
     "output_type": "stream",
     "text": [
      " 0: 0.89 | https://coinfomania.com/millennium-point72-third-point-to-enter-booming-private-credit-market\n",
      " 1: 0.86 | https://www.familywealthreport.com/article.php/Hedge-Funds-Increasingly-Join-The-Private-Markets-Party\n",
      " 2: 0.80 | https://www.stocktitan.net/news/STWD/starwood-capital-group-closes-private-credit-focused-vehicles-at-glu86eyfpf6t.html\n",
      " 3: 0.76 | https://www.cnbc.com/2025/07/01/cliff-asness-aqr-sees-multiple-hedge-funds-up-double-digits-in-2025-beating-the-market.html\n",
      " 4: 0.74 | https://londonlovesbusiness.com/hedge-funds-see-changing-capital-flows-and-focus\n",
      " 5: 0.74 | https://dailyhodl.com/2025/06/17/heres-what-the-super-rich-are-increasing-their-investments-in-according-to-blackrock-report\n",
      " 6: 0.73 | https://www.nbcconnecticut.com/news/business/money-report/cliff-asness-aqr-sees-multiple-hedge-funds-up-double-digits-in-2025-beating-the-market/3598692\n",
      " 7: 0.73 | https://pulse2.com/ivy-asset-group-evergreen-fund-passes-100-million-aum\n",
      " 8: 0.72 | https://www.cityam.com/jupiter-asset-management-launches-its-first-hedge-fund\n",
      " 9: 0.71 | https://keyt.com/news/money-and-business/cnn-business-consumer/2025/06/09/hedge-funds-could-make-billions-from-a-fannie-mae-and-freddie-mac-spin-off\n"
     ]
    }
   ],
   "source": [
    "# You can also enumerate through the results\n",
    "for idx, result in enumerate(results):\n",
    "    print(f\"{idx:2}: {result.similarity:.2f} | {result.url}\")"
   ]
  },
  {
   "cell_type": "markdown",
   "id": "d167eba9",
   "metadata": {},
   "source": [
    "## Advanced Search\n",
    "\n",
    "### Search Algorithms\n",
    "\n",
    "The types of algorithms to use when scoring search results.\n",
    "\n",
    "- **lexical**: Perform a standard keyword search using BM25 scoring.\n",
    "- **string**: Runs an exact-match full-text search, returning only documents that contain your query verbatim.\n",
    "- **hybrid-1**: First executes a semantic search to capture conceptual matches, then refines the results with a lexical search.\n",
    "- **hybrid-2**: First use lexical search to narrow results, then refines the results with a semantic search."
   ]
  },
  {
   "cell_type": "code",
   "execution_count": 23,
   "id": "879498cd",
   "metadata": {},
   "outputs": [
    {
     "name": "stdout",
     "output_type": "stream",
     "text": [
      "Idx | Similarity | Title\n",
      "------------------------\n",
      "  0 |   1.00 | This Dubious Milestone Might Be Nvidia's Biggest Red Flag to Date -- Should Investors Be Worried?\n",
      "  1 |   0.95 | Nvidia briefly joins the $1t club\n",
      "  2 |   0.94 | OpenAI's Stargate AI Venture Is Scouting for US Data Center Sites\n",
      "  3 |   0.94 | OpenAI's Stargate AI venture is scouting for US data center sites\n",
      "  4 |   0.92 | Nvidia stock tumbled and Apple climbed in a 'Magnificent Seven' shakeup\n",
      "  5 |   0.91 | Reports: Nvidia could offer $32B+ for Arm amid 'advanced' acquisition talks - SiliconANGLE\n",
      "  6 |   0.91 | Nvidia's 54 percent plunge this quarter makes it the biggest loser in S&P 500\n",
      "  7 |   0.90 | Nvidia: 1 Stellar Reason to Buy the Latest Dip\n",
      "  8 |   0.90 | Nvidia Insiders Sell Over $1 Billion in Stock Amid AI-Fueled Rally - EconoTimes\n",
      "  9 |   0.88 | Nvidia buying ARM could mean GeForce GPUs are coming to smartphones\n"
     ]
    }
   ],
   "source": [
    "with Nosible() as nos:\n",
    "    results = nos.search(\n",
    "        question=\"Nvidia insiders dump more than $1 billion in stock\",\n",
    "        n_results=10,\n",
    "        algorithm=\"lexical\",  # Using lexical search algorithm\n",
    "    )\n",
    "\n",
    "print(results)"
   ]
  },
  {
   "cell_type": "code",
   "execution_count": 24,
   "id": "d50436e8",
   "metadata": {},
   "outputs": [
    {
     "name": "stdout",
     "output_type": "stream",
     "text": [
      "Idx | Similarity | Title\n",
      "------------------------\n",
      "  0 |   0.83 | Nvidia Insiders Sold Over $1 Billion In Stock Amid Market Surge, FT Reports\n",
      "  1 |   0.83 | Nvidia Insiders Continue To Sell Shares After Hitting All-Time Highs, $1 Trillion Market Cap: What Invest\n",
      "  2 |   0.81 | Nvidia insiders sold over $1 billion in stock amid market surge, FT reports\n",
      "  3 |   0.81 | Nvidia insiders sold over $1bn in stock amid market surge, FT reports\n",
      "  4 |   0.81 | Nvidia CEO Jensen Huang Offloads More Shares Amid 211% Year-to-Date Rally In Stock - NVIDIA (NASDAQ:NVDA)\n",
      "  5 |   0.80 | Nvidia insiders cash out over $1 billion as AI stock soars, $500 million sold just last month - what it me\n",
      "  6 |   0.80 | Nvidia insiders sell over $1bn in stock as shares hit record highs\n",
      "  7 |   0.79 | Nvidia Insiders Sell Over $1 Billion in Stock Amid AI-Fueled Rally - EconoTimes\n",
      "  8 |   0.79 | Nvidia insiders sold over $1 bln in stock amid surge: report\n",
      "  9 |   0.77 | Nvidia insiders sold over $1 billion in stock amid market surge: Report\n"
     ]
    }
   ],
   "source": [
    "with Nosible() as nos:\n",
    "    results = nos.search(\n",
    "        question=\"Nvidia insiders dump more than $1 billion in stock\",\n",
    "        n_results=10,\n",
    "        algorithm=\"hybrid-1\",  # Using the hybrid-1 search algorithm\n",
    "    )\n",
    "\n",
    "print(results)"
   ]
  },
  {
   "cell_type": "markdown",
   "id": "2f54f101",
   "metadata": {},
   "source": [
    "## Expansions\n",
    "\n",
    "**Prompt expansions** are questions **lexically** and **semantically similar** to your main question. Expansions are added alongside your search query to improve your search results. You can add up to 10 expansions per search.\n",
    "\n",
    "- You can add you **own expansions** by passing a list of strings to the `expansions` parameter.\n",
    "- You can also get your expansions automatically generated by setting `autogenerate_expansions` to `True` when running the search.\n",
    "    - For expansions to be generated, you will need the `LLM_API_KEY` to be set in the environment or passed to the `Nosible` constructor.\n",
    "    - The LLM used is **Amazon Nova Micro Model**."
   ]
  },
  {
   "cell_type": "code",
   "execution_count": 25,
   "id": "9396259c",
   "metadata": {},
   "outputs": [
    {
     "name": "stdout",
     "output_type": "stream",
     "text": [
      "Idx | Similarity | Title\n",
      "------------------------\n",
      "  0 |   0.86 | Even the White House Admits Trump's Tariffs Are Hurting U.S. Manufacturing\n",
      "  1 |   0.84 | Steel and aluminum are central to American life. These are the industries and products that will be impacted b\n",
      "  2 |   0.84 | Trump's New Tariffs on Canadian Steel and Aluminum Trigger Global Markets Crash: Bitcoin Plunges 4%, Nasdaq and S&P 500 Tumble as Trade War Escalates!\n",
      "  3 |   0.84 | U.S. Manufacturers Report Surge in Business Following President Trump's Tariffs on China [WATCH]\n",
      "  4 |   0.83 | Trump's Tariffs Are Hurting US Competitiveness\n",
      "  5 |   0.83 | How Will Trump's Universal and China Tariffs Impact the Economy?\n",
      "  6 |   0.83 | Trump's tariffs and their hidden impact on working-class Americans: Rising prices, job losses, and economi\n",
      "  7 |   0.83 | Trump's tariffs and their hidden impact on working-class Americans: Rising prices, job losses, and economi\n",
      "  8 |   0.82 | Trump 245% Tariff on China and Stock Market effect - Telangana NavaNirmana Sena\n",
      "  9 |   0.82 | Report: US GDP Will Lose $290 Billion to Tariffs\n"
     ]
    }
   ],
   "source": [
    "# Example of using your own expansions\n",
    "with Nosible() as nos:\n",
    "    results = nos.search(\n",
    "        question=\"How have the Trump tariffs impacted the US economy?\",\n",
    "        expansions=[\n",
    "            \"What are the consequences of Trump's 2018 steel and aluminum tariffs on American manufacturers?\",\n",
    "            \"How did Donald Trump's tariffs on Chinese imports influence US import prices and inflation?\",\n",
    "            \"What impact did the Section 232 tariffs under President Trump have on US agricultural exports?\",\n",
    "            \"In what ways have Trump's trade duties affected employment levels in the US automotive sector?\",\n",
    "            \"How have the tariffs imposed by the Trump administration altered American consumer goods pricing nationwide?\",\n",
    "            \"What economic outcomes resulted from President Trump's protective tariffs for the United States economy?\",\n",
    "            \"How did Trump's solar panel tariffs change investment trends in the US energy market?\",\n",
    "            \"What have been the financial effects of Trump's Section 301 tariffs on Chinese electronics imports?\",\n",
    "            \"How did Trump's trade barriers influence GDP growth and trade deficits in the United States?\",\n",
    "            \"In what manner did Donald Trump's import taxes reshape competitiveness of US steel producers globally?\",\n",
    "        ],\n",
    "        n_results=10,\n",
    "    )\n",
    "\n",
    "print(results)"
   ]
  },
  {
   "cell_type": "markdown",
   "id": "86bb2025",
   "metadata": {},
   "source": [
    "### Automatic Expansions"
   ]
  },
  {
   "cell_type": "code",
   "execution_count": 26,
   "id": "9189baef",
   "metadata": {},
   "outputs": [
    {
     "name": "stdout",
     "output_type": "stream",
     "text": [
      "Idx | Similarity | Title\n",
      "------------------------\n",
      "  0 |   0.93 | Trump's Tariffs Could Pose Challenges for the US Economy and the Federal Reserve\n",
      "  1 |   0.90 | Trump's tariffs and their hidden impact on working-class Americans: Rising prices, job losses, and economi\n",
      "  2 |   0.90 | Fed report: Tariffs contribute to job losses, increased production costs\n",
      "  3 |   0.90 | How Trump Tariffs Impact the Global Economy and USD to CNH\n",
      "  4 |   0.90 | Trump's tariffs and their hidden impact on working-class Americans: Rising prices, job losses, and economi\n",
      "  5 |   0.90 | Trump's Tariff Effect: What It Means For The US Economy\n",
      "  6 |   0.90 | The Impact of Tariffs and Trade Wars on the US Economy and the Dollar\n",
      "  7 |   0.89 | Impact of Trump tariffs on US and Global economy\n",
      "  8 |   0.88 | The Impact of Tariffs and Trade Wars on the US Economy and the Dollar\n",
      "  9 |   0.88 | Trump's Tariffs Cost the U.S. Economy $1.4 Billion Every Month\n"
     ]
    }
   ],
   "source": [
    "# Example of using automatically generated expansions.\n",
    "with Nosible() as nos:\n",
    "    results = nos.search(\n",
    "        question=\"How have the Trump tariffs impacted the US economy?\",\n",
    "        n_results=10,\n",
    "        autogenerate_expansions=True,  # Automatically generate expansions\n",
    "    )\n",
    "\n",
    "print(results)"
   ]
  },
  {
   "cell_type": "markdown",
   "id": "fec78fc1",
   "metadata": {},
   "source": [
    "### More filters\n",
    "To **narrow down your search**, you can also pre-filter your results you get back by specific publishers, date ranges, languages, and more without sacrificing search quality.\n",
    "\n",
    "- **published_start** and **published_end**: Filter articles by publication date.\n",
    "- **include_netlocs** and **exclude_netlocs**: Filter articles by specific domain names. e.g.  (`bbc.com`, `www.bbc.com`)\n",
    "- **include_companies** and **exclude_companies**: Filter articles by specific companies using their **Google Knowledge Graph IDs** e.g. Apple: `/m/0k8z`\n",
    "    - This **only works** for public companies that have a Google Knowledge Graph ID.\n",
    "- **include_languages** and **exclude_languages**: Filter articles by **specific languages**. e.g. (`en`, `fr`, `de`)\n",
    "\n",
    "##### Date Ranges\n",
    "You can specify a date range for your search results using the `published_start` and `published_end` parameters. These parameters accept dates in the format `YYYY-MM-DD`. If you only specify `published_start`, it will return results from that date onwards. If you only specify `published_end`, it will return results up to that date."
   ]
  },
  {
   "cell_type": "code",
   "execution_count": 27,
   "id": "74d323be",
   "metadata": {},
   "outputs": [
    {
     "name": "stdout",
     "output_type": "stream",
     "text": [
      " 0 | 0.86 | 2025-06-30 - Apple reportedly considers letting Anthropic and OpenAI power Siri\n",
      " 1 | 0.85 | 2025-07-01 - Apple May Use ChatGPT or Claude to Power Next-Generation AI Siri\n",
      " 2 | 0.85 | 2025-06-30 - Apple May Use Outside AI to Power Siri in Major Reversal\n",
      " 3 | 0.84 | 2025-06-30 - Apple May Use Outside AI to Power Siri in Major Reversal\n",
      " 4 | 0.83 | 2025-07-01 - Apple Wants ChatGPT-Like Intelligence for Siri, Could Use Private Cloud Hosting\n",
      " 5 | 0.83 | 2025-06-30 - Apple mulls using OpenAI or Anthropic to power Siri in big reversal: report\n",
      " 6 | 0.83 | 2025-07-01 - Apple weighs using Anthropic or OpenAI to power Siri in major reversal, Bloomberg News reports\n",
      " 7 | 0.83 | 2025-07-01 - Apple looks to AI firms to power Siri: Report\n",
      " 8 | 0.82 | 2025-06-30 - Apple may use ChatGPT or Claude to power its smarter Siri\n",
      " 9 | 0.82 | 2025-06-30 - To save Siri, Apple is reportedly looking to OpenAI or Anthropic\n"
     ]
    }
   ],
   "source": [
    "# Example of using date range filters.\n",
    "with Nosible() as nos:\n",
    "    results = nos.search(\n",
    "        question=\"Which company is Apple considering using to power Siri?\",\n",
    "        n_results=10,\n",
    "        publish_start=\"2025-06-01\",\n",
    "        publish_end=\"2025-07-31\",\n",
    "    )\n",
    "\n",
    "for idx, result in enumerate(results):\n",
    "    print(f\"{idx:2} | {result.similarity:.2f} | {result.published} - {result.title}\")"
   ]
  },
  {
   "cell_type": "markdown",
   "id": "9d41641a",
   "metadata": {},
   "source": [
    "### Domain Filters\n",
    "\n",
    "You can filter search results by specific domains using the `include_netlocs` and `exclude_netlocs` parameters. These parameters accept a list of domain names (e.g., `bbc.com`, `www.bbc.com`). If you specify `include_netlocs`, it will return results from those domains. If you specify `exclude_netlocs`, it will exclude results from those domains."
   ]
  },
  {
   "cell_type": "code",
   "execution_count": 28,
   "id": "e5c3db13",
   "metadata": {},
   "outputs": [
    {
     "name": "stdout",
     "output_type": "stream",
     "text": [
      " 0 | 0.82 | Apple may use ChatGPT or Claude to power its smarter Siri - https://tech.yahoo.com/ai/articles/apple-may-chatgpt-claude-power-232000462.html\n",
      " 1 | 0.82 | To save Siri, Apple is reportedly looking to OpenAI or Anthropic - https://tech.yahoo.com/ai/articles/save-siri-apple-reportedly-looking-230744864.html\n",
      " 2 | 0.81 | Apple Considers Replacing Its Own AI With ChatGPT or Anthropic's Claude - https://tech.yahoo.com/ai/articles/apple-considers-replacing-own-ai-211329436.html\n",
      " 3 | 0.79 | Apple makes a move to revive its Siri revamp — and the Vision Pro boss could play a part - https://tech.yahoo.com/phones/articles/apple-makes-move-revive-siri-002151141.html\n",
      " 4 | 0.76 | Apple weighs using Anthropic or OpenAI to power Siri in major reversal, Bloomberg News reports - https://tech.yahoo.com/ai/articles/apple-weighs-using-anthropic-openai-190047620.html\n",
      " 5 | 0.76 | Apple may power Siri with Anthropic or OpenAI models amid AI struggles - https://tech.yahoo.com/ai/articles/apple-may-power-siri-anthropic-212028812.html\n",
      " 6 | 0.74 | Apple's AI Research Has Failed So Spectacularly That It's Considering Just Letting OpenAI Power Siri - https://tech.yahoo.com/ai/articles/apples-ai-research-failed-spectacularly-131114417.html\n",
      " 7 | 0.73 | Apple explores using generative AI to design its chips — executive says 'it can be a huge productivity boost' - https://tech.yahoo.com/ai/articles/apple-explores-using-generative-ai-105145735.html\n",
      " 8 | 0.72 | Apple's AI-powered Siri reportedly has a new target date. Will it stick this time? - https://tech.yahoo.com/ai/articles/apple-ai-powered-siri-reportedly-222810003.html\n",
      " 9 | 0.71 | Apple should ditch Siri for Gemini and Google Cloud, here's why - https://tech.yahoo.com/ai/articles/apple-ditch-siri-gemini-google-070000929.html\n"
     ]
    }
   ],
   "source": [
    "# Example of including specific netlocs.\n",
    "# This will filter results to only include articles from the specified netlocs.\n",
    "with Nosible() as nos:\n",
    "    results = nos.search(\n",
    "        question=\"Which company is Apple considering using to power Siri?\",\n",
    "        n_results=10,\n",
    "        include_netlocs=[\"tech.yahoo.com\"]\n",
    "    )\n",
    "\n",
    "for idx, result in enumerate(results):\n",
    "    print(f\"{idx:2} | {result.similarity:.2f} | {result.title} - {result.url}\")"
   ]
  },
  {
   "cell_type": "markdown",
   "id": "9aa01bdc",
   "metadata": {},
   "source": [
    "### Filter by Companies\n",
    "You can filter search results by specific companies using their Google Knowledge Graph IDs. This is useful for retrieving articles related to specific public companies. For example, to filter results for Apple, you would use the ID `/m/0k8z`. \n",
    "- This only works for **public companies** that have a Google Knowledge Graph ID."
   ]
  },
  {
   "cell_type": "code",
   "execution_count": 29,
   "id": "a3ea545c",
   "metadata": {},
   "outputs": [
    {
     "name": "stdout",
     "output_type": "stream",
     "text": [
      " 0 | 0.87 | The Most Valuable Companies in the World - https://www.fingerlakes1.com/2021/08/17/the-most-valuable-companies-in-the-world\n",
      " 1 | 0.82 | Amazon Beats Apple To Become World's Most Valuable Brand: Check The Top 10 List - Trak.in - Indian Business of Tech, Mobile & Startups - https://trak.in/stories/amazon-beats-apple-to-become-worlds-most-valuable-brand-check-the-top-10-list\n",
      " 2 | 0.82 | Ranked: The 50 Most Valuable Companies in the World in 2024 - https://www.visualcapitalist.com/ranked-the-50-most-valuable-companies-in-the-world-in-2024\n",
      " 3 | 0.80 | Apple now becomes world's first $3 trillion company | DETAILS - https://www.indiatvnews.com/business/news/apple-is-now-the-first-public-company-to-be-valued-at-usd-3-trillion-business-news-iphone-steve-jobs-tim-cook-latest-updates-2023-07-01-878722\n",
      " 4 | 0.80 | Apple Dethroned As World's Most Valuable Company By THIS Tech Giant - DEATILS - https://www.timesnownews.com/business-economy/companies/nvidia-dethrones-apple-as-worlds-most-valuable-company-article-114594179\n",
      " 5 | 0.79 | Top world companies with highest market capitalisation – Apple, Microsoft, Aramco | Know where RIL stands - https://www.news9live.com/business/companies/top-world-companies-with-highest-market-capitalisation-apple-microsoft-aramco-know-where-ril-stands-2227862\n",
      " 6 | 0.79 | Top 10 most valuable car companies around the world right now - https://briefly.co.za/107273-top-10-valuable-car-companies-world.html\n",
      " 7 | 0.79 | 100 Most Valuable Brands in the World - https://finance.yahoo.com/news/100-most-valuable-brands-world-134605514.html\n",
      " 8 | 0.79 | Apple is now the first public company to be valued at $3 trillion - https://finance.yahoo.com/news/apple-close-becoming-first-public-182021964.html\n",
      " 9 | 0.79 | Microsoft on top, Boeing's deal, UK public debt - what's moving markets - https://uk.finance.yahoo.com/news/microsoft-top-boeings-deal-uk-041237468.html\n"
     ]
    }
   ],
   "source": [
    "# Example of filtering by companies.\n",
    "with Nosible() as nos:\n",
    "    results = nos.search(\n",
    "        question=\"What is the most valuable company in the world?\",\n",
    "        n_results=10,\n",
    "        include_companies=[\"/m/09rh_\", \"/m/045c7b\"],  # Nvidia, Apple\n",
    "    )\n",
    "\n",
    "for idx, result in enumerate(results):\n",
    "    print(f\"{idx:2} | {result.similarity:.2f} | {result.title} - {result.url}\")"
   ]
  },
  {
   "cell_type": "markdown",
   "id": "bdca5d20",
   "metadata": {},
   "source": [
    "### Language Filters\n",
    "You can filter search results by specific languages using the `include_languages` and `exclude_languages` parameters. This is useful for retrieving articles in a specific language. For example, to filter results for English articles, you would use `include_languages=[\"en\"]`.\n",
    "\n",
    "To see what languages are supported, please check out [the NOSIBLE docs](https://nosible-py.readthedocs.io/en/latest/)."
   ]
  },
  {
   "cell_type": "code",
   "execution_count": null,
   "id": "022857f7",
   "metadata": {},
   "outputs": [
    {
     "name": "stdout",
     "output_type": "stream",
     "text": [
      " 0 | 0.79 | Apple Pertimbangkan Siri Digunakan Saat Berbisik - Tekno Liputan6.com - https://www.liputan6.com/tekno/read/3197103/apple-pertimbangkan-siri-digunakan-saat-berbisik\n",
      " 1 | 0.73 | OS X 10.12 bringt angeblich Siri auf den Mac - https://www.heise.de/news/OS-X-10-12-bringt-angeblich-Siri-auf-den-Mac-3117164.html\n",
      " 2 | 0.72 | Кои устройства ще използват Apple Intelligence - https://www.vesti.bg/tehnologii/koi-ustrojstva-shte-izpolzvat-apple-intelligence-6201040\n",
      " 3 | 0.72 | Ups, Kontraktor Apple Ikut Dengarkan Rekaman Suara Pribadi Pengguna Siri - Tekno Liputan6.com - https://www.liputan6.com/tekno/read/4023682/ups-kontraktor-apple-ikut-dengarkan-rekaman-suara-pribadi-pengguna-siri\n",
      " 4 | 0.72 | Apple ведет переговоры с известной корпорацией о внедрении ИИ в свои смартфоны - https://www.rbc.ua/ukr/styler/apple-vede-peregovori-vidomoyu-korporatsieyu-1710846584.html\n",
      " 5 | 0.71 | Siri için Google Gemini desteği yolda! - https://shiftdelete.net/siri-icin-google-gemini-destegi-yolda\n",
      " 6 | 0.71 | Apples Siri soll Rivalin von Amazons Echo werden - https://www.merkur.de/multimedia/apple-will-siri-rivalin-amazon-echo-ausbauen-zr-6431842.html\n",
      " 7 | 0.71 | Apple plant angeblich Siri-SDK – und Lautsprecher mit Sprachassistenz - https://www.heise.de/news/Apple-plant-angeblich-Siri-SDK-und-Lautsprecher-mit-Sprachassistenz-3217664.html\n",
      " 8 | 0.71 | Siri, da Apple, vai passar a mandar mensagens no WhatsApp e chamar carro do Uber - https://www.gazetadopovo.com.br/economia/inteligencia-artificial/siri-da-apple-vai-passar-a-mandar-mensagens-no-whatsapp-e-chamar-carro-do-uber-ar42dw23qj0jqdxhk8ozv84ua\n",
      " 9 | 0.71 | Apple Masih Belum Beri Sinyal Rilis Fitur AI di Siri untuk Pengguna iPhone - Tekno Liputan6.com - https://www.liputan6.com/tekno/read/5978711/apple-masih-belum-beri-sinyal-rilis-fitur-ai-di-siri-untuk-pengguna-iphone\n"
     ]
    }
   ],
   "source": [
    "# Example of filtering by languages.\n",
    "with Nosible() as nos:\n",
    "    results = nos.search(\n",
    "        question=\"Which company is Apple considering using to power Siri?\",\n",
    "        n_results=10,\n",
    "        exclude_languages=[\"en\"],  # Excluding English articles\n",
    "    )\n",
    "\n",
    "for idx, result in enumerate(results):\n",
    "    print(f\"{idx:2} | {result.similarity:.2f} | {result.title} - {result.url}\")"
   ]
  },
  {
   "cell_type": "markdown",
   "id": "0905bfe3",
   "metadata": {},
   "source": [
    "## Combining Search Results\n",
    "\n",
    "You can easily combine search results from different searches."
   ]
  },
  {
   "cell_type": "code",
   "execution_count": null,
   "id": "043d4d75",
   "metadata": {},
   "outputs": [
    {
     "name": "stdout",
     "output_type": "stream",
     "text": [
      "Idx | Similarity | Title\n",
      "------------------------\n",
      "  0 |   0.93 | Uber Partners with Volkswagen to Launch Massive Fleet of Fully Autonomous Electric Vehicles\n",
      "  1 |   0.93 | Uber partners with Volkswagen to launch autonomous shared rides by 2026\n",
      "  2 |   0.92 | Volkswagen and Uber launch long-term strategic partnership to deploy autonomous ID. Buzz vehicles on the Uber platform\n",
      "  3 |   0.92 | Uber partners with Volkswagen to launch autonomous shared rides by 2026\n",
      "  4 |   0.91 | Volkswagen and Uber partner to deploy autonomous ID. Buzz vehicles on the Uber platform\n",
      "  5 |   0.91 | Volkswagen and Uber Launch Long-Term Strategic Partnership to Deploy Autonomous ID. Buzz Vehicles on the Uber Platform\n",
      "  6 |   0.90 | Uber, Volkswagen join forces to launch robotaxi service in US\n",
      "  7 |   0.90 | VW, Uber team up to offer autonomous ride-hailing service using ID Buzz\n",
      "  8 |   0.89 | Volkswagen And Uber Join Forces To Fight Tesla's Cybercab\n",
      "  9 |   0.87 | Uber Announces New Offers To Make Transportation More Affordable, Collaborates With Volkswagen\n",
      " 10 |   0.96 | Microsoft Eases Restrictions on OpenAI as USD500 Billion AI Venture Takes Shape\n",
      " 11 |   0.95 | Microsoft and OpenAI partner to develop artificial general intelligence | Digital Watch Observatory\n",
      " 12 |   0.94 | Microsoft and OpenAI deal fuels AI products, services on Azure\n",
      " 13 |   0.94 | OpenAI and Microsoft: Pioneering AI Innovations Together\n",
      " 14 |   0.94 | Microsoft and OpenAI dueling over artificial general intelligence, The Information reports\n",
      " 15 |   0.94 | Move over Elon Musk. Microsoft to invest $1bn in OpenAI\n",
      " 16 |   0.94 | OpenAI Signs Exclusive Computing Partnership With Microsoft In $1 Billion Deal\n",
      " 17 |   0.93 | Microsoft will pour $1B into OpenAI as part of a multiyear partnership\n",
      " 18 |   0.93 | Microsoft and OpenAI extend partnerships in AI supercomputing and research\n",
      " 19 |   0.93 | OpenAI Microsoft Extend Partnership to Continue AI Research\n"
     ]
    }
   ],
   "source": [
    "with Nosible() as nos:\n",
    "    s1 = nos.search(\n",
    "        question=\"What are the terms of the partnership between Volkswagen and Uber?\",\n",
    "        n_results=10,\n",
    "    )\n",
    "    s2 = nos.search(\n",
    "        question=\"What are the terms of the partnership between Microsoft and OpenAI?\",\n",
    "        n_results=10,\n",
    "    )\n",
    "\n",
    "\n",
    "combined = s1 + s2  # Combine the two search results.\n",
    "\n",
    "print(combined)"
   ]
  }
 ],
 "metadata": {
  "kernelspec": {
   "display_name": "nosible",
   "language": "python",
   "name": "python3"
  },
  "language_info": {
   "codemirror_mode": {
    "name": "ipython",
    "version": 3
   },
   "file_extension": ".py",
   "mimetype": "text/x-python",
   "name": "python",
   "nbconvert_exporter": "python",
   "pygments_lexer": "ipython3",
   "version": "3.10.16"
  }
 },
 "nbformat": 4,
 "nbformat_minor": 5
}
