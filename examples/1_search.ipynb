{
 "cells": [
  {
   "cell_type": "markdown",
   "id": "e20dd2d858d80b65",
   "metadata": {},
   "source": [
    "# Search\n",
    "\n",
    "The Search and Searches functions enables you to retrieve **up to 100** results for a single query. This is ideal for most use cases where you need to retrieve information quickly and efficiently.\n",
    "\n",
    "- Use the `search` method when you need between **10 and 100** results for a single query.\n",
    "- The same applies for the `searches` and `.similar()` methods.\n",
    "\n",
    "- A search will return a set of `Result` objects.\n",
    "- The `Result` object is used to represent a single search result and provides methods to access the result's properties.\n",
    "    - `url`: The URL of the search result.\n",
    "    - `title`: The title of the search result.\n",
    "    - `description`: A brief description or summary of the search result.\n",
    "    - `netloc`: The network location (domain) of the URL.\n",
    "    - `published`: The publication date of the search result.\n",
    "    - `visited`: The date and time when the result was visited.\n",
    "    - `author`: The author of the content.\n",
    "    - `content`: The main content or body of the search result.\n",
    "    - `language`: The language code of the content (e.g., 'en' for English).\n",
    "    - `similarity`: Similarity score with respect to a query or reference.\n",
    "\n",
    "They can be accessed directly from the `Result` object.\n",
    "```python\n",
    "print(result.title)\n",
    "```\n",
    "or\n",
    "```python\n",
    "print(result[\"title\"])\n",
    "```"
   ]
  },
  {
   "cell_type": "code",
   "execution_count": null,
   "id": "eb56f18b59e91ade",
   "metadata": {},
   "outputs": [],
   "source": []
  },
  {
   "cell_type": "markdown",
   "id": "f03ef73a",
   "metadata": {},
   "source": [
    "## Simple Search - Default Parameters"
   ]
  },
  {
   "cell_type": "code",
   "execution_count": null,
   "id": "e1db7659d57e5520",
   "metadata": {
    "ExecuteTime": {
     "end_time": "2025-08-15T10:12:16.350721Z",
     "start_time": "2025-08-15T10:12:13.514851Z"
    }
   },
   "outputs": [
    {
     "name": "stdout",
     "output_type": "stream",
     "text": [
      "Idx | Similarity | Title\n",
      "------------------------\n",
      "  0 |       0.91 | Millennium, Point72, Third Point to Enter Booming Private Credit Market\n",
      "  1 |       0.88 | Hedge Funds Increasingly Join The Private Markets Party\n",
      "  2 |       0.75 | Why Jamie Dimon says we 'may have seen peak private credit'—and why you should care\n",
      "  3 |       0.75 | Restructuring wave draws hedge fund interest in French PE-backed firms | Private Equity Insights\n",
      "  4 |       0.75 | Growth of Private Credit Risks Market Fragmentation\n",
      "  5 |       0.73 | Private equity fast-tracks finance grads amid Wall Street slowdown | Private Equity Insights\n",
      "  6 |       0.73 | How JPMorgan is betting on a risky lending boom it helped warn against\n",
      "  7 |       0.72 | Trends In The Private Credit Market And Broader Lending Dynamics\n",
      "  8 |       0.72 | Empowering Growth: The Resilience and Future of Private Debt \n",
      "  9 |       0.71 | Third Point Launches Private Credit Fund for Insurers\n"
     ]
    }
   ],
   "source": [
    "from nosible import Nosible\n",
    "\n",
    "# Simple search with just date and default parameters.\n",
    "with Nosible(nosible_api_key=\"REDACTED\") as nos:\n",
    "    results = nos.fast_search(\n",
    "        question=\"Hedge funds seek to expand into private credit\",\n",
    "        n_results=10,\n",
    "        publish_start=\"2025-06-01\",\n",
    "    )\n",
    "\n",
    "# Properties of results can be accessed directly.\n",
    "# Properties : url, title, description, netloc, published, visited, author, content, language, similarity, url_hash\n",
    "\n",
    "print(results)"
   ]
  },
  {
   "cell_type": "code",
   "execution_count": 2,
   "id": "90759bf7",
   "metadata": {
    "ExecuteTime": {
     "end_time": "2025-08-15T10:12:16.381699Z",
     "start_time": "2025-08-15T10:12:16.369230Z"
    }
   },
   "outputs": [
    {
     "name": "stdout",
     "output_type": "stream",
     "text": [
      "{\n",
      "  \"url\": \"https://coinfomania.com/millennium-point72-third-point-to-enter-booming-private-credit-market\",\n",
      "  \"title\": \"Millennium, Point72, Third Point to Enter Booming Private Credit Market\",\n",
      "  \"description\": \"Large hedge funds like Third Point, Point72, and Millennium Management are entering the private credit market. These firms are creating new funds focused on direct corporate lending outside traditional banking systems. Third Point is forming a listed fund called Third Point Private Capital Partners for this purpose. Millennium is preparing its first new fund in ... Read more\",\n",
      "  \"netloc\": \"coinfomania.com\",\n",
      "  \"published\": \"2025-06-30\",\n",
      "  \"visited\": \"2025-08-15\",\n",
      "  \"author\": \"Mikaeel\",\n",
      "  \"content\": \"Large hedge funds like Third Point, Point72, and Millennium Management are entering the private credit market. These firms are creating new funds focused on direct corporate lending outside traditional banking systems. Third Point is forming a listed fund called Third Point Private Capital Partners for this purpose. Millennium is preparing its first new fund in over 30 years. Point72 has hired experts like Todd Hirsch from Blackstone to expand its private credit operations. These changes reflect a shift in how hedge funds are adjusting strategies to compete in evolving financial sectors.\",\n",
      "  \"language\": \"en\",\n",
      "  \"similarity\": 0.9080491653861731,\n",
      "  \"url_hash\": \"W4_yiXS-3ey72tZInxnRiFp2\",\n",
      "  \"brand_safety\": null,\n",
      "  \"continent\": null,\n",
      "  \"region\": null,\n",
      "  \"country\": null,\n",
      "  \"sector\": null,\n",
      "  \"industry_group\": null,\n",
      "  \"industry\": null,\n",
      "  \"sub_industry\": null,\n",
      "  \"iab_tier_1\": null,\n",
      "  \"iab_tier_2\": null,\n",
      "  \"iab_tier_3\": null,\n",
      "  \"iab_tier_4\": null\n",
      "}\n",
      "0.9080491653861731\n",
      "coinfomania.com\n"
     ]
    }
   ],
   "source": [
    "# Accessing the content of the first result\n",
    "print(results[0])\n",
    "print(results[0].similarity)\n",
    "print(results[0][\"netloc\"])"
   ]
  },
  {
   "cell_type": "code",
   "execution_count": 3,
   "id": "f2e51ef4",
   "metadata": {
    "ExecuteTime": {
     "end_time": "2025-08-15T10:12:16.397708Z",
     "start_time": "2025-08-15T10:12:16.387731Z"
    }
   },
   "outputs": [
    {
     "name": "stdout",
     "output_type": "stream",
     "text": [
      " 0: 0.91 | https://coinfomania.com/millennium-point72-third-point-to-enter-booming-private-credit-market\n",
      " 1: 0.88 | https://www.familywealthreport.com/article.php/Hedge-Funds-Increasingly-Join-The-Private-Markets-Party\n",
      " 2: 0.75 | https://fortune.com/2025/07/16/jamie-dimon-what-is-private-credit-peak-jpmorgan-earnings\n",
      " 3: 0.75 | https://pe-insights.com/restructuring-wave-draws-hedge-fund-interest-in-french-pe-backed-firms\n",
      " 4: 0.75 | https://www.marketsmedia.com/growth-of-private-credit-risks-market-fragmentation\n",
      " 5: 0.73 | https://pe-insights.com/private-equity-fast-tracks-finance-grads-amid-wall-street-slowdown\n",
      " 6: 0.73 | https://www.moneycontrol.com/news/business/how-jpmorgan-is-betting-on-a-risky-lending-boom-it-helped-warn-against-13280883.html\n",
      " 7: 0.72 | https://www.mondaq.com/unitedstates/corporate-and-company-law/1657528/trends-in-the-private-credit-market-and-broader-lending-dynamics\n",
      " 8: 0.72 | https://home.cib.natixis.com/articles/empowering-growth-the-resilience-and-future-of-private-debt\n",
      " 9: 0.71 | https://www.marketsmedia.com/third-point-launches-private-credit-fund-for-insurance-companies\n"
     ]
    }
   ],
   "source": [
    "# You can also enumerate through the results\n",
    "for idx, result in enumerate(results):\n",
    "    print(f\"{idx:2}: {result.similarity:.2f} | {result.url}\")"
   ]
  },
  {
   "cell_type": "markdown",
   "id": "d167eba9",
   "metadata": {},
   "source": [
    "## Advanced Search\n",
    "\n",
    "### Search Algorithms\n",
    "\n",
    "The types of algorithms to use when scoring search results.\n",
    "\n",
    "- **lexical**: Perform a standard keyword search using BM25 scoring.\n",
    "- **string**: Runs an exact-match full-text search, returning only documents that contain your query verbatim.\n",
    "- **hybrid-1**: First executes a semantic search to capture conceptual matches, then refines the results with a lexical search.\n",
    "- **hybrid-2**: First use lexical search to narrow results, then refines the results with a semantic search."
   ]
  },
  {
   "cell_type": "code",
   "execution_count": null,
   "id": "879498cd",
   "metadata": {
    "ExecuteTime": {
     "end_time": "2025-08-15T10:12:18.886631Z",
     "start_time": "2025-08-15T10:12:16.414700Z"
    }
   },
   "outputs": [
    {
     "ename": "ValueError",
     "evalue": "Your API key is not valid.",
     "output_type": "error",
     "traceback": [
      "\u001b[1;31m---------------------------------------------------------------------------\u001b[0m",
      "\u001b[1;31mValueError\u001b[0m                                Traceback (most recent call last)",
      "Cell \u001b[1;32mIn[4], line 2\u001b[0m\n\u001b[0;32m      1\u001b[0m \u001b[38;5;28;01mwith\u001b[39;00m Nosible() \u001b[38;5;28;01mas\u001b[39;00m nos:\n\u001b[1;32m----> 2\u001b[0m     results \u001b[38;5;241m=\u001b[39m \u001b[43mnos\u001b[49m\u001b[38;5;241;43m.\u001b[39;49m\u001b[43msearch\u001b[49m\u001b[43m(\u001b[49m\n\u001b[0;32m      3\u001b[0m \u001b[43m        \u001b[49m\u001b[43mquestion\u001b[49m\u001b[38;5;241;43m=\u001b[39;49m\u001b[38;5;124;43m\"\u001b[39;49m\u001b[38;5;124;43mNvidia insiders dump more than $1 billion in stock\u001b[39;49m\u001b[38;5;124;43m\"\u001b[39;49m\u001b[43m,\u001b[49m\n\u001b[0;32m      4\u001b[0m \u001b[43m        \u001b[49m\u001b[43mn_results\u001b[49m\u001b[38;5;241;43m=\u001b[39;49m\u001b[38;5;241;43m10\u001b[39;49m\u001b[43m,\u001b[49m\n\u001b[0;32m      5\u001b[0m \u001b[43m        \u001b[49m\u001b[43malgorithm\u001b[49m\u001b[38;5;241;43m=\u001b[39;49m\u001b[38;5;124;43m\"\u001b[39;49m\u001b[38;5;124;43mlexical\u001b[39;49m\u001b[38;5;124;43m\"\u001b[39;49m\u001b[43m,\u001b[49m\u001b[43m  \u001b[49m\u001b[38;5;66;43;03m# Using lexical search algorithm\u001b[39;49;00m\n\u001b[0;32m      6\u001b[0m \u001b[43m    \u001b[49m\u001b[43m)\u001b[49m\n\u001b[0;32m      8\u001b[0m \u001b[38;5;28mprint\u001b[39m(results)\n",
      "File \u001b[1;32m~\\Desktop\\nosible-py\\src\\nosible\\nosible_client.py:484\u001b[0m, in \u001b[0;36mNosible.search\u001b[1;34m(self, search, question, expansions, sql_filter, n_results, n_probes, n_contextify, algorithm, min_similarity, must_include, must_exclude, autogenerate_expansions, publish_start, publish_end, include_netlocs, exclude_netlocs, visited_start, visited_end, certain, include_companies, exclude_companies, include_docs, exclude_docs, brand_safety, language, continent, region, country, sector, industry_group, industry, sub_industry, iab_tier_1, iab_tier_2, iab_tier_3, iab_tier_4, *args, **kwargs)\u001b[0m\n\u001b[0;32m    482\u001b[0m future \u001b[38;5;241m=\u001b[39m \u001b[38;5;28mself\u001b[39m\u001b[38;5;241m.\u001b[39m_executor\u001b[38;5;241m.\u001b[39msubmit(\u001b[38;5;28mself\u001b[39m\u001b[38;5;241m.\u001b[39m_search_single, search_obj)\n\u001b[0;32m    483\u001b[0m \u001b[38;5;28;01mtry\u001b[39;00m:\n\u001b[1;32m--> 484\u001b[0m     \u001b[38;5;28;01mreturn\u001b[39;00m \u001b[43mfuture\u001b[49m\u001b[38;5;241;43m.\u001b[39;49m\u001b[43mresult\u001b[49m\u001b[43m(\u001b[49m\u001b[43m)\u001b[49m\n\u001b[0;32m    485\u001b[0m \u001b[38;5;28;01mexcept\u001b[39;00m \u001b[38;5;167;01mValueError\u001b[39;00m:\n\u001b[0;32m    486\u001b[0m     \u001b[38;5;66;03m# Propagate our own \"too many results\" error directly.\u001b[39;00m\n\u001b[0;32m    487\u001b[0m     \u001b[38;5;28;01mraise\u001b[39;00m\n",
      "File \u001b[1;32m~\\anaconda3\\envs\\nosible\\lib\\concurrent\\futures\\_base.py:458\u001b[0m, in \u001b[0;36mFuture.result\u001b[1;34m(self, timeout)\u001b[0m\n\u001b[0;32m    456\u001b[0m     \u001b[38;5;28;01mraise\u001b[39;00m CancelledError()\n\u001b[0;32m    457\u001b[0m \u001b[38;5;28;01melif\u001b[39;00m \u001b[38;5;28mself\u001b[39m\u001b[38;5;241m.\u001b[39m_state \u001b[38;5;241m==\u001b[39m FINISHED:\n\u001b[1;32m--> 458\u001b[0m     \u001b[38;5;28;01mreturn\u001b[39;00m \u001b[38;5;28;43mself\u001b[39;49m\u001b[38;5;241;43m.\u001b[39;49m\u001b[43m__get_result\u001b[49m\u001b[43m(\u001b[49m\u001b[43m)\u001b[49m\n\u001b[0;32m    459\u001b[0m \u001b[38;5;28;01melse\u001b[39;00m:\n\u001b[0;32m    460\u001b[0m     \u001b[38;5;28;01mraise\u001b[39;00m \u001b[38;5;167;01mTimeoutError\u001b[39;00m()\n",
      "File \u001b[1;32m~\\anaconda3\\envs\\nosible\\lib\\concurrent\\futures\\_base.py:403\u001b[0m, in \u001b[0;36mFuture.__get_result\u001b[1;34m(self)\u001b[0m\n\u001b[0;32m    401\u001b[0m \u001b[38;5;28;01mif\u001b[39;00m \u001b[38;5;28mself\u001b[39m\u001b[38;5;241m.\u001b[39m_exception:\n\u001b[0;32m    402\u001b[0m     \u001b[38;5;28;01mtry\u001b[39;00m:\n\u001b[1;32m--> 403\u001b[0m         \u001b[38;5;28;01mraise\u001b[39;00m \u001b[38;5;28mself\u001b[39m\u001b[38;5;241m.\u001b[39m_exception\n\u001b[0;32m    404\u001b[0m     \u001b[38;5;28;01mfinally\u001b[39;00m:\n\u001b[0;32m    405\u001b[0m         \u001b[38;5;66;03m# Break a reference cycle with the exception in self._exception\u001b[39;00m\n\u001b[0;32m    406\u001b[0m         \u001b[38;5;28mself\u001b[39m \u001b[38;5;241m=\u001b[39m \u001b[38;5;28;01mNone\u001b[39;00m\n",
      "File \u001b[1;32m~\\anaconda3\\envs\\nosible\\lib\\concurrent\\futures\\thread.py:58\u001b[0m, in \u001b[0;36m_WorkItem.run\u001b[1;34m(self)\u001b[0m\n\u001b[0;32m     55\u001b[0m     \u001b[38;5;28;01mreturn\u001b[39;00m\n\u001b[0;32m     57\u001b[0m \u001b[38;5;28;01mtry\u001b[39;00m:\n\u001b[1;32m---> 58\u001b[0m     result \u001b[38;5;241m=\u001b[39m \u001b[38;5;28mself\u001b[39m\u001b[38;5;241m.\u001b[39mfn(\u001b[38;5;241m*\u001b[39m\u001b[38;5;28mself\u001b[39m\u001b[38;5;241m.\u001b[39margs, \u001b[38;5;241m*\u001b[39m\u001b[38;5;241m*\u001b[39m\u001b[38;5;28mself\u001b[39m\u001b[38;5;241m.\u001b[39mkwargs)\n\u001b[0;32m     59\u001b[0m \u001b[38;5;28;01mexcept\u001b[39;00m \u001b[38;5;167;01mBaseException\u001b[39;00m \u001b[38;5;28;01mas\u001b[39;00m exc:\n\u001b[0;32m     60\u001b[0m     \u001b[38;5;28mself\u001b[39m\u001b[38;5;241m.\u001b[39mfuture\u001b[38;5;241m.\u001b[39mset_exception(exc)\n",
      "File \u001b[1;32m~\\Desktop\\nosible-py\\src\\nosible\\utils\\rate_limiter.py:69\u001b[0m, in \u001b[0;36m_rate_limited.<locals>.deco.<locals>.wrapper\u001b[1;34m(self, *args, **kwargs)\u001b[0m\n\u001b[0;32m     67\u001b[0m \u001b[38;5;28;01mfor\u001b[39;00m rl \u001b[38;5;129;01min\u001b[39;00m \u001b[38;5;28mself\u001b[39m\u001b[38;5;241m.\u001b[39m_limiters[endpoint]:\n\u001b[0;32m     68\u001b[0m     rl\u001b[38;5;241m.\u001b[39macquire()\n\u001b[1;32m---> 69\u001b[0m \u001b[38;5;28;01mreturn\u001b[39;00m fn(\u001b[38;5;28mself\u001b[39m, \u001b[38;5;241m*\u001b[39margs, \u001b[38;5;241m*\u001b[39m\u001b[38;5;241m*\u001b[39mkwargs)\n",
      "File \u001b[1;32m~\\Desktop\\nosible-py\\src\\nosible\\nosible_client.py:885\u001b[0m, in \u001b[0;36mNosible._search_single\u001b[1;34m(self, search_obj)\u001b[0m\n\u001b[0;32m    882\u001b[0m     \u001b[38;5;28;01mif\u001b[39;00m val \u001b[38;5;129;01mis\u001b[39;00m \u001b[38;5;129;01mnot\u001b[39;00m \u001b[38;5;28;01mNone\u001b[39;00m:\n\u001b[0;32m    883\u001b[0m         payload[key] \u001b[38;5;241m=\u001b[39m val\n\u001b[1;32m--> 885\u001b[0m resp \u001b[38;5;241m=\u001b[39m \u001b[38;5;28;43mself\u001b[39;49m\u001b[38;5;241;43m.\u001b[39;49m\u001b[43m_post\u001b[49m\u001b[43m(\u001b[49m\u001b[43murl\u001b[49m\u001b[38;5;241;43m=\u001b[39;49m\u001b[38;5;124;43m\"\u001b[39;49m\u001b[38;5;124;43mhttps://www.nosible.ai/search/v1/fast-search\u001b[39;49m\u001b[38;5;124;43m\"\u001b[39;49m\u001b[43m,\u001b[49m\u001b[43m \u001b[49m\u001b[43mpayload\u001b[49m\u001b[38;5;241;43m=\u001b[39;49m\u001b[43mpayload\u001b[49m\u001b[43m)\u001b[49m\n\u001b[0;32m    886\u001b[0m resp\u001b[38;5;241m.\u001b[39mraise_for_status()\n\u001b[0;32m    887\u001b[0m items \u001b[38;5;241m=\u001b[39m resp\u001b[38;5;241m.\u001b[39mjson()\u001b[38;5;241m.\u001b[39mget(\u001b[38;5;124m\"\u001b[39m\u001b[38;5;124mresponse\u001b[39m\u001b[38;5;124m\"\u001b[39m, [])[:filter_responses]\n",
      "File \u001b[1;32m~\\anaconda3\\envs\\nosible\\lib\\site-packages\\tenacity\\__init__.py:338\u001b[0m, in \u001b[0;36mBaseRetrying.wraps.<locals>.wrapped_f\u001b[1;34m(*args, **kw)\u001b[0m\n\u001b[0;32m    336\u001b[0m copy \u001b[38;5;241m=\u001b[39m \u001b[38;5;28mself\u001b[39m\u001b[38;5;241m.\u001b[39mcopy()\n\u001b[0;32m    337\u001b[0m wrapped_f\u001b[38;5;241m.\u001b[39mstatistics \u001b[38;5;241m=\u001b[39m copy\u001b[38;5;241m.\u001b[39mstatistics  \u001b[38;5;66;03m# type: ignore[attr-defined]\u001b[39;00m\n\u001b[1;32m--> 338\u001b[0m \u001b[38;5;28;01mreturn\u001b[39;00m copy(f, \u001b[38;5;241m*\u001b[39margs, \u001b[38;5;241m*\u001b[39m\u001b[38;5;241m*\u001b[39mkw)\n",
      "File \u001b[1;32m~\\anaconda3\\envs\\nosible\\lib\\site-packages\\tenacity\\__init__.py:477\u001b[0m, in \u001b[0;36mRetrying.__call__\u001b[1;34m(self, fn, *args, **kwargs)\u001b[0m\n\u001b[0;32m    475\u001b[0m retry_state \u001b[38;5;241m=\u001b[39m RetryCallState(retry_object\u001b[38;5;241m=\u001b[39m\u001b[38;5;28mself\u001b[39m, fn\u001b[38;5;241m=\u001b[39mfn, args\u001b[38;5;241m=\u001b[39margs, kwargs\u001b[38;5;241m=\u001b[39mkwargs)\n\u001b[0;32m    476\u001b[0m \u001b[38;5;28;01mwhile\u001b[39;00m \u001b[38;5;28;01mTrue\u001b[39;00m:\n\u001b[1;32m--> 477\u001b[0m     do \u001b[38;5;241m=\u001b[39m \u001b[38;5;28;43mself\u001b[39;49m\u001b[38;5;241;43m.\u001b[39;49m\u001b[43miter\u001b[49m\u001b[43m(\u001b[49m\u001b[43mretry_state\u001b[49m\u001b[38;5;241;43m=\u001b[39;49m\u001b[43mretry_state\u001b[49m\u001b[43m)\u001b[49m\n\u001b[0;32m    478\u001b[0m     \u001b[38;5;28;01mif\u001b[39;00m \u001b[38;5;28misinstance\u001b[39m(do, DoAttempt):\n\u001b[0;32m    479\u001b[0m         \u001b[38;5;28;01mtry\u001b[39;00m:\n",
      "File \u001b[1;32m~\\anaconda3\\envs\\nosible\\lib\\site-packages\\tenacity\\__init__.py:378\u001b[0m, in \u001b[0;36mBaseRetrying.iter\u001b[1;34m(self, retry_state)\u001b[0m\n\u001b[0;32m    376\u001b[0m result \u001b[38;5;241m=\u001b[39m \u001b[38;5;28;01mNone\u001b[39;00m\n\u001b[0;32m    377\u001b[0m \u001b[38;5;28;01mfor\u001b[39;00m action \u001b[38;5;129;01min\u001b[39;00m \u001b[38;5;28mself\u001b[39m\u001b[38;5;241m.\u001b[39miter_state\u001b[38;5;241m.\u001b[39mactions:\n\u001b[1;32m--> 378\u001b[0m     result \u001b[38;5;241m=\u001b[39m \u001b[43maction\u001b[49m\u001b[43m(\u001b[49m\u001b[43mretry_state\u001b[49m\u001b[43m)\u001b[49m\n\u001b[0;32m    379\u001b[0m \u001b[38;5;28;01mreturn\u001b[39;00m result\n",
      "File \u001b[1;32m~\\anaconda3\\envs\\nosible\\lib\\site-packages\\tenacity\\__init__.py:400\u001b[0m, in \u001b[0;36mBaseRetrying._post_retry_check_actions.<locals>.<lambda>\u001b[1;34m(rs)\u001b[0m\n\u001b[0;32m    398\u001b[0m \u001b[38;5;28;01mdef\u001b[39;00m\u001b[38;5;250m \u001b[39m\u001b[38;5;21m_post_retry_check_actions\u001b[39m(\u001b[38;5;28mself\u001b[39m, retry_state: \u001b[38;5;124m\"\u001b[39m\u001b[38;5;124mRetryCallState\u001b[39m\u001b[38;5;124m\"\u001b[39m) \u001b[38;5;241m-\u001b[39m\u001b[38;5;241m>\u001b[39m \u001b[38;5;28;01mNone\u001b[39;00m:\n\u001b[0;32m    399\u001b[0m     \u001b[38;5;28;01mif\u001b[39;00m \u001b[38;5;129;01mnot\u001b[39;00m (\u001b[38;5;28mself\u001b[39m\u001b[38;5;241m.\u001b[39miter_state\u001b[38;5;241m.\u001b[39mis_explicit_retry \u001b[38;5;129;01mor\u001b[39;00m \u001b[38;5;28mself\u001b[39m\u001b[38;5;241m.\u001b[39miter_state\u001b[38;5;241m.\u001b[39mretry_run_result):\n\u001b[1;32m--> 400\u001b[0m         \u001b[38;5;28mself\u001b[39m\u001b[38;5;241m.\u001b[39m_add_action_func(\u001b[38;5;28;01mlambda\u001b[39;00m rs: \u001b[43mrs\u001b[49m\u001b[38;5;241;43m.\u001b[39;49m\u001b[43moutcome\u001b[49m\u001b[38;5;241;43m.\u001b[39;49m\u001b[43mresult\u001b[49m\u001b[43m(\u001b[49m\u001b[43m)\u001b[49m)\n\u001b[0;32m    401\u001b[0m         \u001b[38;5;28;01mreturn\u001b[39;00m\n\u001b[0;32m    403\u001b[0m     \u001b[38;5;28;01mif\u001b[39;00m \u001b[38;5;28mself\u001b[39m\u001b[38;5;241m.\u001b[39mafter \u001b[38;5;129;01mis\u001b[39;00m \u001b[38;5;129;01mnot\u001b[39;00m \u001b[38;5;28;01mNone\u001b[39;00m:\n",
      "File \u001b[1;32m~\\anaconda3\\envs\\nosible\\lib\\concurrent\\futures\\_base.py:451\u001b[0m, in \u001b[0;36mFuture.result\u001b[1;34m(self, timeout)\u001b[0m\n\u001b[0;32m    449\u001b[0m     \u001b[38;5;28;01mraise\u001b[39;00m CancelledError()\n\u001b[0;32m    450\u001b[0m \u001b[38;5;28;01melif\u001b[39;00m \u001b[38;5;28mself\u001b[39m\u001b[38;5;241m.\u001b[39m_state \u001b[38;5;241m==\u001b[39m FINISHED:\n\u001b[1;32m--> 451\u001b[0m     \u001b[38;5;28;01mreturn\u001b[39;00m \u001b[38;5;28;43mself\u001b[39;49m\u001b[38;5;241;43m.\u001b[39;49m\u001b[43m__get_result\u001b[49m\u001b[43m(\u001b[49m\u001b[43m)\u001b[49m\n\u001b[0;32m    453\u001b[0m \u001b[38;5;28mself\u001b[39m\u001b[38;5;241m.\u001b[39m_condition\u001b[38;5;241m.\u001b[39mwait(timeout)\n\u001b[0;32m    455\u001b[0m \u001b[38;5;28;01mif\u001b[39;00m \u001b[38;5;28mself\u001b[39m\u001b[38;5;241m.\u001b[39m_state \u001b[38;5;129;01min\u001b[39;00m [CANCELLED, CANCELLED_AND_NOTIFIED]:\n",
      "File \u001b[1;32m~\\anaconda3\\envs\\nosible\\lib\\concurrent\\futures\\_base.py:403\u001b[0m, in \u001b[0;36mFuture.__get_result\u001b[1;34m(self)\u001b[0m\n\u001b[0;32m    401\u001b[0m \u001b[38;5;28;01mif\u001b[39;00m \u001b[38;5;28mself\u001b[39m\u001b[38;5;241m.\u001b[39m_exception:\n\u001b[0;32m    402\u001b[0m     \u001b[38;5;28;01mtry\u001b[39;00m:\n\u001b[1;32m--> 403\u001b[0m         \u001b[38;5;28;01mraise\u001b[39;00m \u001b[38;5;28mself\u001b[39m\u001b[38;5;241m.\u001b[39m_exception\n\u001b[0;32m    404\u001b[0m     \u001b[38;5;28;01mfinally\u001b[39;00m:\n\u001b[0;32m    405\u001b[0m         \u001b[38;5;66;03m# Break a reference cycle with the exception in self._exception\u001b[39;00m\n\u001b[0;32m    406\u001b[0m         \u001b[38;5;28mself\u001b[39m \u001b[38;5;241m=\u001b[39m \u001b[38;5;28;01mNone\u001b[39;00m\n",
      "File \u001b[1;32m~\\anaconda3\\envs\\nosible\\lib\\site-packages\\tenacity\\__init__.py:480\u001b[0m, in \u001b[0;36mRetrying.__call__\u001b[1;34m(self, fn, *args, **kwargs)\u001b[0m\n\u001b[0;32m    478\u001b[0m \u001b[38;5;28;01mif\u001b[39;00m \u001b[38;5;28misinstance\u001b[39m(do, DoAttempt):\n\u001b[0;32m    479\u001b[0m     \u001b[38;5;28;01mtry\u001b[39;00m:\n\u001b[1;32m--> 480\u001b[0m         result \u001b[38;5;241m=\u001b[39m fn(\u001b[38;5;241m*\u001b[39margs, \u001b[38;5;241m*\u001b[39m\u001b[38;5;241m*\u001b[39mkwargs)\n\u001b[0;32m    481\u001b[0m     \u001b[38;5;28;01mexcept\u001b[39;00m \u001b[38;5;167;01mBaseException\u001b[39;00m:  \u001b[38;5;66;03m# noqa: B902\u001b[39;00m\n\u001b[0;32m    482\u001b[0m         retry_state\u001b[38;5;241m.\u001b[39mset_exception(sys\u001b[38;5;241m.\u001b[39mexc_info())  \u001b[38;5;66;03m# type: ignore[arg-type]\u001b[39;00m\n",
      "File \u001b[1;32m~\\Desktop\\nosible-py\\src\\nosible\\nosible_client.py:1832\u001b[0m, in \u001b[0;36mNosible._post\u001b[1;34m(self, url, payload, headers, timeout)\u001b[0m\n\u001b[0;32m   1830\u001b[0m \u001b[38;5;66;03m# If unauthorized, or if the payload is string too short, treat as invalid API key\u001b[39;00m\n\u001b[0;32m   1831\u001b[0m \u001b[38;5;28;01mif\u001b[39;00m response\u001b[38;5;241m.\u001b[39mstatus_code \u001b[38;5;241m==\u001b[39m \u001b[38;5;241m401\u001b[39m:\n\u001b[1;32m-> 1832\u001b[0m     \u001b[38;5;28;01mraise\u001b[39;00m \u001b[38;5;167;01mValueError\u001b[39;00m(\u001b[38;5;124m\"\u001b[39m\u001b[38;5;124mYour API key is not valid.\u001b[39m\u001b[38;5;124m\"\u001b[39m)\n\u001b[0;32m   1833\u001b[0m \u001b[38;5;28;01mif\u001b[39;00m response\u001b[38;5;241m.\u001b[39mstatus_code \u001b[38;5;241m==\u001b[39m \u001b[38;5;241m422\u001b[39m:\n\u001b[0;32m   1834\u001b[0m     content_type \u001b[38;5;241m=\u001b[39m response\u001b[38;5;241m.\u001b[39mheaders\u001b[38;5;241m.\u001b[39mget(\u001b[38;5;124m\"\u001b[39m\u001b[38;5;124mContent-Type\u001b[39m\u001b[38;5;124m\"\u001b[39m, \u001b[38;5;124m\"\u001b[39m\u001b[38;5;124m\"\u001b[39m)\n",
      "\u001b[1;31mValueError\u001b[0m: Your API key is not valid."
     ]
    }
   ],
   "source": [
    "with Nosible() as nos:\n",
    "    results = nos.fast_search(\n",
    "        question=\"Nvidia insiders dump more than $1 billion in stock\",\n",
    "        n_results=10,\n",
    "        algorithm=\"lexical\",  # Using lexical search algorithm\n",
    "    )\n",
    "\n",
    "print(results)"
   ]
  },
  {
   "cell_type": "code",
   "execution_count": null,
   "id": "d50436e8",
   "metadata": {},
   "outputs": [
    {
     "name": "stdout",
     "output_type": "stream",
     "text": [
      "Idx | Similarity | Title\n",
      "------------------------\n",
      "  0 |   0.83 | Nvidia Insiders Sold Over $1 Billion In Stock Amid Market Surge, FT Reports\n",
      "  1 |   0.83 | Nvidia Insiders Continue To Sell Shares After Hitting All-Time Highs, $1 Trillion Market Cap: What Invest\n",
      "  2 |   0.81 | Nvidia insiders sold over $1 billion in stock amid market surge, FT reports\n",
      "  3 |   0.81 | Nvidia insiders sold over $1bn in stock amid market surge, FT reports\n",
      "  4 |   0.81 | Nvidia CEO Jensen Huang Offloads More Shares Amid 211% Year-to-Date Rally In Stock - NVIDIA (NASDAQ:NVDA)\n",
      "  5 |   0.80 | Nvidia insiders cash out over $1 billion as AI stock soars, $500 million sold just last month - what it me\n",
      "  6 |   0.80 | Nvidia insiders sell over $1bn in stock as shares hit record highs\n",
      "  7 |   0.79 | Nvidia Insiders Sell Over $1 Billion in Stock Amid AI-Fueled Rally - EconoTimes\n",
      "  8 |   0.79 | Nvidia insiders sold over $1 bln in stock amid surge: report\n",
      "  9 |   0.77 | Nvidia insiders sold over $1 billion in stock amid market surge: Report\n"
     ]
    }
   ],
   "source": [
    "with Nosible() as nos:\n",
    "    results = nos.fast_search(\n",
    "        question=\"Nvidia insiders dump more than $1 billion in stock\",\n",
    "        n_results=10,\n",
    "        algorithm=\"hybrid-1\",  # Using the hybrid-1 search algorithm\n",
    "    )\n",
    "\n",
    "print(results)"
   ]
  },
  {
   "cell_type": "markdown",
   "id": "2f54f101",
   "metadata": {},
   "source": [
    "## Expansions\n",
    "\n",
    "**Prompt expansions** are questions **lexically** and **semantically similar** to your main question. Expansions are added alongside your search query to improve your search results. You can add up to 10 expansions per search.\n",
    "\n",
    "- You can add you **own expansions** by passing a list of strings to the `expansions` parameter.\n",
    "- You can also get your expansions automatically generated by setting `autogenerate_expansions` to `True` when running the search.\n",
    "    - For expansions to be generated, you will need the `LLM_API_KEY` to be set in the environment or passed to the `Nosible` constructor.\n",
    "    - The LLM used is **Amazon Nova Micro Model**."
   ]
  },
  {
   "cell_type": "code",
   "execution_count": null,
   "id": "9396259c",
   "metadata": {},
   "outputs": [
    {
     "name": "stdout",
     "output_type": "stream",
     "text": [
      "Idx | Similarity | Title\n",
      "------------------------\n",
      "  0 |   0.86 | Even the White House Admits Trump's Tariffs Are Hurting U.S. Manufacturing\n",
      "  1 |   0.84 | Steel and aluminum are central to American life. These are the industries and products that will be impacted b\n",
      "  2 |   0.84 | Trump's New Tariffs on Canadian Steel and Aluminum Trigger Global Markets Crash: Bitcoin Plunges 4%, Nasdaq and S&P 500 Tumble as Trade War Escalates!\n",
      "  3 |   0.84 | U.S. Manufacturers Report Surge in Business Following President Trump's Tariffs on China [WATCH]\n",
      "  4 |   0.83 | Trump's Tariffs Are Hurting US Competitiveness\n",
      "  5 |   0.83 | How Will Trump's Universal and China Tariffs Impact the Economy?\n",
      "  6 |   0.83 | Trump's tariffs and their hidden impact on working-class Americans: Rising prices, job losses, and economi\n",
      "  7 |   0.83 | Trump's tariffs and their hidden impact on working-class Americans: Rising prices, job losses, and economi\n",
      "  8 |   0.82 | Trump 245% Tariff on China and Stock Market effect - Telangana NavaNirmana Sena\n",
      "  9 |   0.82 | Report: US GDP Will Lose $290 Billion to Tariffs\n"
     ]
    }
   ],
   "source": [
    "# Example of using your own expansions\n",
    "with Nosible() as nos:\n",
    "    results = nos.fast_search(\n",
    "        question=\"How have the Trump tariffs impacted the US economy?\",\n",
    "        expansions=[\n",
    "            \"What are the consequences of Trump's 2018 steel and aluminum tariffs on American manufacturers?\",\n",
    "            \"How did Donald Trump's tariffs on Chinese imports influence US import prices and inflation?\",\n",
    "            \"What impact did the Section 232 tariffs under President Trump have on US agricultural exports?\",\n",
    "            \"In what ways have Trump's trade duties affected employment levels in the US automotive sector?\",\n",
    "            \"How have the tariffs imposed by the Trump administration altered American consumer goods pricing nationwide?\",\n",
    "            \"What economic outcomes resulted from President Trump's protective tariffs for the United States economy?\",\n",
    "            \"How did Trump's solar panel tariffs change investment trends in the US energy market?\",\n",
    "            \"What have been the financial effects of Trump's Section 301 tariffs on Chinese electronics imports?\",\n",
    "            \"How did Trump's trade barriers influence GDP growth and trade deficits in the United States?\",\n",
    "            \"In what manner did Donald Trump's import taxes reshape competitiveness of US steel producers globally?\",\n",
    "        ],\n",
    "        n_results=10,\n",
    "    )\n",
    "\n",
    "print(results)"
   ]
  },
  {
   "cell_type": "markdown",
   "id": "86bb2025",
   "metadata": {},
   "source": [
    "### Automatic Expansions\n",
    "\n",
    "You can change the model that does the expansions by changing the argument ``expansions_model``"
   ]
  },
  {
   "cell_type": "code",
   "execution_count": null,
   "id": "9189baef",
   "metadata": {},
   "outputs": [
    {
     "name": "stdout",
     "output_type": "stream",
     "text": [
      "Idx | Similarity | Title\n",
      "------------------------\n",
      "  0 |   0.93 | Trump's Tariffs Could Pose Challenges for the US Economy and the Federal Reserve\n",
      "  1 |   0.90 | Trump's tariffs and their hidden impact on working-class Americans: Rising prices, job losses, and economi\n",
      "  2 |   0.90 | Fed report: Tariffs contribute to job losses, increased production costs\n",
      "  3 |   0.90 | How Trump Tariffs Impact the Global Economy and USD to CNH\n",
      "  4 |   0.90 | Trump's tariffs and their hidden impact on working-class Americans: Rising prices, job losses, and economi\n",
      "  5 |   0.90 | Trump's Tariff Effect: What It Means For The US Economy\n",
      "  6 |   0.90 | The Impact of Tariffs and Trade Wars on the US Economy and the Dollar\n",
      "  7 |   0.89 | Impact of Trump tariffs on US and Global economy\n",
      "  8 |   0.88 | The Impact of Tariffs and Trade Wars on the US Economy and the Dollar\n",
      "  9 |   0.88 | Trump's Tariffs Cost the U.S. Economy $1.4 Billion Every Month\n"
     ]
    }
   ],
   "source": [
    "# Example of using automatically generated expansions.\n",
    "with Nosible() as nos:\n",
    "    results = nos.fast_search(\n",
    "        question=\"How have the Trump tariffs impacted the US economy?\",\n",
    "        n_results=10,\n",
    "        autogenerate_expansions=True,  # Automatically generate expansions\n",
    "    )\n",
    "\n",
    "print(results)"
   ]
  },
  {
   "cell_type": "markdown",
   "id": "fec78fc1",
   "metadata": {},
   "source": [
    "### More filters\n",
    "To **narrow down your search**, you can also pre-filter your results you get back by specific publishers, date ranges, languages, and more without sacrificing search quality.\n",
    "\n",
    "- **published_start** and **published_end**: Filter articles by publication date.\n",
    "- **include_netlocs** and **exclude_netlocs**: Filter articles by specific domain names. e.g.  (`bbc.com`, `www.bbc.com`)\n",
    "- **include_companies** and **exclude_companies**: Filter articles by specific companies using their **Google Knowledge Graph IDs** e.g. Apple: `/m/0k8z`\n",
    "    - This **only works** for public companies that have a Google Knowledge Graph ID.\n",
    "- **language**: Filter articles by a **specific language**. e.g. (`en`, `fr`, `de`)\n",
    "\n",
    "##### Date Ranges\n",
    "You can specify a date range for your search results using the `published_start` and `published_end` parameters. These parameters accept dates in the format `YYYY-MM-DD`. If you only specify `published_start`, it will return results from that date onwards. If you only specify `published_end`, it will return results up to that date."
   ]
  },
  {
   "cell_type": "code",
   "execution_count": null,
   "id": "74d323be",
   "metadata": {},
   "outputs": [
    {
     "name": "stdout",
     "output_type": "stream",
     "text": [
      " 0 | 0.86 | 2025-06-30 - Apple reportedly considers letting Anthropic and OpenAI power Siri\n",
      " 1 | 0.85 | 2025-07-01 - Apple May Use ChatGPT or Claude to Power Next-Generation AI Siri\n",
      " 2 | 0.85 | 2025-06-30 - Apple May Use Outside AI to Power Siri in Major Reversal\n",
      " 3 | 0.84 | 2025-06-30 - Apple May Use Outside AI to Power Siri in Major Reversal\n",
      " 4 | 0.83 | 2025-07-01 - Apple Wants ChatGPT-Like Intelligence for Siri, Could Use Private Cloud Hosting\n",
      " 5 | 0.83 | 2025-06-30 - Apple mulls using OpenAI or Anthropic to power Siri in big reversal: report\n",
      " 6 | 0.83 | 2025-07-01 - Apple weighs using Anthropic or OpenAI to power Siri in major reversal, Bloomberg News reports\n",
      " 7 | 0.83 | 2025-07-01 - Apple looks to AI firms to power Siri: Report\n",
      " 8 | 0.82 | 2025-06-30 - Apple may use ChatGPT or Claude to power its smarter Siri\n",
      " 9 | 0.82 | 2025-06-30 - To save Siri, Apple is reportedly looking to OpenAI or Anthropic\n"
     ]
    }
   ],
   "source": [
    "# Example of using date range filters.\n",
    "with Nosible() as nos:\n",
    "    results = nos.fast_search(\n",
    "        question=\"Which company is Apple considering using to power Siri?\",\n",
    "        n_results=10,\n",
    "        publish_start=\"2025-06-01\",\n",
    "        publish_end=\"2025-07-31\",\n",
    "    )\n",
    "\n",
    "for idx, result in enumerate(results):\n",
    "    print(f\"{idx:2} | {result.similarity:.2f} | {result.published} - {result.title}\")"
   ]
  },
  {
   "cell_type": "markdown",
   "id": "9d41641a",
   "metadata": {},
   "source": [
    "### Domain Filters\n",
    "\n",
    "You can filter search results by specific domains using the `include_netlocs` and `exclude_netlocs` parameters. These parameters accept a list of domain names (e.g., `bbc.com`, `www.bbc.com`). If you specify `include_netlocs`, it will return results from those domains. If you specify `exclude_netlocs`, it will exclude results from those domains."
   ]
  },
  {
   "cell_type": "code",
   "execution_count": null,
   "id": "e5c3db13",
   "metadata": {},
   "outputs": [
    {
     "name": "stdout",
     "output_type": "stream",
     "text": [
      " 0 | 0.82 | Apple may use ChatGPT or Claude to power its smarter Siri - https://tech.yahoo.com/ai/articles/apple-may-chatgpt-claude-power-232000462.html\n",
      " 1 | 0.82 | To save Siri, Apple is reportedly looking to OpenAI or Anthropic - https://tech.yahoo.com/ai/articles/save-siri-apple-reportedly-looking-230744864.html\n",
      " 2 | 0.81 | Apple Considers Replacing Its Own AI With ChatGPT or Anthropic's Claude - https://tech.yahoo.com/ai/articles/apple-considers-replacing-own-ai-211329436.html\n",
      " 3 | 0.79 | Apple makes a move to revive its Siri revamp — and the Vision Pro boss could play a part - https://tech.yahoo.com/phones/articles/apple-makes-move-revive-siri-002151141.html\n",
      " 4 | 0.76 | Apple weighs using Anthropic or OpenAI to power Siri in major reversal, Bloomberg News reports - https://tech.yahoo.com/ai/articles/apple-weighs-using-anthropic-openai-190047620.html\n",
      " 5 | 0.76 | Apple may power Siri with Anthropic or OpenAI models amid AI struggles - https://tech.yahoo.com/ai/articles/apple-may-power-siri-anthropic-212028812.html\n",
      " 6 | 0.74 | Apple's AI Research Has Failed So Spectacularly That It's Considering Just Letting OpenAI Power Siri - https://tech.yahoo.com/ai/articles/apples-ai-research-failed-spectacularly-131114417.html\n",
      " 7 | 0.73 | Apple explores using generative AI to design its chips — executive says 'it can be a huge productivity boost' - https://tech.yahoo.com/ai/articles/apple-explores-using-generative-ai-105145735.html\n",
      " 8 | 0.72 | Apple's AI-powered Siri reportedly has a new target date. Will it stick this time? - https://tech.yahoo.com/ai/articles/apple-ai-powered-siri-reportedly-222810003.html\n",
      " 9 | 0.71 | Apple should ditch Siri for Gemini and Google Cloud, here's why - https://tech.yahoo.com/ai/articles/apple-ditch-siri-gemini-google-070000929.html\n"
     ]
    }
   ],
   "source": [
    "# Example of including specific netlocs.\n",
    "# This will filter results to only include articles from the specified netlocs.\n",
    "with Nosible() as nos:\n",
    "    results = nos.fast_search(\n",
    "        question=\"Which company is Apple considering using to power Siri?\",\n",
    "        n_results=10,\n",
    "        include_netlocs=[\"tech.yahoo.com\"]\n",
    "    )\n",
    "\n",
    "for idx, result in enumerate(results):\n",
    "    print(f\"{idx:2} | {result.similarity:.2f} | {result.title} - {result.url}\")"
   ]
  },
  {
   "cell_type": "markdown",
   "id": "9aa01bdc",
   "metadata": {},
   "source": [
    "### Filter by Companies\n",
    "You can filter search results by specific companies using their Google Knowledge Graph IDs. This is useful for retrieving articles related to specific public companies. For example, to filter results for Apple, you would use the ID `/m/0k8z`. \n",
    "- This only works for **public companies** that have a Google Knowledge Graph ID."
   ]
  },
  {
   "cell_type": "code",
   "execution_count": null,
   "id": "a3ea545c",
   "metadata": {},
   "outputs": [
    {
     "name": "stdout",
     "output_type": "stream",
     "text": [
      " 0 | 0.87 | The Most Valuable Companies in the World - https://www.fingerlakes1.com/2021/08/17/the-most-valuable-companies-in-the-world\n",
      " 1 | 0.82 | Amazon Beats Apple To Become World's Most Valuable Brand: Check The Top 10 List - Trak.in - Indian Business of Tech, Mobile & Startups - https://trak.in/stories/amazon-beats-apple-to-become-worlds-most-valuable-brand-check-the-top-10-list\n",
      " 2 | 0.82 | Ranked: The 50 Most Valuable Companies in the World in 2024 - https://www.visualcapitalist.com/ranked-the-50-most-valuable-companies-in-the-world-in-2024\n",
      " 3 | 0.80 | Apple now becomes world's first $3 trillion company | DETAILS - https://www.indiatvnews.com/business/news/apple-is-now-the-first-public-company-to-be-valued-at-usd-3-trillion-business-news-iphone-steve-jobs-tim-cook-latest-updates-2023-07-01-878722\n",
      " 4 | 0.80 | Apple Dethroned As World's Most Valuable Company By THIS Tech Giant - DEATILS - https://www.timesnownews.com/business-economy/companies/nvidia-dethrones-apple-as-worlds-most-valuable-company-article-114594179\n",
      " 5 | 0.79 | Top world companies with highest market capitalisation – Apple, Microsoft, Aramco | Know where RIL stands - https://www.news9live.com/business/companies/top-world-companies-with-highest-market-capitalisation-apple-microsoft-aramco-know-where-ril-stands-2227862\n",
      " 6 | 0.79 | Top 10 most valuable car companies around the world right now - https://briefly.co.za/107273-top-10-valuable-car-companies-world.html\n",
      " 7 | 0.79 | 100 Most Valuable Brands in the World - https://finance.yahoo.com/news/100-most-valuable-brands-world-134605514.html\n",
      " 8 | 0.79 | Apple is now the first public company to be valued at $3 trillion - https://finance.yahoo.com/news/apple-close-becoming-first-public-182021964.html\n",
      " 9 | 0.79 | Microsoft on top, Boeing's deal, UK public debt - what's moving markets - https://uk.finance.yahoo.com/news/microsoft-top-boeings-deal-uk-041237468.html\n"
     ]
    }
   ],
   "source": [
    "# Example of filtering by companies.\n",
    "with Nosible() as nos:\n",
    "    results = nos.fast_search(\n",
    "        question=\"What is the most valuable company in the world?\",\n",
    "        n_results=10,\n",
    "        include_companies=[\"/m/09rh_\", \"/m/045c7b\"],  # Nvidia, Apple\n",
    "    )\n",
    "\n",
    "for idx, result in enumerate(results):\n",
    "    print(f\"{idx:2} | {result.similarity:.2f} | {result.title} - {result.url}\")"
   ]
  },
  {
   "cell_type": "markdown",
   "id": "bdca5d20",
   "metadata": {},
   "source": [
    "### Language Filters\n",
    "You can filter search results by specific languages using the `language` parameter. This is useful for retrieving articles in a specific language. For example, to filter results for English articles, you would use `language=\"en\"`.\n",
    "\n",
    "To see what languages are supported, please check out [the NOSIBLE docs](https://nosible-py.readthedocs.io/en/latest/)."
   ]
  },
  {
   "cell_type": "code",
   "execution_count": null,
   "id": "022857f7",
   "metadata": {},
   "outputs": [
    {
     "name": "stdout",
     "output_type": "stream",
     "text": [
      " 0 | 0.79 | Apple Pertimbangkan Siri Digunakan Saat Berbisik - Tekno Liputan6.com - https://www.liputan6.com/tekno/read/3197103/apple-pertimbangkan-siri-digunakan-saat-berbisik\n",
      " 1 | 0.73 | OS X 10.12 bringt angeblich Siri auf den Mac - https://www.heise.de/news/OS-X-10-12-bringt-angeblich-Siri-auf-den-Mac-3117164.html\n",
      " 2 | 0.72 | Кои устройства ще използват Apple Intelligence - https://www.vesti.bg/tehnologii/koi-ustrojstva-shte-izpolzvat-apple-intelligence-6201040\n",
      " 3 | 0.72 | Ups, Kontraktor Apple Ikut Dengarkan Rekaman Suara Pribadi Pengguna Siri - Tekno Liputan6.com - https://www.liputan6.com/tekno/read/4023682/ups-kontraktor-apple-ikut-dengarkan-rekaman-suara-pribadi-pengguna-siri\n",
      " 4 | 0.72 | Apple ведет переговоры с известной корпорацией о внедрении ИИ в свои смартфоны - https://www.rbc.ua/ukr/styler/apple-vede-peregovori-vidomoyu-korporatsieyu-1710846584.html\n",
      " 5 | 0.71 | Siri için Google Gemini desteği yolda! - https://shiftdelete.net/siri-icin-google-gemini-destegi-yolda\n",
      " 6 | 0.71 | Apples Siri soll Rivalin von Amazons Echo werden - https://www.merkur.de/multimedia/apple-will-siri-rivalin-amazon-echo-ausbauen-zr-6431842.html\n",
      " 7 | 0.71 | Apple plant angeblich Siri-SDK – und Lautsprecher mit Sprachassistenz - https://www.heise.de/news/Apple-plant-angeblich-Siri-SDK-und-Lautsprecher-mit-Sprachassistenz-3217664.html\n",
      " 8 | 0.71 | Siri, da Apple, vai passar a mandar mensagens no WhatsApp e chamar carro do Uber - https://www.gazetadopovo.com.br/economia/inteligencia-artificial/siri-da-apple-vai-passar-a-mandar-mensagens-no-whatsapp-e-chamar-carro-do-uber-ar42dw23qj0jqdxhk8ozv84ua\n",
      " 9 | 0.71 | Apple Masih Belum Beri Sinyal Rilis Fitur AI di Siri untuk Pengguna iPhone - Tekno Liputan6.com - https://www.liputan6.com/tekno/read/5978711/apple-masih-belum-beri-sinyal-rilis-fitur-ai-di-siri-untuk-pengguna-iphone\n"
     ]
    }
   ],
   "source": [
    "# Example of filtering by languages.\n",
    "with Nosible() as nos:\n",
    "    results = nos.fast_search(\n",
    "        question=\"Which company is Apple considering using to power Siri?\",\n",
    "        n_results=10,\n",
    "        language=\"en\",  # Excluding English articles\n",
    "    )\n",
    "\n",
    "for idx, result in enumerate(results):\n",
    "    print(f\"{idx:2} | {result.similarity:.2f} | {result.title} - {result.url}\")"
   ]
  },
  {
   "cell_type": "markdown",
   "id": "ad747cb9dbcca11",
   "metadata": {},
   "source": [
    "### Even more filters\n",
    "\n",
    "You can filter your results on many more fields, such as `sector`, `region`, `iab_tier_1`, and much more, for a full list of filter, check out our [docs](https://nosible-py.readthedocs.io/en/latest/configuration.html#search-parameters)."
   ]
  },
  {
   "cell_type": "markdown",
   "id": "0905bfe3",
   "metadata": {},
   "source": [
    "## Combining Search Results\n",
    "\n",
    "You can easily combine search results from different searches."
   ]
  },
  {
   "cell_type": "code",
   "execution_count": null,
   "id": "043d4d75",
   "metadata": {},
   "outputs": [
    {
     "name": "stdout",
     "output_type": "stream",
     "text": [
      "Idx | Similarity | Title\n",
      "------------------------\n",
      "  0 |   0.93 | Uber Partners with Volkswagen to Launch Massive Fleet of Fully Autonomous Electric Vehicles\n",
      "  1 |   0.93 | Uber partners with Volkswagen to launch autonomous shared rides by 2026\n",
      "  2 |   0.92 | Volkswagen and Uber launch long-term strategic partnership to deploy autonomous ID. Buzz vehicles on the Uber platform\n",
      "  3 |   0.92 | Uber partners with Volkswagen to launch autonomous shared rides by 2026\n",
      "  4 |   0.91 | Volkswagen and Uber partner to deploy autonomous ID. Buzz vehicles on the Uber platform\n",
      "  5 |   0.91 | Volkswagen and Uber Launch Long-Term Strategic Partnership to Deploy Autonomous ID. Buzz Vehicles on the Uber Platform\n",
      "  6 |   0.90 | Uber, Volkswagen join forces to launch robotaxi service in US\n",
      "  7 |   0.90 | VW, Uber team up to offer autonomous ride-hailing service using ID Buzz\n",
      "  8 |   0.89 | Volkswagen And Uber Join Forces To Fight Tesla's Cybercab\n",
      "  9 |   0.87 | Uber Announces New Offers To Make Transportation More Affordable, Collaborates With Volkswagen\n",
      " 10 |   0.96 | Microsoft Eases Restrictions on OpenAI as USD500 Billion AI Venture Takes Shape\n",
      " 11 |   0.95 | Microsoft and OpenAI partner to develop artificial general intelligence | Digital Watch Observatory\n",
      " 12 |   0.94 | Microsoft and OpenAI deal fuels AI products, services on Azure\n",
      " 13 |   0.94 | OpenAI and Microsoft: Pioneering AI Innovations Together\n",
      " 14 |   0.94 | Microsoft and OpenAI dueling over artificial general intelligence, The Information reports\n",
      " 15 |   0.94 | Move over Elon Musk. Microsoft to invest $1bn in OpenAI\n",
      " 16 |   0.94 | OpenAI Signs Exclusive Computing Partnership With Microsoft In $1 Billion Deal\n",
      " 17 |   0.93 | Microsoft will pour $1B into OpenAI as part of a multiyear partnership\n",
      " 18 |   0.93 | Microsoft and OpenAI extend partnerships in AI supercomputing and research\n",
      " 19 |   0.93 | OpenAI Microsoft Extend Partnership to Continue AI Research\n"
     ]
    }
   ],
   "source": [
    "with Nosible() as nos:\n",
    "    s1 = nos.fast_search(\n",
    "        question=\"What are the terms of the partnership between Volkswagen and Uber?\",\n",
    "        n_results=10,\n",
    "    )\n",
    "    s2 = nos.fast_search(\n",
    "        question=\"What are the terms of the partnership between Microsoft and OpenAI?\",\n",
    "        n_results=10,\n",
    "    )\n",
    "\n",
    "\n",
    "combined = s1 + s2  # Combine the two search results.\n",
    "\n",
    "print(combined)"
   ]
  }
 ],
 "metadata": {
  "kernelspec": {
   "display_name": "nosible",
   "language": "python",
   "name": "python3"
  },
  "language_info": {
   "codemirror_mode": {
    "name": "ipython",
    "version": 3
   },
   "file_extension": ".py",
   "mimetype": "text/x-python",
   "name": "python",
   "nbconvert_exporter": "python",
   "pygments_lexer": "ipython3",
   "version": "3.10.16"
  }
 },
 "nbformat": 4,
 "nbformat_minor": 5
}
