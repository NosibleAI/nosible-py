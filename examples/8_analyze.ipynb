{
 "cells": [
  {
   "cell_type": "markdown",
   "id": "133c9824",
   "metadata": {},
   "source": [
    "# Analyze\n",
    "\n",
    "Compute simple analytics on a set of search results. Depending on the `by` field you choose, you’ll get back:\n",
    "\n",
    "- **Date grouping** (`\"published\"` or `\"visited\"`): Counts per month\n",
    "- **Numeric summary** (`\"similarity\"`): Descriptive stats (`count, mean, std, min, 25%, 50%, 75%, max`)\n",
    "- **Categorical counts** (`\"netloc\"`, `\"author\"`, `\"language\"`, etc.): Frequency map\n"
   ]
  },
  {
   "cell_type": "markdown",
   "id": "5d5e0f89",
   "metadata": {},
   "source": [
    "## Analyze by Language"
   ]
  },
  {
   "cell_type": "code",
   "execution_count": null,
   "id": "26deffa8af6930fd",
   "metadata": {
    "ExecuteTime": {
     "end_time": "2025-07-07T15:46:30.646710Z",
     "start_time": "2025-07-07T15:46:28.613612Z"
    }
   },
   "outputs": [
    {
     "name": "stdout",
     "output_type": "stream",
     "text": [
      "{'en': 50}\n"
     ]
    }
   ],
   "source": [
    "from nosible import Nosible\n",
    "\n",
    "with Nosible() as client:\n",
    "    results = client.fast_search(question=\"Electric Vehicles\", n_results=50)\n",
    "    summary = results.analyze(by=\"language\")\n",
    "    print(summary)"
   ]
  },
  {
   "cell_type": "markdown",
   "id": "3d4cb813",
   "metadata": {},
   "source": [
    "## Analyze by Similarity"
   ]
  },
  {
   "cell_type": "code",
   "execution_count": null,
   "id": "88c499bc",
   "metadata": {},
   "outputs": [
    {
     "name": "stdout",
     "output_type": "stream",
     "text": [
      "{'count': 50.0, 'null_count': 0.0, 'mean': 0.8837452973659704, 'std': 0.01807583234231723, 'min': 0.8606696555786164, '25%': 0.8705312577285615, '50%': 0.8798984161306151, '75%': 0.8924351449393587, 'max': 0.9373068184090478}\n"
     ]
    }
   ],
   "source": [
    "with Nosible() as client:\n",
    "    results = client.fast_search(question=\"Electric Vehicles\", n_results=50)\n",
    "    summary = results.analyze(by=\"similarity\")\n",
    "    print(summary)"
   ]
  },
  {
   "cell_type": "markdown",
   "id": "d4caa2d0",
   "metadata": {},
   "source": [
    "## Analyze by Author"
   ]
  },
  {
   "cell_type": "code",
   "execution_count": null,
   "id": "acec82a0",
   "metadata": {},
   "outputs": [
    {
     "name": "stdout",
     "output_type": "stream",
     "text": [
      "{'Research and Markets': 5, 'Author Unknown': 5, 'TimesTech': 3, 'Press Release': 3, 'ReportLinker': 2, 'Oliver Guirdham': 2, 'Gautamee Hazarika': 1, 'MENAFN': 1, 'Reportlinker': 1, 'Yashi Gupta': 1, 'Emily Farah': 1, 'GlobeNewswire': 1, 'Global Market Insights Inc.': 1, 'Tajammul Pangarkar': 1, 'REPORTSINSIGHTS CONSULTING PVT LTD': 1, 'Sibahle Malinga': 1, 'Webmaster': 1, 'markets.businessinsider.com': 1, 'Crispus Nyaga': 1, 'AIT News Desk': 1, 'Blagojce Krivevski': 1, 'DC Velocity Staff': 1, 'Growth Market Reports': 1, 'Investing News Network': 1, 'ReportsnReports': 1, 'Precedence Research': 1, 'Nidhi Bhawsar': 1, 'The Motley Fool': 1, 'souromi': 1, 'Devdiscourse News Desk': 1, 'Jagger Sullivan': 1, 'Chris Katje': 1, 'PR Newswire': 1, 'Mansha Agrawal': 1, 'Globe Newswire': 1, 'Serjio Zakharoff': 1}\n"
     ]
    }
   ],
   "source": [
    "with Nosible() as client:\n",
    "    results = client.fast_search(question=\"Electric Vehicles\", n_results=50)\n",
    "    summary = results.analyze(by=\"author\")\n",
    "    print(summary)"
   ]
  },
  {
   "cell_type": "markdown",
   "id": "d8331e06",
   "metadata": {},
   "source": [
    "## Analyze by Published"
   ]
  },
  {
   "cell_type": "code",
   "execution_count": null,
   "id": "3b21bf19",
   "metadata": {},
   "outputs": [
    {
     "name": "stdout",
     "output_type": "stream",
     "text": [
      "{'2011-12': 1, '2012-01': 0, '2012-02': 0, '2012-03': 0, '2012-04': 0, '2012-05': 0, '2012-06': 0, '2012-07': 0, '2012-08': 0, '2012-09': 0, '2012-10': 0, '2012-11': 0, '2012-12': 0, '2013-01': 0, '2013-02': 0, '2013-03': 0, '2013-04': 0, '2013-05': 0, '2013-06': 0, '2013-07': 0, '2013-08': 1, '2013-09': 0, '2013-10': 0, '2013-11': 0, '2013-12': 0, '2014-01': 0, '2014-02': 0, '2014-03': 0, '2014-04': 0, '2014-05': 0, '2014-06': 0, '2014-07': 0, '2014-08': 0, '2014-09': 1, '2014-10': 0, '2014-11': 0, '2014-12': 0, '2015-01': 0, '2015-02': 0, '2015-03': 0, '2015-04': 0, '2015-05': 0, '2015-06': 0, '2015-07': 0, '2015-08': 1, '2015-09': 0, '2015-10': 1, '2015-11': 0, '2015-12': 0, '2016-01': 0, '2016-02': 0, '2016-03': 0, '2016-04': 0, '2016-05': 2, '2016-06': 1, '2016-07': 0, '2016-08': 0, '2016-09': 0, '2016-10': 0, '2016-11': 0, '2016-12': 0, '2017-01': 0, '2017-02': 0, '2017-03': 0, '2017-04': 0, '2017-05': 0, '2017-06': 0, '2017-07': 0, '2017-08': 0, '2017-09': 0, '2017-10': 0, '2017-11': 0, '2017-12': 0, '2018-01': 0, '2018-02': 0, '2018-03': 0, '2018-04': 0, '2018-05': 0, '2018-06': 0, '2018-07': 0, '2018-08': 0, '2018-09': 0, '2018-10': 0, '2018-11': 0, '2018-12': 0, '2019-01': 0, '2019-02': 0, '2019-03': 0, '2019-04': 0, '2019-05': 0, '2019-06': 1, '2019-07': 1, '2019-08': 0, '2019-09': 2, '2019-10': 0, '2019-11': 0, '2019-12': 0, '2020-01': 0, '2020-02': 1, '2020-03': 0, '2020-04': 0, '2020-05': 0, '2020-06': 0, '2020-07': 0, '2020-08': 0, '2020-09': 0, '2020-10': 0, '2020-11': 0, '2020-12': 0, '2021-01': 1, '2021-02': 0, '2021-03': 0, '2021-04': 0, '2021-05': 0, '2021-06': 1, '2021-07': 1, '2021-08': 1, '2021-09': 0, '2021-10': 1, '2021-11': 2, '2021-12': 1, '2022-01': 1, '2022-02': 0, '2022-03': 0, '2022-04': 1, '2022-05': 0, '2022-06': 1, '2022-07': 0, '2022-08': 1, '2022-09': 0, '2022-10': 0, '2022-11': 2, '2022-12': 1, '2023-01': 3, '2023-02': 2, '2023-03': 2, '2023-04': 0, '2023-05': 0, '2023-06': 1, '2023-07': 0, '2023-08': 3, '2023-09': 1, '2023-10': 0, '2023-11': 1, '2023-12': 0, '2024-01': 1, '2024-02': 0, '2024-03': 0, '2024-04': 0, '2024-05': 0, '2024-06': 0, '2024-07': 0, '2024-08': 1, '2024-09': 0, '2024-10': 1, '2024-11': 0, '2024-12': 1, '2025-01': 1, '2025-02': 2, '2025-03': 0, '2025-04': 0, '2025-05': 1, '2025-06': 1}\n"
     ]
    }
   ],
   "source": [
    "with Nosible() as client:\n",
    "    results = client.fast_search(question=\"Electric Vehicles\", n_results=50)\n",
    "    summary = results.analyze(by=\"published\")\n",
    "    print(summary)"
   ]
  }
 ],
 "metadata": {
  "kernelspec": {
   "display_name": "nosible",
   "language": "python",
   "name": "python3"
  },
  "language_info": {
   "codemirror_mode": {
    "name": "ipython",
    "version": 3
   },
   "file_extension": ".py",
   "mimetype": "text/x-python",
   "name": "python",
   "nbconvert_exporter": "python",
   "pygments_lexer": "ipython3",
   "version": "3.10.16"
  }
 },
 "nbformat": 4,
 "nbformat_minor": 5
}
