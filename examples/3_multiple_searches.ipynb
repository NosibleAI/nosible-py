{
 "cells": [
  {
   "cell_type": "markdown",
   "id": "90813d1b",
   "metadata": {},
   "source": [
    "# Multiple Searches\n",
    "\n",
    "Allows you to run multiple searches concurrently and `yields` the results as they come in.\n",
    "- You can pass a list of questions to the `searches` method."
   ]
  },
  {
   "cell_type": "code",
   "execution_count": null,
   "id": "8ed01a13",
   "metadata": {},
   "outputs": [
    {
     "name": "stdout",
     "output_type": "stream",
     "text": [
      " 0 | 0.96 | Microsoft Eases Restrictions on OpenAI as USD500 Billion AI Venture Takes Shape - https://english.newstracklive.com/news/microsoft-eases-restrictions-on-openai-as-usd500-billion-ai-venture-takes-shape-sc71-nu318-ta318-1333586-1.html\n",
      " 1 | 0.95 | Microsoft and OpenAI partner to develop artificial general intelligence | Digital Watch Observatory - https://dig.watch/updates/microsoft-and-openai-partner-develop-artificial-general-intelligence\n",
      " 2 | 0.94 | Microsoft and OpenAI deal fuels AI products, services on Azure - https://www.techtarget.com/searchenterpriseai/news/252467178/Microsoft-and-OpenAI-deal-fuels-AI-products-services-on-Azure\n",
      " 3 | 0.94 | OpenAI and Microsoft: Pioneering AI Innovations Together - https://www.pc-tablet.co.in/openai-and-microsoft-pioneering-ai-innovations-together/20186\n",
      " 4 | 0.94 | Microsoft and OpenAI dueling over artificial general intelligence, The Information reports - https://www.channelnewsasia.com/business/microsoft-and-openai-dueling-over-artificial-general-intelligence-information-reports-5204026\n",
      " 5 | 0.94 | Move over Elon Musk. Microsoft to invest $1bn in OpenAI - https://www.moneyweb.co.za/news/companies-and-deals/move-over-elon-musk-microsoft-to-invest-1bn-in-openai/\n",
      " 6 | 0.94 | OpenAI Signs Exclusive Computing Partnership With Microsoft In $1 Billion Deal - https://pulse2.com/openai-microsoft-1-billion-deal\n",
      " 7 | 0.93 | Microsoft will pour $1B into OpenAI as part of a multiyear partnership - https://www.techspot.com/news/81067-microsoft-pour-1b-openai-part-multiyear-partnership.html\n",
      " 8 | 0.93 | Microsoft and OpenAI extend partnerships in AI supercomputing and research - https://yourstory.com/2023/01/microsoft-and-openai-extend-partnerships-ai-azure-satya-nadella\n",
      " 9 | 0.93 | OpenAI Microsoft Extend Partnership to Continue AI Research - https://cryptotvplus.com/2023/01/openai-microsoft-extend-partnership-to-continue-ai-research\n",
      "\n",
      "\n",
      " 0 | 0.93 | Uber Partners with Volkswagen to Launch Massive Fleet of Fully Autonomous Electric Vehicles - https://www.ibtimes.co.uk/uber-partners-volkswagen-launch-fleet-autonomous-electric-vehicles-1733979\n",
      " 1 | 0.93 | Uber partners with Volkswagen to launch autonomous shared rides by 2026 - https://www.foxbusiness.com/lifestyle/uber-partners-volkswagen-launch-autonomous-shared-rides-2026\n",
      " 2 | 0.92 | Volkswagen and Uber launch long-term strategic partnership to deploy autonomous ID. Buzz vehicles on the Uber platform - https://www.automotiveworld.com/news-releases/volkswagen-and-uber-launch-long-term-strategic-partnership-to-deploy-autonomous-id-buzz-vehicles-on-the-uber-platform\n",
      " 3 | 0.92 | Uber partners with Volkswagen to launch autonomous shared rides by 2026 - https://www.finanzen.net/nachricht/aktien/uber-partners-with-volkswagen-to-launch-autonomous-shared-rides-by-2026-14491077\n",
      " 4 | 0.91 | Volkswagen and Uber partner to deploy autonomous ID. Buzz vehicles on the Uber platform - https://electriccarsreport.com/2025/04/volkswagen-and-uber-partner-to-deploy-autonomous-id-buzz-vehicles-on-the-uber-platform\n",
      " 5 | 0.91 | Volkswagen and Uber Launch Long-Term Strategic Partnership to Deploy Autonomous ID. Buzz Vehicles on the Uber Platform - https://www.wallstreet-online.de/nachricht/19266360-volkswagen-and-uber-launch-long-term-strategic-partnership-to-deploy-autonomous-id-buzz-vehicles-on-the-uber-platform\n",
      " 6 | 0.90 | Uber, Volkswagen join forces to launch robotaxi service in US - https://www.newsbytesapp.com/news/auto/uber-volkswagen-partner-to-launch-self-driving-electric-robotaxi-in-us/story\n",
      " 7 | 0.90 | VW, Uber team up to offer autonomous ride-hailing service using ID Buzz - https://ca.news.yahoo.com/vw-uber-team-offer-autonomous-120000125.html\n",
      " 8 | 0.89 | Volkswagen And Uber Join Forces To Fight Tesla's Cybercab - https://carbuzz.com/volkswagen-uber-join-forces-robotaxis\n",
      " 9 | 0.87 | Uber Announces New Offers To Make Transportation More Affordable, Collaborates With Volkswagen - https://www.rttnews.com/3539175/uber-announces-new-offers-to-make-transportation-more-affordable-collaborates-with-volkswagen.aspx\n",
      "\n",
      "\n"
     ]
    }
   ],
   "source": [
    "from nosible import Nosible\n",
    "\n",
    "# Multiple searches\n",
    "with Nosible() as nos:\n",
    "    searches = nos.fast_searches(\n",
    "        questions=[\n",
    "            \"What are the terms of the partnership between Microsoft and OpenAI?\",\n",
    "            \"What are the terms of the partnership between Volkswagen and Uber?\",\n",
    "        ],\n",
    "        n_results=10,\n",
    "    )\n",
    "\n",
    "    for search in searches:\n",
    "        for idx, result in enumerate(search):\n",
    "            print(f\"{idx:2} | {result.similarity:.2f} | {result.title} - {result.url}\")\n",
    "        print(\"\\n\")  # Print a newline between different search results"
   ]
  },
  {
   "cell_type": "markdown",
   "id": "be8bc421",
   "metadata": {},
   "source": [
    "You can also pass a `list` of `search` objects to the `searches` method, which will run each search concurrently and yield the results as they come in.\n",
    "\n",
    "- This allows you to specify different parameters for each search, such as `n_results`, `expansions`, etc."
   ]
  },
  {
   "cell_type": "code",
   "execution_count": null,
   "id": "3de4c302",
   "metadata": {},
   "outputs": [
    {
     "name": "stdout",
     "output_type": "stream",
     "text": [
      " 0 | 0.96 | Microsoft Eases Restrictions on OpenAI as USD500 Billion AI Venture Takes Shape - https://english.newstracklive.com/news/microsoft-eases-restrictions-on-openai-as-usd500-billion-ai-venture-takes-shape-sc71-nu318-ta318-1333586-1.html\n",
      " 1 | 0.95 | OpenAI Forms Exclusive Computing Partnership With Microsoft To Build New Azure AI Supercomputing Technologies - https://ritzherald.com/openai-forms-exclusive-computing-partnership-with-microsoft-to-build-new-azure-ai-supercomputing-technologies\n",
      " 2 | 0.94 | Microsoft and OpenAI deal fuels AI products, services on Azure - https://www.techtarget.com/searchenterpriseai/news/252467178/Microsoft-and-OpenAI-deal-fuels-AI-products-services-on-Azure\n",
      " 3 | 0.94 | OpenAI and Microsoft: Pioneering AI Innovations Together - https://www.pc-tablet.co.in/openai-and-microsoft-pioneering-ai-innovations-together/20186\n",
      " 4 | 0.94 | OpenAI Signs Exclusive Computing Partnership With Microsoft In $1 Billion Deal - https://pulse2.com/openai-microsoft-1-billion-deal\n",
      " 5 | 0.93 | Microsoft and OpenAI extend partnerships in AI supercomputing and research - https://yourstory.com/2023/01/microsoft-and-openai-extend-partnerships-ai-azure-satya-nadella\n",
      " 6 | 0.93 | Microsoft extends OpenAI partnership in a 'multibillion dollar investment' - https://www.theverge.com/2023/1/23/23567448/microsoft-openai-partnership-extension-ai\n",
      " 7 | 0.93 | Microsoft and OpenAI rework billion dollar deal | Digital Watch Observatory - https://dig.watch/updates/microsoft-and-openai-rework-billion-dollar-deal\n",
      " 8 | 0.93 | Microsoft to Invest a Whopping $1 Billion in OpenAI Partnership - https://interestingengineering.com/microsoft-to-invest-a-whopping-1-billion-in-openai-partnership\n",
      " 9 | 0.93 | OpenAI wants Microsoft to provide \"money and compute and stay out of the way\" as it renegotiates multi-billion-dollar partnership - https://www.windowscentral.com/microsoft/openai-microsoft-renegotiates-multi-billion-dollar-partnership\n",
      "\n",
      "\n",
      " 0 | 0.93 | Uber Partners with Volkswagen to Launch Massive Fleet of Fully Autonomous Electric Vehicles - https://www.ibtimes.co.uk/uber-partners-volkswagen-launch-fleet-autonomous-electric-vehicles-1733979\n",
      " 1 | 0.92 | Volkswagen and Uber launch long-term strategic partnership to deploy autonomous ID. Buzz vehicles on the Uber platform - https://www.automotiveworld.com/news-releases/volkswagen-and-uber-launch-long-term-strategic-partnership-to-deploy-autonomous-id-buzz-vehicles-on-the-uber-platform\n",
      " 2 | 0.91 | Volkswagen and Uber partner to deploy autonomous ID. Buzz vehicles on the Uber platform - https://electriccarsreport.com/2025/04/volkswagen-and-uber-partner-to-deploy-autonomous-id-buzz-vehicles-on-the-uber-platform\n",
      " 3 | 0.91 | Volkswagen and Uber Launch Long-Term Strategic Partnership to Deploy Autonomous ID. Buzz Vehicles on the Uber Platform - https://www.wallstreet-online.de/nachricht/19266360-volkswagen-and-uber-launch-long-term-strategic-partnership-to-deploy-autonomous-id-buzz-vehicles-on-the-uber-platform\n",
      " 4 | 0.91 | Uber partners with Volkswagen to launch autonomous shared rides by 2026 - https://www.finanzen.net/nachricht/aktien/uber-partners-with-volkswagen-to-launch-autonomous-shared-rides-by-2026-14491077\n",
      " 5 | 0.90 | Uber, Volkswagen join forces to launch robotaxi service in US - https://www.newsbytesapp.com/news/auto/uber-volkswagen-partner-to-launch-self-driving-electric-robotaxi-in-us/story\n",
      " 6 | 0.90 | VW, Uber team up to offer autonomous ride-hailing service using ID Buzz - https://ca.news.yahoo.com/vw-uber-team-offer-autonomous-120000125.html\n",
      " 7 | 0.89 | Volkswagen And Uber Join Forces To Fight Tesla's Cybercab - https://carbuzz.com/volkswagen-uber-join-forces-robotaxis\n",
      " 8 | 0.89 | Volkswagen and Uber Launch Long-Term Strategic Partnership to Deploy Autonomous ID. Buzz Vehicles on the Uber Platform - http://www.businesswire.com/news/home/20250424597328/en/Volkswagen-and-Uber-Launch-Long-Term-Strategic-Partnership-to-Deploy-Autonomous-ID.-Buzz-Vehicles-on-the-Uber-Platform\n",
      " 9 | 0.89 | Uber expands driverless fleet with VW ID Buzz partnership - https://www.cbtnews.com/uber-expands-driverless-fleet-with-vw-id-buzz-partnership\n",
      "\n",
      "\n"
     ]
    }
   ],
   "source": [
    "from nosible import Search\n",
    "\n",
    "s1 = Search(\n",
    "    question=\"What are the terms of the partnership between Microsoft and OpenAI?\",\n",
    "    n_results=10,\n",
    "    include_companies=[\"/m/04sv4\"],  # Microsoft\n",
    ")\n",
    "s2 = Search(\n",
    "    question=\"What are the terms of the partnership between Volkswagen and Uber?\",\n",
    "    n_results=10,\n",
    "    include_companies=[\"/m/07_zt\"],  # Volkswagen\n",
    ")\n",
    "with Nosible() as nos:\n",
    "    searches = nos.fast_searches(searches=[s1, s2])  # Pass a list of Search objects.\n",
    "\n",
    "    for search in searches:\n",
    "        for idx, result in enumerate(search):\n",
    "            print(f\"{idx:2} | {result.similarity:.2f} | {result.title} - {result.url}\")\n",
    "        print(\"\\n\")  # Print a newline between different search results."
   ]
  }
 ],
 "metadata": {
  "kernelspec": {
   "display_name": "nosible",
   "language": "python",
   "name": "python3"
  },
  "language_info": {
   "codemirror_mode": {
    "name": "ipython",
    "version": 3
   },
   "file_extension": ".py",
   "mimetype": "text/x-python",
   "name": "python",
   "nbconvert_exporter": "python",
   "pygments_lexer": "ipython3",
   "version": "3.10.16"
  }
 },
 "nbformat": 4,
 "nbformat_minor": 5
}
