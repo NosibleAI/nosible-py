{
 "cells": [
  {
   "cell_type": "markdown",
   "id": "8403bd24",
   "metadata": {},
   "source": [
    "# Bulk Search\n",
    "\n",
    "Bulk search enables you to retrieve a large number of results in a single request, making it ideal for large-scale data analysis and processing.\n",
    "\n",
    "- Use the `bulk_search` method when you need more than 1,000 results for a single query.\n",
    "- You can request between **1,000 and 10,000** results per query.\n",
    "- All parameters available in the standard `search` method—such as `expansions`, `include_companies`, `include_languages`, and more—are also supported in `bulk_search`.\n",
    "- A bulk search for 10,000 results typically completes in about 30 seconds or less."
   ]
  },
  {
   "cell_type": "code",
   "execution_count": null,
   "id": "db0ad639",
   "metadata": {},
   "outputs": [],
   "source": [
    "# Bulk search\n",
    "from nosible import Nosible\n",
    "\n",
    "with Nosible() as nos:\n",
    "    results = nos.bulk_search(\n",
    "        question=\"What are the terms of the partnership between Microsoft and OpenAI?\",\n",
    "        n_results=1000,\n",
    "        expansions=[\n",
    "            \"What are the terms and conditions of the deal between Microsoft and OpenAI?\",\n",
    "            \"What have Microsoft and OpenAI agreed to in terms of their partnership?\",\n",
    "            \"What restrictions have been placed upon OpenAI as part of their Microsoft deal?\",\n",
    "            \"Under what conditions can Microsoft or OpenAI exit their partnership?\",\n",
    "            \"What are the details of the partnership between OpenAI and Microsoft?\",\n",
    "            \"Why did Microsoft decide to invest into OpenAI? What are the terms of the deal?\",\n",
    "            \"What are the legal requirements placed upon OpenAI as part of the Microsoft investment?\",\n",
    "            \"What are the financial terms and equity stakes in the Microsoft-OpenAI deal?\",\n",
    "            \"How does the Microsoft-OpenAI partnership affect OpenAI's autonomy and projects?\",\n",
    "            \"What legal requirements must OpenAI meet due to the Microsoft investment?\",\n",
    "        ],\n",
    "    )\n",
    "\n",
    "print(\"Fetched results:\")\n",
    "print(len(results))  # Print the number of results returned by the bulk search"
   ]
  },
  {
   "cell_type": "markdown",
   "id": "8f517a62",
   "metadata": {},
   "source": [
    "### Saving and Loading Bulk Search results"
   ]
  },
  {
   "cell_type": "code",
   "execution_count": null,
   "id": "8908c613",
   "metadata": {},
   "outputs": [],
   "source": [
    "from nosible import ResultSet\n",
    "\n",
    "results.to_arrow(\"results.ipc\")  # Convert results to an Arrow Table\n",
    "\n",
    "\n",
    "loaded = ResultSet.from_arrow(\"results.ipc\")  # Load results from an Arrow Table"
   ]
  },
  {
   "cell_type": "markdown",
   "id": "51da6877",
   "metadata": {},
   "source": [
    "### Searching within Search Results\n",
    "\n",
    "You can search within the results of a bulk search using the `find_in_search_results` method."
   ]
  },
  {
   "cell_type": "code",
   "execution_count": null,
   "id": "f8a8b50e",
   "metadata": {},
   "outputs": [],
   "source": [
    "# Example Inner search on bulk search results\n",
    "\n",
    "found = loaded.find_in_search_results(query=\"Tensions between Microsoft and Openai\", top_k=10)\n",
    "\n",
    "print(found)"
   ]
  },
  {
   "cell_type": "code",
   "execution_count": null,
   "id": "db4e3951",
   "metadata": {},
   "outputs": [],
   "source": [
    "found = loaded.find_in_search_results(query=\"AGI\", top_k=10)\n",
    "\n",
    "print(found)"
   ]
  }
 ],
 "metadata": {
  "kernelspec": {
   "display_name": "nosible",
   "language": "python",
   "name": "python3"
  },
  "language_info": {
   "name": "python",
   "version": "3.10.16"
  }
 },
 "nbformat": 4,
 "nbformat_minor": 5
}
