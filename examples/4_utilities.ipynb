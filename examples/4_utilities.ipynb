{
 "cells": [
  {
   "cell_type": "markdown",
   "id": "25b0289a",
   "metadata": {},
   "source": [
    "# Utilities\n",
    "\n",
    "- Search results can be converted to various formats for further processing:\n",
    "    - **to_polars**: Converts the search results to a Polars DataFrame.\n",
    "    - **to_pandas**: Converts the search results to a Pandas DataFrame.\n",
    "    - **to_dict**: Converts the search results to a dictionary with url_hash as the key.\n",
    "    - **to_dicts**: Converts the search results to a list of dictionaries, each representing a search result.\n",
    "\n",
    "- Search results can be saved and loaded to and from disk in various formats.\n",
    "    - **write_csv**: Saves the search results to a CSV file.\n",
    "    - **write_parquet**: Saves the search results to a Parquet file.\n",
    "    - **write_ipc**: Saves the search results to an Arrow file.\n",
    "    - **write_ndjson**: Saves the search results to an NDJSON file.\n",
    "    - **write_json**: Converts the search results to a JSON string. (Can optionally save to disk)"
   ]
  },
  {
   "cell_type": "code",
   "execution_count": null,
   "id": "b5a2bab8",
   "metadata": {},
   "outputs": [
    {
     "name": "stdout",
     "output_type": "stream",
     "text": [
      "shape: (30, 11)\n",
      "┌───────────┬───────────┬───────────┬───────────┬───┬───────────┬──────────┬───────────┬───────────┐\n",
      "│ url       ┆ title     ┆ descripti ┆ netloc    ┆ … ┆ content   ┆ language ┆ similarit ┆ url_hash  │\n",
      "│ ---       ┆ ---       ┆ on        ┆ ---       ┆   ┆ ---       ┆ ---      ┆ y         ┆ ---       │\n",
      "│ str       ┆ str       ┆ ---       ┆ str       ┆   ┆ str       ┆ str      ┆ ---       ┆ str       │\n",
      "│           ┆           ┆ str       ┆           ┆   ┆           ┆          ┆ f64       ┆           │\n",
      "╞═══════════╪═══════════╪═══════════╪═══════════╪═══╪═══════════╪══════════╪═══════════╪═══════════╡\n",
      "│ https://w ┆ Will      ┆ Will      ┆ www.norad ┆ … ┆ ... So,   ┆ en       ┆ 0.956813  ┆ vnoCeT_3q │\n",
      "│ ww.norada ┆ Higher    ┆ higher    ┆ arealesta ┆   ┆ how       ┆          ┆           ┆ Zlumowt-X │\n",
      "│ realestat ┆ Tariffs   ┆ tariffs   ┆ te.com    ┆   ┆ exactly   ┆          ┆           ┆ 64lNk8    │\n",
      "│ e.c…      ┆ Lead to   ┆ lead to   ┆           ┆   ┆ do higher ┆          ┆           ┆           │\n",
      "│           ┆ In…       ┆ in…       ┆           ┆   ┆ …         ┆          ┆           ┆           │\n",
      "│ https://b ┆ US        ┆ The       ┆ breakingl ┆ … ┆ ... Q:    ┆ en       ┆ 0.935686  ┆ OxaTGA3-F │\n",
      "│ reakingla ┆ Tariffs:  ┆ Shifting  ┆ atest.new ┆   ┆ Will      ┆          ┆           ┆ RGqCS8zrX │\n",
      "│ test.news ┆ Quick     ┆ Landscape ┆ s         ┆   ┆ tariffs   ┆          ┆           ┆ eZ48ez    │\n",
      "│ /wo…      ┆ Guide -   ┆ of US T…  ┆           ┆   ┆ be        ┆          ┆           ┆           │\n",
      "│           ┆ RTE.…     ┆           ┆           ┆   ┆ lowered…  ┆          ┆           ┆           │\n",
      "│ https://w ┆ Jill On   ┆ Jill On   ┆ www.mercu ┆ … ┆ ... How   ┆ en       ┆ 0.934863  ┆ 5ayFJavU- │\n",
      "│ ww.mercur ┆ Money:    ┆ Money:    ┆ rynews.co ┆   ┆ can       ┆          ┆           ┆ pivlQjyAH │\n",
      "│ ynews.com ┆ Trump     ┆ Trump     ┆ m         ┆   ┆ tariffs   ┆          ┆           ┆ JzLcMF    │\n",
      "│ /20…      ┆ tariffs   ┆ tariffs   ┆           ┆   ┆ push up   ┆          ┆           ┆           │\n",
      "│           ┆ 2…        ┆ 2…        ┆           ┆   ┆ in…       ┆          ┆           ┆           │\n",
      "│ https://w ┆ How to    ┆ President ┆ www.busin ┆ … ┆ President ┆ en       ┆ 0.930626  ┆ uK7sr0EQD │\n",
      "│ ww.busine ┆ keep      ┆ Trump's   ┆ essinside ┆   ┆ Donald    ┆          ┆           ┆ XGgCWae-Y │\n",
      "│ ssinsider ┆ saving    ┆ tariffs   ┆ r.com     ┆   ┆ Trump has ┆          ┆           ┆ JF4aOz    │\n",
      "│ .co…      ┆ money     ┆ coul…     ┆           ┆   ┆ sta…      ┆          ┆           ┆           │\n",
      "│           ┆ even …    ┆           ┆           ┆   ┆           ┆          ┆           ┆           │\n",
      "│ https://w ┆ Ending    ┆ Tariffs   ┆ www.geopo ┆ … ┆ ... U.S.  ┆ en       ┆ 0.928873  ┆ R3Y_UG9eX │\n",
      "│ ww.geopol ┆ America's ┆ are quest ┆ liticalmo ┆   ┆ tariff    ┆          ┆           ┆ kR3W8jiCT │\n",
      "│ iticalmon ┆ Trade War ┆ ionable   ┆ nitor.com ┆   ┆ and       ┆          ┆           ┆ 4gQpd4    │\n",
      "│ ito…      ┆ wit…      ┆ econo…    ┆           ┆   ┆ customs   ┆          ┆           ┆           │\n",
      "│           ┆           ┆           ┆           ┆   ┆ du…       ┆          ┆           ┆           │\n",
      "│ …         ┆ …         ┆ …         ┆ …         ┆ … ┆ …         ┆ …        ┆ …         ┆ …         │\n",
      "│ https://c ┆ Trump     ┆ President ┆ ca.news.y ┆ … ┆ ...       ┆ en       ┆ 0.907285  ┆ JmzZqPZrO │\n",
      "│ a.news.ya ┆ will      ┆ Donald    ┆ ahoo.com  ┆   ┆ Tariffs   ┆          ┆           ┆ vzkju6tX3 │\n",
      "│ hoo.com/t ┆ impose    ┆ Trump     ┆           ┆   ┆ in        ┆          ┆           ┆ mEiwiA    │\n",
      "│ rum…      ┆ new       ┆ will mo…  ┆           ┆   ┆ certain   ┆          ┆           ┆           │\n",
      "│           ┆ tariffs … ┆           ┆           ┆   ┆ circums…  ┆          ┆           ┆           │\n",
      "│ https://w ┆ Can       ┆ Global    ┆ www.repub ┆ … ┆ ... The   ┆ en       ┆ 0.907285  ┆ dKQJAir8L │\n",
      "│ ww.republ ┆ Donald    ┆ Trade on  ┆ licworld. ┆   ┆ impact on ┆          ┆           ┆ pakrF2yIl │\n",
      "│ icworld.c ┆ Trump's   ┆ the       ┆ com       ┆   ┆ export    ┆          ┆           ┆ ggw_Cm    │\n",
      "│ om/…      ┆ Tariffs   ┆ Brink: US ┆           ┆   ┆ drive…    ┆          ┆           ┆           │\n",
      "│           ┆ Pus…      ┆ …         ┆           ┆   ┆           ┆          ┆           ┆           │\n",
      "│ https://w ┆ Trump's   ┆ President ┆ www.foxbu ┆ … ┆ ... Econo ┆ en       ┆ 0.906199  ┆ th2yjDwOL │\n",
      "│ ww.foxbus ┆ proposed  ┆ -elect    ┆ siness.co ┆   ┆ mists at  ┆          ┆           ┆ qPtOX9xW1 │\n",
      "│ iness.com ┆ tariffs   ┆ Trump's   ┆ m         ┆   ┆ the Wall  ┆          ┆           ┆ XRqLWl    │\n",
      "│ /ec…      ┆ on Me…    ┆ plan t…   ┆           ┆   ┆ Str…      ┆          ┆           ┆           │\n",
      "│ https://w ┆ Global    ┆ President ┆ www.cnn.c ┆ … ┆ ... They  ┆ en       ┆ 0.906199  ┆ TJJ7X7NFx │\n",
      "│ ww.cnn.co ┆ markets   ┆ Trump has ┆ om        ┆   ┆ could     ┆          ┆           ┆ pbcJDkLGx │\n",
      "│ m/busines ┆ rocked by ┆ announced ┆           ┆   ┆ also drag ┆          ┆           ┆ 1t69Zy    │\n",
      "│ s/l…      ┆ escal…    ┆ …         ┆           ┆   ┆ down …    ┆          ┆           ┆           │\n",
      "│ https://w ┆ Many      ┆ Companies ┆ www.cbsne ┆ … ┆ ...       ┆ en       ┆ 0.904     ┆ ggL7ml6K5 │\n",
      "│ ww.cbsnew ┆ companies ┆ are       ┆ ws.com    ┆   ┆ \"Nobody   ┆          ┆           ┆ 36k2BRdwx │\n",
      "│ s.com/new ┆ plan to   ┆ already   ┆           ┆   ┆ has the   ┆          ┆           ┆ 0nvuS8    │\n",
      "│ s/t…      ┆ pass ta…  ┆ moving t… ┆           ┆   ┆ profitabi ┆          ┆           ┆           │\n",
      "│           ┆           ┆           ┆           ┆   ┆ l…        ┆          ┆           ┆           │\n",
      "└───────────┴───────────┴───────────┴───────────┴───┴───────────┴──────────┴───────────┴───────────┘\n"
     ]
    }
   ],
   "source": [
    "from nosible import Nosible\n",
    "\n",
    "# Converting to polars DataFrame.\n",
    "with Nosible() as nos:\n",
    "    results = nos.fast_search(\n",
    "        question=\"Will tariffs drive inflation up in the US?\",\n",
    "        n_results=30,\n",
    "    )\n",
    "\n",
    "df = results.to_polars()  # Convert results to a Polars DataFrame\n",
    "print(df)"
   ]
  },
  {
   "cell_type": "code",
   "execution_count": 2,
   "id": "871a3d78",
   "metadata": {},
   "outputs": [
    {
     "name": "stdout",
     "output_type": "stream",
     "text": [
      "Idx | Similarity | Title\n",
      "------------------------\n",
      "  0 |   0.96 | Will Higher Tariffs Lead to Inflation and Higher Interest Rates in 2025?\n",
      "  1 |   0.94 | US Tariffs: Quick Guide - RTE.ie | Trade, Economy, Impact - Breaking Latest News\n",
      "  2 |   0.93 | Jill On Money: Trump tariffs 2.0\n",
      "  3 |   0.93 | How to keep saving money even if Trump's tariffs drive inflation up\n",
      "  4 |   0.93 | Ending America's Trade War with China Won't Stop Inflation | Geopolitical Monitor\n",
      "  5 |   0.93 | Trump tariffs are likely to raise US PCE inflation by 0.7% and hurt GDP by 1.2%: Report\n",
      "  6 |   0.92 | US inflation worsened last month as the cost of groceries and gasoline head higher\n",
      "  7 |   0.92 | US inflation swaps price in big short-term tariff impact, flag recession risk\n",
      "  8 |   0.92 | Why Trump's tariff plans could lead to higher interest rates - Local News 8\n",
      "  9 |   0.92 | What Biden's tariffs on Chinese imports may mean for American jobs, the economy and inflation - Local News 8\n",
      " 10 |   0.92 | Tariffs and Inflation - Econlib\n",
      " 11 |   0.92 | 'T-shirts could be the new eggs': Why Trump's chaotic tariff whipsaw is still a huge threat to inflation\n",
      " 12 |   0.92 | Breitbart Business Digest: The Tariffs Inflation Con\n",
      " 13 |   0.92 | US tariffs putting pressure on both US and ASEAN: expert\n",
      " 14 |   0.92 | US inflation surprise ties Feds hands amid 'inevitable' recession fears\n",
      " 15 |   0.92 | Will Trump's Tariffs Drive up Inflation?\n",
      " 16 |   0.91 | Canada-U.S. Tariff War: How It Will Impact Different Products And Industries\n",
      " 17 |   0.91 | Tariffs Bring Upside Risks to Inflation Back Into the Fore\n",
      " 18 |   0.91 | Trump's Tariff Hikes Could Stoke Consumer Inflation Jitters, Challenge Fed, Goldman Sachs Warns \n",
      " 19 |   0.91 | Tariffs Trigger Inflation Surge in the U.S. | Business\n",
      " 20 |   0.91 | First signs of tariffs' impact on inflation could appear in today's consumer prices report\n",
      " 21 |   0.91 | JPMorgan CEO Jamie Dimon Warns Trump Tariffs Will Likely Boost Inflation in US Amid Global Stock Markets\n",
      " 22 |   0.91 | Tariff trade war negatively affect US, China economies: QNB\n",
      " 23 |   0.91 | China tariffs will 'definitely' increase US inflation: Suntory CEO\n",
      " 24 |   0.91 | U.S.-Europe Trade War Could Nudge Inflation Higher, ECB's Lagarde Says\n",
      " 25 |   0.91 | Trump will impose new tariffs on Mexico, Canada and China on Saturday, White House says\n",
      " 26 |   0.91 | Can Donald Trump's Tariffs Push World Into Recession? 'Yes' Says IDFC Economist\n",
      " 27 |   0.91 | Trump's proposed tariffs on Mexico, Canada, China will increase inflation, Goldman Sachs warns\n",
      " 28 |   0.91 | Global markets rocked by escalating trade fights: Live updates | CNN Business\n",
      " 29 |   0.90 | Many companies plan to pass tariff costs on to consumers, economic data shows\n"
     ]
    }
   ],
   "source": [
    "from nosible import ResultSet\n",
    "\n",
    "# Example saving and loading the results.\n",
    "results.write_csv(\"results.csv\")  # Save results to a CSV file\n",
    "\n",
    "loaded = ResultSet.read_csv(\"results.csv\")  # Load results from a CSV file\n",
    "print(loaded)"
   ]
  }
 ],
 "metadata": {
  "kernelspec": {
   "display_name": "nosible",
   "language": "python",
   "name": "python3"
  },
  "language_info": {
   "codemirror_mode": {
    "name": "ipython",
    "version": 3
   },
   "file_extension": ".py",
   "mimetype": "text/x-python",
   "name": "python",
   "nbconvert_exporter": "python",
   "pygments_lexer": "ipython3",
   "version": "3.10.16"
  }
 },
 "nbformat": 4,
 "nbformat_minor": 5
}
