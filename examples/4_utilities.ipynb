{
 "cells": [
  {
   "cell_type": "markdown",
   "id": "25b0289a",
   "metadata": {},
   "source": [
    "# Utilities\n",
    "\n",
    "- Search results can be converted to various formats for further processing:\n",
    "    - **to_polars**: Converts the search results to a Polars DataFrame.\n",
    "    - **to_pandas**: Converts the search results to a Pandas DataFrame.\n",
    "    - **to_dict**: Converts the search results to a dictionary with url_hash as the key.\n",
    "    - **to_dicts**: Converts the search results to a list of dictionaries, each representing a search result.\n",
    "\n",
    "- Search results can be saved and loaded to and from disk in various formats.\n",
    "    - **write_csv**: Saves the search results to a CSV file.\n",
    "    - **write_parquet**: Saves the search results to a Parquet file.\n",
    "    - **write_ipc**: Saves the search results to an Arrow file.\n",
    "    - **write_ndjson**: Saves the search results to an NDJSON file.\n",
    "    - **write_json**: Converts the search results to a JSON string. (Can optionally save to disk)"
   ]
  },
  {
   "cell_type": "code",
   "id": "b5a2bab8",
   "metadata": {
    "ExecuteTime": {
     "end_time": "2025-08-15T15:31:00.985672Z",
     "start_time": "2025-08-15T15:30:58.652191Z"
    }
   },
   "source": [
    "from nosible import Nosible\n",
    "\n",
    "# Converting to polars DataFrame.\n",
    "with Nosible() as nos:\n",
    "    results = nos.fast_search(\n",
    "        question=\"Will tariffs drive inflation up in the US?\",\n",
    "        n_results=30,\n",
    "    )\n",
    "\n",
    "df = results.to_polars()  # Convert results to a Polars DataFrame\n",
    "print(df)"
   ],
   "outputs": [
    {
     "name": "stdout",
     "output_type": "stream",
     "text": [
      "shape: (30, 23)\n",
      "┌───────────┬───────────┬───────────┬───────────┬───┬───────────┬───────────┬───────────┬──────────┐\n",
      "│ url       ┆ title     ┆ descripti ┆ netloc    ┆ … ┆ iab_tier_ ┆ iab_tier_ ┆ iab_tier_ ┆ iab_tier │\n",
      "│ ---       ┆ ---       ┆ on        ┆ ---       ┆   ┆ 1         ┆ 2         ┆ 3         ┆ _4       │\n",
      "│ str       ┆ str       ┆ ---       ┆ str       ┆   ┆ ---       ┆ ---       ┆ ---       ┆ ---      │\n",
      "│           ┆           ┆ str       ┆           ┆   ┆ null      ┆ null      ┆ null      ┆ null     │\n",
      "╞═══════════╪═══════════╪═══════════╪═══════════╪═══╪═══════════╪═══════════╪═══════════╪══════════╡\n",
      "│ https://w ┆ April CPI ┆ April's   ┆ www.finge ┆ … ┆ null      ┆ null      ┆ null      ┆ null     │\n",
      "│ ww.finger ┆ report:   ┆ inflation ┆ rlakes1.c ┆   ┆           ┆           ┆           ┆          │\n",
      "│ lakes1.co ┆ How       ┆ cooled to ┆ om        ┆   ┆           ┆           ┆           ┆          │\n",
      "│ m/2…      ┆ Trump's … ┆ 2.…       ┆           ┆   ┆           ┆           ┆           ┆          │\n",
      "│ https://e ┆ US core   ┆ US        ┆ economict ┆ … ┆ null      ┆ null      ┆ null      ┆ null     │\n",
      "│ conomicti ┆ inflation ┆ inflation ┆ imes.indi ┆   ┆           ┆           ┆           ┆          │\n",
      "│ mes.india ┆ heats up  ┆ remained  ┆ atimes.co ┆   ┆           ┆           ┆           ┆          │\n",
      "│ tim…      ┆ in …      ┆ steady a… ┆ m         ┆   ┆           ┆           ┆           ┆          │\n",
      "│ https://b ┆ US        ┆ The       ┆ breakingl ┆ … ┆ null      ┆ null      ┆ null      ┆ null     │\n",
      "│ reakingla ┆ Tariffs:  ┆ Shifting  ┆ atest.new ┆   ┆           ┆           ┆           ┆          │\n",
      "│ test.news ┆ Quick     ┆ Landscape ┆ s         ┆   ┆           ┆           ┆           ┆          │\n",
      "│ /wo…      ┆ Guide -   ┆ of US T…  ┆           ┆   ┆           ┆           ┆           ┆          │\n",
      "│           ┆ RTE.…     ┆           ┆           ┆   ┆           ┆           ┆           ┆          │\n",
      "│ https://f ┆ How will  ┆ Trump     ┆ finance.y ┆ … ┆ null      ┆ null      ┆ null      ┆ null     │\n",
      "│ inance.ya ┆ Trump try ┆ will      ┆ ahoo.com  ┆   ┆           ┆           ┆           ┆          │\n",
      "│ hoo.com/n ┆ to fix    ┆ probably  ┆           ┆   ┆           ┆           ┆           ┆          │\n",
      "│ ews…      ┆ infl…     ┆ seek to   ┆           ┆   ┆           ┆           ┆           ┆          │\n",
      "│           ┆           ┆ ea…       ┆           ┆   ┆           ┆           ┆           ┆          │\n",
      "│ https://s ┆ Trump's   ┆ Trump's   ┆ stocksdow ┆ … ┆ null      ┆ null      ┆ null      ┆ null     │\n",
      "│ tocksdown ┆ Tariffs:  ┆ tariffs   ┆ nunder.co ┆   ┆           ┆           ┆           ┆          │\n",
      "│ under.com ┆ Will They ┆ could     ┆ m         ┆   ┆           ┆           ┆           ┆          │\n",
      "│ /tr…      ┆ Del…      ┆ influenc… ┆           ┆   ┆           ┆           ┆           ┆          │\n",
      "│ …         ┆ …         ┆ …         ┆ …         ┆ … ┆ …         ┆ …         ┆ …         ┆ …        │\n",
      "│ https://f ┆ This week ┆ Big       ┆ finance.y ┆ … ┆ null      ┆ null      ┆ null      ┆ null     │\n",
      "│ inance.ya ┆ in Trumpo ┆ retailers ┆ ahoo.com  ┆   ┆           ┆           ┆           ┆          │\n",
      "│ hoo.com/n ┆ nomics:   ┆ confirm   ┆           ┆   ┆           ┆           ┆           ┆          │\n",
      "│ ews…      ┆ Eve…      ┆ that pri… ┆           ┆   ┆           ┆           ┆           ┆          │\n",
      "│ https://w ┆ Trump's   ┆ President ┆ www.cnn.c ┆ … ┆ null      ┆ null      ┆ null      ┆ null     │\n",
      "│ ww.cnn.co ┆ $1.4      ┆ Donald    ┆ om        ┆   ┆           ┆           ┆           ┆          │\n",
      "│ m/2025/02 ┆ trillion  ┆ Trump is  ┆           ┆   ┆           ┆           ┆           ┆          │\n",
      "│ /02…      ┆ gamble w… ┆ on t…     ┆           ┆   ┆           ┆           ┆           ┆          │\n",
      "│ http://ww ┆ Trump's   ┆ U.S.      ┆ www.econo ┆ … ┆ null      ┆ null      ┆ null      ┆ null     │\n",
      "│ w.econoti ┆ 25% Auto  ┆ President ┆ times.com ┆   ┆           ┆           ┆           ┆          │\n",
      "│ mes.com/T ┆ Tariff    ┆ Donald    ┆           ┆   ┆           ┆           ┆           ┆          │\n",
      "│ rum…      ┆ Shakes…   ┆ Trump an… ┆           ┆   ┆           ┆           ┆           ┆          │\n",
      "│ https://l ┆ Trump's   ┆ CNN       ┆ localnews ┆ … ┆ null      ┆ null      ┆ null      ┆ null     │\n",
      "│ ocalnews8 ┆ tariffs   ┆ Analysis  ┆ 8.com     ┆   ┆           ┆           ┆           ┆          │\n",
      "│ .com/poli ┆ are a     ┆ by Matt   ┆           ┆   ┆           ┆           ┆           ┆          │\n",
      "│ tic…      ┆ $1.4 tri… ┆ Egan,     ┆           ┆   ┆           ┆           ┆           ┆          │\n",
      "│           ┆           ┆ CNN…      ┆           ┆   ┆           ┆           ┆           ┆          │\n",
      "│ https://w ┆ US        ┆ Annual    ┆ www.seatt ┆ … ┆ null      ┆ null      ┆ null      ┆ null     │\n",
      "│ ww.seattl ┆ inflation ┆ inflation ┆ letimes.c ┆   ┆           ┆           ┆           ┆          │\n",
      "│ etimes.co ┆ likely    ┆ in the    ┆ om        ┆   ┆           ┆           ┆           ┆          │\n",
      "│ m/b…      ┆ edged up  ┆ United…   ┆           ┆   ┆           ┆           ┆           ┆          │\n",
      "│           ┆ l…        ┆           ┆           ┆   ┆           ┆           ┆           ┆          │\n",
      "└───────────┴───────────┴───────────┴───────────┴───┴───────────┴───────────┴───────────┴──────────┘\n"
     ]
    }
   ],
   "execution_count": 1
  },
  {
   "cell_type": "code",
   "id": "871a3d78",
   "metadata": {
    "ExecuteTime": {
     "end_time": "2025-08-15T15:31:01.078737Z",
     "start_time": "2025-08-15T15:31:01.010575Z"
    }
   },
   "source": [
    "from nosible import ResultSet\n",
    "\n",
    "# Example saving and loading the results.\n",
    "results.write_csv(\"results.csv\")  # Save results to a CSV file\n",
    "\n",
    "loaded = ResultSet.read_csv(\"results.csv\")  # Load results from a CSV file\n",
    "print(loaded)"
   ],
   "outputs": [
    {
     "name": "stdout",
     "output_type": "stream",
     "text": [
      "Idx | Similarity | Title\n",
      "------------------------\n",
      "  0 |       1.00 | April CPI report: How Trump's tariffs slowed inflation\n",
      "  1 |       0.96 | US core inflation heats up in July amid Trump tariffs: Prices at your nearest grocery stores to increase?\n",
      "  2 |       0.96 | US Tariffs: Quick Guide - RTE.ie | Trade, Economy, Impact - Breaking Latest News\n",
      "  3 |       0.95 | How will Trump try to fix inflation? Experts say he'll focus on these areas.\n",
      "  4 |       0.95 | Trump's Tariffs: Will They Delay Rate Cuts or Cause a Recession?\n",
      "  5 |       0.94 | Trade war and inflation: How Trump's tariffs on China, Canada and Mexico will ripple US economy\n",
      "  6 |       0.94 | Walmart Tells Chinese Suppliers to Absorb Cost of Trump's Tariffs\n",
      "  7 |       0.94 | Peter Navarro: Just Like First Term, Trump's Tariffs Will Not Spike Inflation\n",
      "  8 |       0.93 | US consumer inflation picks up to 2.7% as tariff scrutiny grows\n",
      "  9 |       0.93 | US Inflation May Have Cooled, But Trump's Tariffs May Keep Prices High\n",
      " 10 |       0.93 | Trump tariff | Highlights: Canada to pursue legal action against US for tariffs\n",
      " 11 |       0.93 | U.S. earnings like to show first \"material impact\" from Trump's tariffs - Barclays\n",
      " 12 |       0.93 | At the Money: Austan Goolsbee, Chicago Fed President on Tariffs, Inflation and Monetary Policy\n",
      " 13 |       0.93 | Jill On Money: Trump tariffs 2.0\n",
      " 14 |       0.92 | Inflation, prices jump as Trump ignores 'real Americans.' What about America first? | Opinion\n",
      " 15 |       0.92 | Mark Cuban Reveals 3 Ways Trump's Trade War Will Impact American Consumers\n",
      " 16 |       0.92 | Tariff tantrums, bond concerns & emerging market opportunities\n",
      " 17 |       0.92 | Tariffs Could Reignite Inflation, UBS Warns - EconoTimes\n",
      " 18 |       0.92 | Fed Chair Says Trump's Tariffs Are Definitely Making Inflation Worse\n",
      " 19 |       0.91 | Four ways tariffs drive up inflation\n",
      " 20 |       0.91 | 5 questions about Trump's auto tariffs\n",
      " 21 |       0.91 | Fed's Powell says he expects to see more tariff-driven price hikes in coming months\n",
      " 22 |       0.91 | Will Higher Tariffs Lead to Inflation and Higher Interest Rates in 2025?\n",
      " 23 |       0.90 | Soaring inflation helped lead Trump to victory\n",
      " 24 |       0.90 | Consumer Concerns about Tariffs and Food Prices\n",
      " 25 |       0.90 | This week in Trumponomics: Everyday higher prices\n",
      " 26 |       0.90 | Trump's $1.4 trillion gamble with the economy and prices | CNN Business\n",
      " 27 |       0.90 | Trump's 25% Auto Tariff Shakes Markets, Pressures Global Carmakers - EconoTimes\n",
      " 28 |       0.90 | Trump's tariffs are a $1.4 trillion gamble with the economy and prices - Local News 8\n",
      " 29 |       0.89 | US inflation likely edged up last month, though not enough to deter another Fed rate cut\n"
     ]
    }
   ],
   "execution_count": 2
  }
 ],
 "metadata": {
  "kernelspec": {
   "display_name": "nosible",
   "language": "python",
   "name": "python3"
  },
  "language_info": {
   "codemirror_mode": {
    "name": "ipython",
    "version": 3
   },
   "file_extension": ".py",
   "mimetype": "text/x-python",
   "name": "python",
   "nbconvert_exporter": "python",
   "pygments_lexer": "ipython3",
   "version": "3.10.16"
  }
 },
 "nbformat": 4,
 "nbformat_minor": 5
}
