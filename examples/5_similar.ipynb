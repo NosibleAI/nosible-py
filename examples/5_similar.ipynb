{
 "cells": [
  {
   "cell_type": "markdown",
   "id": "d04590a0",
   "metadata": {},
   "source": [
    "# Similar\n",
    "\n",
    "The similar function allows you to find similar articles to a given result.\n",
    "- You can apply filters to the similar function, such as `published_start`, `published_end`, `include_netlocs`, `exclude_netlocs`, `include_companies`, `exclude_companies`, and `language`."
   ]
  },
  {
   "cell_type": "code",
   "id": "21ad011a",
   "metadata": {
    "ExecuteTime": {
     "end_time": "2025-08-15T15:31:07.411560Z",
     "start_time": "2025-08-15T15:31:04.981542Z"
    }
   },
   "source": [
    "from nosible import Nosible\n",
    "\n",
    "with Nosible() as nos:\n",
    "    results = nos.fast_search(\n",
    "        question=\"Why Is Berkshire Hathaway Hoarding Cash?\",\n",
    "        n_results=10,\n",
    "    )\n",
    "\n",
    "for idx, result in enumerate(results):\n",
    "    print(f\"{idx:2} | {result.similarity:.2f} | {result.title} - {result.url}\")"
   ],
   "outputs": [
    {
     "name": "stdout",
     "output_type": "stream",
     "text": [
      " 0 | 0.99 | Berkshire Hathaway Hoards $334 Billion in Cash. Is Buffett Stepping Out of the Game? - https://www.tradingview.com/news/tradingview:21c7ccb74094b:0-berkshire-hathaway-hoards-334-billion-in-cash-is-buffett-stepping-out-of-the-game\n",
      " 1 | 0.99 | Berkshire Hathaway's Massive Cash Hoard - https://www.fool.com/investing/2018/08/10/berkshire-hathaways-massive-cash-hoard.aspx?source=iedfolrf0000001\n",
      " 2 | 0.98 | This Is How Much Cash Berkshire Hathaway (NYSE:BRK.B) Has - https://www.tipranks.com/news/how-much-cash-does-berkshire-hathaway-nysebrk-b-have-anyway\n",
      " 3 | 0.98 | Berkshire Hathaway Has $149 Billion in Cash -- Here's the Stock It Keeps Buying With It - https://www.fool.com/investing/2021/11/24/berkshire-hathaway-149-billion-cash-heres-stock/?source=financialcontent\n",
      " 4 | 0.98 | Berkshire Hathaway Q2 Earnings Lag; to Ink its Biggest Deal - Analyst Blog - http://www.nasdaq.com/article/berkshire-hathaway-q2-earnings-lag-to-ink-its-biggest-deal-analyst-blog-cm506950\n",
      " 5 | 0.98 | Warren Buffett Has $130 Billion in Cash -- What's He Doing With It? - https://www.gobankingrates.com/money/business/warren-buffett-has-billions-in-cash-whats-he-doing-with-it\n",
      " 6 | 0.98 | What Buffett likes now: Buffett - http://www.theglobeandmail.com/globe-investor/inside-the-market/what-buffett-likes-now-buffett/article6259616\n",
      " 7 | 0.98 | Warren Buffett Has $130 Billion in Cash — What's He Doing With It? - https://finance.yahoo.com/news/warren-buffett-130-billion-cash-163151316.html\n",
      " 8 | 0.98 | 3 Reasons to Buy Berkshire Hathaway Stock Like There's No Tomorrow - https://www.fool.com/investing/2024/07/27/3-reasons-to-buy-berkshire-hathaway-stock-like-the\n",
      " 9 | 0.98 | Why is Buffett Hoarding Cash While The S&P (VOO) Is At All Time Highs? - https://247wallst.com/investing/2025/08/04/why-is-buffett-hoarding-cash-while-the-sp-voo-is-at-all-time-highs\n"
     ]
    }
   ],
   "execution_count": 1
  },
  {
   "cell_type": "code",
   "id": "7277344b",
   "metadata": {
    "ExecuteTime": {
     "end_time": "2025-08-15T15:31:09.532563Z",
     "start_time": "2025-08-15T15:31:07.430020Z"
    }
   },
   "source": [
    "# Let's use the fourth result to find similar articles.\n",
    "with Nosible() as nos:\n",
    "    similar = results[3].similar(\n",
    "        client=nos,  # Use the same Nosible client\n",
    "        n_results=10,\n",
    "        publish_start=\"2025-01-01\",\n",
    "    )\n",
    "\n",
    "for idx, result in enumerate(similar):\n",
    "    print(f\"{idx:2} | {result.similarity:.2f} | {result.title} - {result.url}\")"
   ],
   "outputs": [
    {
     "name": "stdout",
     "output_type": "stream",
     "text": [
      " 0 | 0.96 | 2 Blue Chip Dividend Giants Make Up Almost 40% of Warren Buffett's Portfolio - https://247wallst.com/investing/2025/02/08/2-blue-chip-dividend-giants-make-up-almost-40-of-warren-buffetts-portfolio\n",
      " 1 | 0.95 | Amex, Apple… The five largest holdings of Berkshire Hathaway - https://www.moneycontrol.com/news/business/markets/amex-apple-the-five-largest-holdings-of-berkshire-hathaway-13012134.html\n",
      " 2 | 0.95 | Is Warren Buffett Preparing For a Market Crash? This Move Says Yes - https://247wallst.com/investing/2025/02/17/is-warren-buffett-preparing-for-a-market-crash-this-move-says-yes\n",
      " 3 | 0.95 | Berkshire Hathaway (BRK.B) Stock: Why Buffett's Cash Mountain Is Paying Off Big - https://moneycheck.com/berkshire-hathaway-brk-b-stock-why-buffetts-cash-mountain-is-paying-off-big\n",
      " 4 | 0.95 | 2 Industry-Leading Companies Warren Buffett Should Strongly Consider Acquiring With Berkshire Hathaway's $334 Billion War Chest - https://www.fool.com/investing/2025/04/28/2-companies-warren-buffett-should-buy-334-billion\n",
      " 5 | 0.94 | Meet the Stock Warren Buffett Has the Utmost Confidence In -- He's Been a Buyer for 24 of the Last 25 Quarters - https://www.fool.com/investing/2025/01/27/meet-stock-warren-buffett-has-utmost-confidence-in\n",
      " 6 | 0.94 | The Single Best Stock To Buy With $1000 Today - https://247wallst.com/investing/2025/05/13/the-single-best-stock-to-buy-with-1000-today\n",
      " 7 | 0.94 | Warren Buffett Is Still Very Worried and Still Selling: His 3 Highest-Yielding Stocks Are Summer Steals - https://247wallst.com/investing/2025/05/27/warren-buffett-is-still-very-worried-and-hes-still-selling-his-3-highest-yielding-stocks-are-summer-steals\n",
      " 8 | 0.94 | Why is Buffett Dumping $140b in Stocks When Inflation Could Crush Cash? - https://247wallst.com/investing/2025/03/18/why-is-buffett-dumping-140b-in-stocks-when-inflation-could-crush-cash\n",
      " 9 | 0.94 | Warren Buffett Just Spent $2.6 Billion Buying 6 Different Stocks for Berkshire Hathaway's Portfolio. Here's the Best of the Bunch. - https://www.fool.com/investing/2025/03/18/buffett-just-spent-26-billion-buying-6-different\n"
     ]
    }
   ],
   "execution_count": 2
  }
 ],
 "metadata": {
  "kernelspec": {
   "display_name": "nosible",
   "language": "python",
   "name": "python3"
  },
  "language_info": {
   "codemirror_mode": {
    "name": "ipython",
    "version": 3
   },
   "file_extension": ".py",
   "mimetype": "text/x-python",
   "name": "python",
   "nbconvert_exporter": "python",
   "pygments_lexer": "ipython3",
   "version": "3.10.16"
  }
 },
 "nbformat": 4,
 "nbformat_minor": 5
}
