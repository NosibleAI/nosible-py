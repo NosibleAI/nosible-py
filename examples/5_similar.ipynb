{
 "cells": [
  {
   "cell_type": "markdown",
   "id": "d04590a0",
   "metadata": {},
   "source": [
    "# Similar\n",
    "\n",
    "The similar function allows you to find similar articles to a given result.\n",
    "- You can apply filters to the similar function, such as `published_start`, `published_end`, `include_netlocs`, `exclude_netlocs`, `include_companies`, `exclude_companies`, and `language`."
   ]
  },
  {
   "cell_type": "code",
   "execution_count": null,
   "id": "21ad011a",
   "metadata": {},
   "outputs": [
    {
     "name": "stdout",
     "output_type": "stream",
     "text": [
      " 0 | 0.97 | Berkshire Hathaway Is Hoarding $168 Billion in Cash -- Here's Why - https://www.fool.com/investing/2024/03/01/berkshire-hathaway-is-hoarding-168-billion-in-cash\n",
      " 1 | 0.95 | Berkshire Hathaway's Massive Cash Hoard - https://www.fool.com/investing/2018/08/10/berkshire-hathaways-massive-cash-hoard.aspx?source=iedfolrf0000001\n",
      " 2 | 0.95 | Warren Buffett's $109 Billion Cash Problem: How Much Longer Will It Continue? - https://www.fool.com/investing/2017/11/07/warren-buffetts-109-billion-cash-problem-how-much.aspx?referring_guid=823ebe20-dc4f-11e7-abc6-0050569d4be0\n",
      " 3 | 0.94 | Here Are 3 Big Reasons Berkshire Hathaway Is Sitting on Almost $190 Billion in Cash - https://www.fool.com/investing/2024/05/08/here-are-3-big-reason-why-berkshire-hathaway-is-si/\n",
      " 4 | 0.93 | This Is How Much Cash Berkshire Hathaway (NYSE:BRK.B) Has - https://www.tipranks.com/news/how-much-cash-does-berkshire-hathaway-nysebrk-b-have-anyway\n",
      " 5 | 0.93 | Cash is piling up faster than Warren Buffett can invest it - http://triblive.com/business/headlines/11292317-74/buffett-berkshire-cash\n",
      " 6 | 0.93 | You'll Be Surprised at the Size of Berkshire Hathaway's War Chest - http://www.fool.com/investing/2016/12/25/youll-be-surprised-at-the-size-of-berkshire-hathaw.aspx?source=yahoo-2&yptr=yahoo\n",
      " 7 | 0.93 | Why Buffett Is Hoarding Cash and How You Can Follow Him - https://www.tipranks.com/news/why-buffett-is-hoarding-cash-and-how-you-can-follow-him\n",
      " 8 | 0.92 | Why is Warren Buffett hoarding so much cash? | Mint - https://www.livemint.com/money/why-is-warren-buffett-hoarding-so-much-cash-11740135788877.html\n",
      " 9 | 0.92 | Berkshire Hathaway Hoards $334 Billion in Cash. Is Buffett Stepping Out of the Game? - https://www.tradingview.com/news/tradingview:21c7ccb74094b:0-berkshire-hathaway-hoards-334-billion-in-cash-is-buffett-stepping-out-of-the-game\n"
     ]
    }
   ],
   "source": [
    "from nosible import Nosible\n",
    "\n",
    "with Nosible() as nos:\n",
    "    results = nos.fast_search(\n",
    "        question=\"Why Is Berkshire Hathaway Hoarding Cash?\",\n",
    "        n_results=10,\n",
    "    )\n",
    "\n",
    "for idx, result in enumerate(results):\n",
    "    print(f\"{idx:2} | {result.similarity:.2f} | {result.title} - {result.url}\")"
   ]
  },
  {
   "cell_type": "code",
   "execution_count": 2,
   "id": "7277344b",
   "metadata": {},
   "outputs": [
    {
     "name": "stdout",
     "output_type": "stream",
     "text": [
      " 0 | 0.93 | Is Warren Buffett Sitting On A Cash Mountain For A Reason? - Sos Aktuellt - https://sosaktuellt.fi/news-en/is-warren-buffett-sitting-on-a-cash-mountain-for-a-reason/153633\n",
      " 1 | 0.90 | Why Is Berkshire Hathaway Hoarding Cash? - https://www.fool.com/investing/2025/06/20/why-is-berkshire-hathaway-hoarding-cash\n",
      " 2 | 0.87 | Berkshire Hathaway (BRK.B) Stock: Why Buffett's Cash Mountain Is Paying Off Big - https://moneycheck.com/berkshire-hathaway-brk-b-stock-why-buffetts-cash-mountain-is-paying-off-big\n",
      " 3 | 0.87 | Warren Buffett to Step Down as Berkshire Hathaway's CEO: 7 Reasons the Ultimate Buffett Stock Is Still a No-Brainer Buy - https://www.fool.com/investing/2025/05/04/warren-buffett-to-step-down-as-berkshire-hathaways\n",
      " 4 | 0.87 | ¿Está Warren Buffett sentado sobre una montaña de efectivo por una razón? - OiNegro - https://sosaktuellt.fi/es/news_es/esta-warren-buffett-sentado-sobre-una-montana-de-efectivo-por-una-razon/154255\n",
      " 5 | 0.87 | Buffett Says Berkshire sitting on $335 billion in cash, waiting for 'fat pitches' - https://www.moneycontrol.com/news/business/markets/buffett-says-berkshire-sitting-on-335-billion-in-cash-waiting-for-fat-pitches-13012112.html\n",
      " 6 | 0.87 | Why Berkshire Hathaway B (BRK.B) Dipped More Than Broader Market Today - http://www.finanzen.net/nachricht/aktien/why-berkshire-hathaway-b-brk-b-dipped-more-than-broader-market-today-14568997\n",
      " 7 | 0.87 | Berkshire Hathaway Q4 cash position $334B vs. $325B last quarter - https://www.tipranks.com/news/the-fly/berkshire-hathaway-q4-cash-position-334b-vs-325b-last-quarter\n",
      " 8 | 0.87 | Berkshire Hathaway Hoards $334 Billion in Cash. Is Buffett Stepping Out of the Game? - https://www.tradingview.com/news/tradingview:21c7ccb74094b:0-berkshire-hathaway-hoards-334-billion-in-cash-is-buffett-stepping-out-of-the-game\n",
      " 9 | 0.86 | Why are the world's leading investors moving their holdings into cash? - https://www.scotsman.com/must-read/why-are-the-worlds-leading-investors-moving-their-holdings-into-cash-5015978\n"
     ]
    }
   ],
   "source": [
    "# Let's use the fourth result to find similar articles.\n",
    "with Nosible() as nos:\n",
    "    similar = results[3].similar(\n",
    "        client=nos,  # Use the same Nosible client\n",
    "        n_results=10,\n",
    "        publish_start=\"2025-01-01\",\n",
    "    )\n",
    "\n",
    "for idx, result in enumerate(similar):\n",
    "    print(f\"{idx:2} | {result.similarity:.2f} | {result.title} - {result.url}\")"
   ]
  }
 ],
 "metadata": {
  "kernelspec": {
   "display_name": "nosible",
   "language": "python",
   "name": "python3"
  },
  "language_info": {
   "codemirror_mode": {
    "name": "ipython",
    "version": 3
   },
   "file_extension": ".py",
   "mimetype": "text/x-python",
   "name": "python",
   "nbconvert_exporter": "python",
   "pygments_lexer": "ipython3",
   "version": "3.10.16"
  }
 },
 "nbformat": 4,
 "nbformat_minor": 5
}
