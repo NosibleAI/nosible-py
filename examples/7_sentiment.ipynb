{
 "cells": [
  {
   "cell_type": "markdown",
   "id": "e73ee64d",
   "metadata": {},
   "source": [
    "# Sentiment\n",
    "\n",
    "This fetches a sentiment score for each search result.\n",
    "- The sentiment score is a float between `-1` and `1`, where `-1` is **negative**, `0` is **neutral**, and `1` is **positive**.\n",
    "- The sentiment model can be changed by passing the `sentiment_model` parameter to the `Nosible` constructor.\n",
    "    - The `sentiment_model` defaults to \"openai/gpt-4o\", which is a powerful model for sentiment analysis.\n",
    "- You can also change the base URL for the LLM API by passing the `openai_base_url` parameter to the `Nosible` constructor.\n",
    "    - The `openai_base_url` defaults to OpenRouter's API endpoint."
   ]
  },
  {
   "cell_type": "code",
   "execution_count": null,
   "id": "c91ca0da",
   "metadata": {},
   "outputs": [
    {
     "name": "stdout",
     "output_type": "stream",
     "text": [
      "Idx | Similarity | Title\n",
      "------------------------\n",
      "  0 |   0.96 | Will Higher Tariffs Lead to Inflation and Higher Interest Rates in 2025?\n",
      "  1 |   0.94 | US Tariffs: Quick Guide - RTE.ie | Trade, Economy, Impact - Breaking Latest News\n",
      "  2 |   0.93 | Jill On Money: Trump tariffs 2.0\n",
      "  3 |   0.93 | How to keep saving money even if Trump's tariffs drive inflation up\n",
      "  4 |   0.93 | Ending America's Trade War with China Won't Stop Inflation | Geopolitical Monitor\n",
      "  5 |   0.93 | Trump tariffs are likely to raise US PCE inflation by 0.7% and hurt GDP by 1.2%: Report\n",
      "  6 |   0.92 | US inflation worsened last month as the cost of groceries and gasoline head higher\n",
      "  7 |   0.92 | Why Trump's tariff plans could lead to higher interest rates - Local News 8\n",
      "  8 |   0.92 | US inflation swaps price in big short-term tariff impact, flag recession risk\n",
      "  9 |   0.92 | What Biden's tariffs on Chinese imports may mean for American jobs, the economy and inflation - Local News 8\n",
      "\n",
      "0.0\n",
      "0.0\n",
      "-0.2\n",
      "-0.5\n",
      "-0.3\n",
      "-0.5\n",
      "0.0\n",
      "0.0\n",
      "-0.7\n",
      "0.1\n"
     ]
    }
   ],
   "source": [
    "from nosible import Nosible\n",
    "\n",
    "# Example of using sentiment analysis\n",
    "with Nosible() as nos:\n",
    "    results = nos.fast_search(\n",
    "        question=\"Will tariffs drive inflation up in the US?\",\n",
    "        n_results=10,\n",
    "    )\n",
    "    print(results)\n",
    "    print()\n",
    "    for result in results:\n",
    "        print(result.sentiment(client=nos))"
   ]
  },
  {
   "cell_type": "code",
   "execution_count": null,
   "id": "69f7d96d",
   "metadata": {},
   "outputs": [
    {
     "name": "stdout",
     "output_type": "stream",
     "text": [
      "Title: NVIDIA (NVDA) Price Prediction and Forecast 2025-2030 For February 27, Sentiment: 0.80\n",
      "Title: NVIDIA (NASDAQ: NVDA) Price Prediction and Forecast 2025-2030 for May 27, Sentiment: 0.80\n",
      "Title: Nvidia Stock Price Target 2025 – How High Will Nvidia Go?, Sentiment: 0.90\n",
      "Title: NVIDIA (NVDA) Price Prediction and Forecast 2025-2030 For March 18, Sentiment: 0.80\n",
      "Title: Nvidia Share Price Forecast 2024, 2025 and 2030, Sentiment: 0.20\n",
      "Title: NVIDIA (NVDA) Price Prediction and Forecast 2025-2030 For January 21, Sentiment: 0.90\n",
      "Title: NVIDIA (NVDA) Price Prediction and Forecast 2025-2030 For March 4, Sentiment: 0.80\n",
      "Title: NVIDIA (NASDAQ: NVDA) Price Prediction and Forecast 2025-2030 for April 8, Sentiment: 0.80\n",
      "Title: Jensen Huang Reveals RTX 5060, DGX Station, Nvidia Constellation And More At Computex 2025: 'We Realize N, Sentiment: 0.30\n",
      "Title: Can Nvidia Stock Still Hit $200 in 2025?, Sentiment: 0.70\n",
      "\n",
      "Average Sentiment: 0.70\n",
      "Total Sentiment: 7.00\n"
     ]
    }
   ],
   "source": [
    "# More advanced example of using sentiment analysis\n",
    "\n",
    "# Search and average sentiment for Nvidia financial articles\n",
    "with Nosible() as nos:\n",
    "    results = nos.fast_search(question=\"What is the price target for Nvidia for 2025?\", n_results=10)\n",
    "    total_sentiment = 0.0\n",
    "    for result in results:\n",
    "        sentiment = result.sentiment(client=nos)\n",
    "        total_sentiment += sentiment\n",
    "        print(f\"Title: {result.title}, Sentiment: {sentiment:.2f}\")\n",
    "    average_sentiment = total_sentiment / len(results) if results else 0.0\n",
    "    print(f\"\\nAverage Sentiment: {average_sentiment:.2f}\")\n",
    "    print(f\"Total Sentiment: {total_sentiment:.2f}\")"
   ]
  }
 ],
 "metadata": {
  "kernelspec": {
   "display_name": "nosible",
   "language": "python",
   "name": "python3"
  },
  "language_info": {
   "codemirror_mode": {
    "name": "ipython",
    "version": 3
   },
   "file_extension": ".py",
   "mimetype": "text/x-python",
   "name": "python",
   "nbconvert_exporter": "python",
   "pygments_lexer": "ipython3",
   "version": "3.10.16"
  }
 },
 "nbformat": 4,
 "nbformat_minor": 5
}
