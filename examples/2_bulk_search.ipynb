{
 "cells": [
  {
   "cell_type": "markdown",
   "id": "8403bd24",
   "metadata": {},
   "source": [
    "# Bulk Search\n",
    "\n",
    "Bulk search enables you to retrieve a large number of results in a single request, making it ideal for large-scale data analysis and processing.\n",
    "\n",
    "- Use the `bulk_search` method when you need more than 1,000 results for a single query.\n",
    "- You can request between **1,000 and 10,000** results per query.\n",
    "- All parameters available in the standard `search` method—such as `expansions`, `include_companies`, `include_languages`, and more—are also supported in `bulk_search`.\n",
    "- A bulk search for 10,000 results typically completes in about 30 seconds or less."
   ]
  },
  {
   "cell_type": "code",
   "execution_count": 1,
   "id": "db0ad639",
   "metadata": {},
   "outputs": [
    {
     "name": "stdout",
     "output_type": "stream",
     "text": [
      "Fetched results:\n",
      "1000\n"
     ]
    }
   ],
   "source": [
    "# Bulk search\n",
    "from nosible import Nosible\n",
    "\n",
    "with Nosible() as nos:\n",
    "    results = nos.bulk_search(\n",
    "        question=\"What are the terms of the partnership between Microsoft and OpenAI?\",\n",
    "        n_results=1000,\n",
    "        expansions=[\n",
    "            \"What are the terms and conditions of the deal between Microsoft and OpenAI?\",\n",
    "            \"What have Microsoft and OpenAI agreed to in terms of their partnership?\",\n",
    "            \"What restrictions have been placed upon OpenAI as part of their Microsoft deal?\",\n",
    "            \"Under what conditions can Microsoft or OpenAI exit their partnership?\",\n",
    "            \"What are the details of the partnership between OpenAI and Microsoft?\",\n",
    "            \"Why did Microsoft decide to invest into OpenAI? What are the terms of the deal?\",\n",
    "            \"What are the legal requirements placed upon OpenAI as part of the Microsoft investment?\",\n",
    "            \"What are the financial terms and equity stakes in the Microsoft-OpenAI deal?\",\n",
    "            \"How does the Microsoft-OpenAI partnership affect OpenAI's autonomy and projects?\",\n",
    "            \"What legal requirements must OpenAI meet due to the Microsoft investment?\",\n",
    "        ],\n",
    "    )\n",
    "\n",
    "print(\"Fetched results:\")\n",
    "print(len(results))  # Print the number of results returned by the bulk search"
   ]
  },
  {
   "cell_type": "markdown",
   "id": "8f517a62",
   "metadata": {},
   "source": [
    "## Saving and Loading Bulk Search results"
   ]
  },
  {
   "cell_type": "code",
   "execution_count": 2,
   "id": "8908c613",
   "metadata": {},
   "outputs": [],
   "source": [
    "from nosible import ResultSet\n",
    "\n",
    "results.to_arrow(\"results.ipc\")  # Convert results to an Arrow Table\n",
    "\n",
    "\n",
    "loaded = ResultSet.from_arrow(\"results.ipc\")  # Load results from an Arrow Table"
   ]
  },
  {
   "cell_type": "markdown",
   "id": "51da6877",
   "metadata": {},
   "source": [
    "## Searching within Search Results\n",
    "\n",
    "You can search within the results of a bulk search using the `find_in_search_results` method."
   ]
  },
  {
   "cell_type": "code",
   "execution_count": 3,
   "id": "f8a8b50e",
   "metadata": {},
   "outputs": [
    {
     "name": "stdout",
     "output_type": "stream",
     "text": [
      "Idx | Similarity | Title\n",
      "------------------------\n",
      "  0 |   0.83 | Microsoft, OpenAI Clash Over AGI Contract Terms Amid Ongoing Partnership Talks - EconoTimes\n",
      "  1 |   0.81 | Trouble between AI's power couple: What's brewing between Microsoft and OpenAI? - The Economic Times\n",
      "  2 |   0.79 | AI Daily: OpenAI awarded $200M U.S. defense contract\n",
      "  3 |   0.78 | Cracks deepen in OpenAI-Microsoft partnership, big breakup ahead?\n",
      "  4 |   0.79 | $200 Million US Defense Contract: OpenAI's Big Win as Microsoft Tensions Escalate\n",
      "  5 |   0.87 | Why OpenAI Just Bet $11.9B On CoreWeave: Microsoft Won't Be Happy - Dataconomy\n",
      "  6 |   0.78 | Tensions Rise as Microsoft Rethinks Equity Deal with OpenAI\n",
      "  7 |   0.79 | OpenAI reportedly warned Microsoft about integrating GPT-4 into Bing\n",
      "  8 |   0.80 | OpenAI and Microsoft Are Clashing Over Money, Power, and AGI \n",
      "  9 |   0.80 | Did Microsoft and OpenAI have a fight over BingAI? Here's what we know so far | Mint\n"
     ]
    }
   ],
   "source": [
    "# Example Inner search on bulk search results\n",
    "\n",
    "found = loaded.find_in_search_results(query=\"Tensions between Microsoft and Openai\", top_k=10)\n",
    "\n",
    "print(found)"
   ]
  },
  {
   "cell_type": "code",
   "execution_count": 4,
   "id": "db4e3951",
   "metadata": {},
   "outputs": [
    {
     "name": "stdout",
     "output_type": "stream",
     "text": [
      "Idx | Similarity | Title\n",
      "------------------------\n",
      "  0 |   0.82 | Report: How Are OpenAI and Microsoft Defining AGI with a Profit Benchmark?\n",
      "  1 |   0.77 | Microsoft and OpenAI have a financial definition of AGI: Report\n",
      "  2 |   0.85 | AGI linked to profits in Microsoft and OpenAI agreement | Digital Watch Observatory\n",
      "  3 |   0.81 | OpenAI Wants to Remove the AGI Clause to Boost Investments and Growth\n",
      "  4 |   0.83 | Microsoft pumps $1 billion into generalized artificial intelligence\n",
      "  5 |   0.79 | OpenAI unveils new o3 models for diverse tasks\n",
      "  6 |   0.83 | OpenAI's Unreleased AGI Paper Could Complicate Microsoft Negotiations\n",
      "  7 |   0.79 | OpenAI considers AGI clause removal for Microsoft investment\n",
      "  8 |   0.83 | How OpenAI's Sam Altman Is Thinking About AGI and Superintelligence in 2025\n",
      "  9 |   0.84 | Microsoft is investing $1 billion in Open AI\n"
     ]
    }
   ],
   "source": [
    "found = loaded.find_in_search_results(query=\"AGI\", top_k=10)\n",
    "\n",
    "print(found)"
   ]
  }
 ],
 "metadata": {
  "kernelspec": {
   "display_name": "nosible",
   "language": "python",
   "name": "python3"
  },
  "language_info": {
   "codemirror_mode": {
    "name": "ipython",
    "version": 3
   },
   "file_extension": ".py",
   "mimetype": "text/x-python",
   "name": "python",
   "nbconvert_exporter": "python",
   "pygments_lexer": "ipython3",
   "version": "3.10.16"
  }
 },
 "nbformat": 4,
 "nbformat_minor": 5
}
