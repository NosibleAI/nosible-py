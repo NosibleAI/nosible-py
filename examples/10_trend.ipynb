{
 "cells": [
  {
   "metadata": {},
   "cell_type": "markdown",
   "source": [
    "# Trend\n",
    "\n",
    "Retrieve the volume‐over‐time for a given query term.\n",
    "Trend using optional date window\n",
    "\n",
    "You can call the trend method on your Nosible client to get a mapping of month-end dates to normalized frequencies. Optionally, you can pass start_date and/or end_date (in ISO format YYYY-MM-DD) to slice the returned time series:\n",
    "\n",
    "- `query`\n",
    "The search term you want to chart over time.\n",
    "\n",
    "- `start_date`\n",
    "Only include months on or after this date. Must be `\"YYYY-MM-DD\"` (or full ISO timestamp).\n",
    "\n",
    "- `end_date`\n",
    "Only include months on or before this date. Must be `\"YYYY-MM-DD\"` (or full ISO timestamp).\n",
    "\n",
    "- `sql_filter`\n",
    "A custom SQL WHERE clause to narrow the underlying news set.\n",
    "\n",
    "Returns a dict[str, float] mapping each month-end (e.g. \"2020-03-31\") to its relative frequency."
   ],
   "id": "7f1a57c275167926"
  },
  {
   "cell_type": "code",
   "id": "initial_id",
   "metadata": {
    "collapsed": true,
    "ExecuteTime": {
     "end_time": "2025-07-10T10:55:01.456553Z",
     "start_time": "2025-07-10T10:54:57.513350Z"
    }
   },
   "source": [
    "from nosible import Nosible\n",
    "\n",
    "with Nosible() as nos:\n",
    "    trend_data = nos.trend(\n",
    "        \"nvidia\",\n",
    "        start_date=\"2020-01-01\",\n",
    "        end_date=\"2025-06-30\"\n",
    "    )\n",
    "    for date, freq in trend_data.items():\n",
    "        print(f\"{date}: {freq:.6f}\")\n"
   ],
   "outputs": [
    {
     "name": "stdout",
     "output_type": "stream",
     "text": [
      "2020-01-31: 0.003903\n",
      "2020-02-29: 0.008655\n",
      "2020-03-31: 0.007290\n",
      "2020-04-30: 0.006300\n",
      "2020-05-31: 0.010548\n",
      "2020-06-30: 0.007100\n",
      "2020-07-31: 0.007065\n",
      "2020-08-31: 0.010161\n",
      "2020-09-30: 0.013367\n",
      "2020-10-31: 0.011032\n",
      "2020-11-30: 0.006733\n",
      "2020-12-31: 0.006839\n",
      "2021-01-31: 0.006129\n",
      "2021-02-28: 0.010750\n",
      "2021-03-31: 0.006516\n",
      "2021-04-30: 0.010667\n",
      "2021-05-31: 0.008097\n",
      "2021-06-30: 0.011800\n",
      "2021-07-31: 0.006581\n",
      "2021-08-31: 0.010097\n",
      "2021-09-30: 0.004433\n",
      "2021-10-31: 0.005419\n",
      "2021-11-30: 0.010033\n",
      "2021-12-31: 0.007129\n",
      "2022-01-31: 0.007871\n",
      "2022-02-28: 0.008607\n",
      "2022-03-31: 0.008548\n",
      "2022-04-30: 0.007467\n",
      "2022-05-31: 0.009645\n",
      "2022-06-30: 0.007067\n",
      "2022-07-31: 0.004355\n",
      "2022-08-31: 0.008065\n",
      "2022-09-30: 0.009700\n",
      "2022-10-31: 0.004516\n",
      "2022-11-30: 0.007467\n",
      "2022-12-31: 0.004548\n",
      "2023-01-31: 0.005194\n",
      "2023-02-28: 0.008571\n",
      "2023-03-31: 0.012677\n",
      "2023-04-30: 0.008400\n",
      "2023-05-31: 0.011581\n",
      "2023-06-30: 0.012333\n",
      "2023-07-31: 0.007710\n",
      "2023-08-31: 0.013968\n",
      "2023-09-30: 0.008433\n",
      "2023-10-31: 0.010290\n",
      "2023-11-30: 0.014067\n",
      "2023-12-31: 0.010677\n",
      "2024-01-31: 0.010903\n",
      "2024-02-29: 0.014000\n",
      "2024-03-31: 0.016742\n",
      "2024-04-30: 0.011267\n",
      "2024-05-31: 0.011387\n",
      "2024-06-30: 0.017833\n",
      "2024-07-31: 0.012032\n",
      "2024-08-31: 0.013355\n",
      "2024-09-30: 0.009933\n",
      "2024-10-31: 0.009032\n",
      "2024-11-30: 0.009167\n",
      "2024-12-31: 0.006903\n",
      "2025-01-31: 0.010774\n",
      "2025-02-28: 0.015750\n",
      "2025-03-31: 0.014226\n",
      "2025-04-30: 0.009633\n",
      "2025-05-31: 0.017548\n",
      "2025-06-30: 0.011600\n"
     ]
    }
   ],
   "execution_count": 10
  }
 ],
 "metadata": {
  "kernelspec": {
   "display_name": "Python 3",
   "language": "python",
   "name": "python3"
  },
  "language_info": {
   "codemirror_mode": {
    "name": "ipython",
    "version": 2
   },
   "file_extension": ".py",
   "mimetype": "text/x-python",
   "name": "python",
   "nbconvert_exporter": "python",
   "pygments_lexer": "ipython2",
   "version": "2.7.6"
  }
 },
 "nbformat": 4,
 "nbformat_minor": 5
}
