{
 "cells": [
  {
   "cell_type": "markdown",
   "id": "1a41a26f",
   "metadata": {},
   "source": [
    "# Find in Search Results\n",
    "\n",
    "This allows you to search within the results of a search using BM25 scoring.\n",
    "- You can pass a `query` to the `find_in_search_results` method, which will rerank and return **top_k** results based on the query."
   ]
  },
  {
   "cell_type": "code",
   "id": "ab7bff95",
   "metadata": {
    "ExecuteTime": {
     "end_time": "2025-08-15T15:31:15.952241Z",
     "start_time": "2025-08-15T15:31:12.908917Z"
    }
   },
   "source": [
    "from nosible import Nosible\n",
    "\n",
    "# Simple search with just date.\n",
    "with Nosible() as nos:\n",
    "    results = nos.fast_search(\n",
    "        question=\"Hedge funds seek to expand into private credit\", n_results=100, publish_start=\"2024-06-01\"\n",
    "    )\n",
    "\n",
    "for idx, result in enumerate(results):\n",
    "    print(f\"{idx:2}: {result.similarity:.2f} | {result.title} - {result.url}\")"
   ],
   "outputs": [
    {
     "name": "stdout",
     "output_type": "stream",
     "text": [
      " 0: 0.92 | Hedge funds up private credit involvement amid market boom - Hedgeweek - https://www.hedgeweek.com/hedge-funds-up-private-credit-involvement-amid-market-boom/\n",
      " 1: 0.91 | Millennium, Point72, Third Point to Enter Booming Private Credit Market - https://coinfomania.com/millennium-point72-third-point-to-enter-booming-private-credit-market\n",
      " 2: 0.88 | BlackRock details private markets expansion plan through GIP, Preqin acquisitions - https://www.alternativeswatch.com/2024/10/14/blackrock-details-private-markets-expansion-plan-gip-preqin-q3-results\n",
      " 3: 0.88 | Hedge Funds Increasingly Join The Private Markets Party - https://www.familywealthreport.com/article.php/Hedge-Funds-Increasingly-Join-The-Private-Markets-Party\n",
      " 4: 0.84 | Millennium mulls first found in more than 30 years - Hedgeweek - https://www.hedgeweek.com/millennium-mulls-first-found-in-more-than-30-years/\n",
      " 5: 0.83 | CVC Income & Growth: a high-yield play in private credit - https://moneyweek.com/investments/funds/cvc-income-and-growth-high-yield-private-credit\n",
      " 6: 0.82 | Point72 kicks off new private credit strategy, statement shows - https://www.reuters.com/business/finance/point72-kicks-off-new-private-credit-strategy-statement-shows-2025-01-07/?lctg=5e86da7a504dd40ef443aba7\n",
      " 7: 0.81 | Are the SEC's Private Fund Advisers Rules Now Dead? No, but they are on Life Support | JD Supra - https://www.jdsupra.com/legalnews/are-the-sec-s-private-fund-advisers-8043283\n",
      " 8: 0.81 | Bobby Jain Faced 'Flat Wind' Raising Cash in Private Credit Boom - BNN Bloomberg - https://www.bnnbloomberg.ca/bobby-jain-faced-flat-wind-raising-cash-in-private-credit-boom-1.2087330\n",
      " 9: 0.81 | Point72 Kicks off New Private Credit Strategy, Statement Shows - https://money.usnews.com/investing/news/articles/2025-01-07/point72-kicks-off-new-private-credit-strategy-statement-shows\n",
      "10: 0.80 | Boston kicks off hedge fund of funds search - https://www.alternativeswatch.com/2024/10/09/boston-retirement-system-launches-hedge-fund-of-funds-search-rfp-nepc\n",
      "11: 0.80 | D.E. Shaw Raises $1.3 Billion for Fund Targeting Risk Transfers - https://www.bloomberg.com/news/articles/2025-05-01/d-e-shaw-raises-1-3-billion-for-fund-targeting-risk-transfers\n",
      "12: 0.80 | Above Mexico's Stock Arena – Indexology® Blog | S&P Dow Jones Indices - https://www.indexologyblog.com/2025/03/26/above-mexicos-stock-arena\n",
      "13: 0.80 | Analysis-Private Credit Secondary Sales Set to Rise as Market Turmoil Spurs Hunt for Cash - https://money.usnews.com/investing/news/articles/2025-04-10/analysis-private-credit-secondary-sales-set-to-rise-as-market-turmoil-spurs-hunt-for-cash\n",
      "14: 0.79 | The Future of Private Credit – Indexology® Blog | S&P Dow Jones Indices - https://www.indexologyblog.com/2025/03/24/the-future-of-private-credit\n",
      "15: 0.79 | Antares Capital: Private Credit Fund Launched At Over $1.4 Billion - https://pulse2.com/antares-capital-private-credit-fund-launched-with-over-1-4-billion\n",
      "16: 0.79 | Funds industry fears missing out on shift to private credit - https://www.independent.ie/business/funds-industry-fears-missing-out-on-shift-to-private-credit/a1979689606.html\n",
      "17: 0.79 | VRS adds $1.6 billion across alts, including HFs - https://www.alternativeswatch.com/2025/02/10/vrs-virginia-pension-alternative-investment-allocations-2024-returns-hedge-fund-termination\n",
      "18: 0.79 | What Is Private Credit And What's Driving Its Momentum? - https://www.forbes.com/councils/forbesfinancecouncil/2024/11/05/what-is-private-credit-and-whats-driving-its-momentum\n",
      "19: 0.78 | Hedge Fund Talent Schools Are Looking for the Perfect Trader | John Lothian News - https://johnlothiannews.com/hedge-fund-talent-schools-are-looking-for-the-perfect-trader\n",
      "20: 0.78 | Breaking new ground on the next phase of private credit | JD Supra - https://www.jdsupra.com/legalnews/breaking-new-ground-on-the-next-phase-2128525\n",
      "21: 0.78 | AB CarVal Eyes $50 Billion Opportunity in High-Risk Property Lending - BNN Bloomberg - https://www.bnnbloomberg.ca/ab-carval-eyes-50-billion-opportunity-in-high-risk-property-lending-1.2081372\n",
      "22: 0.77 | Hedge Funds Going On-Chain: The \"Indexification\" of Active Strategies - https://www.coindesk.com/coindesk-indices/2025/04/23/hedge-funds-going-on-chain-the-indexification-of-active-strategies\n",
      "23: 0.77 | Blackstone invests $300M in hedge fund Brigade, targeting private credit, CLOs - report - https://seekingalpha.com/news/4282485-blackstone-invests-300m-in-hedge-fund-brigade-targeting-private-credit-clos\n",
      "24: 0.77 | Why Jamie Dimon says we 'may have seen peak private credit'—and why you should care - https://fortune.com/2025/07/16/jamie-dimon-what-is-private-credit-peak-jpmorgan-earnings\n",
      "25: 0.77 | Unlocking Opportunities With Private Credit Funds - https://www.mondaq.com/unitedstates/fund-management-reits/1586842/unlocking-opportunities-with-private-credit-funds\n",
      "26: 0.76 | How banks are feeding the private debt boom - https://www.politico.com/newsletters/morning-money/2024/06/24/how-banks-are-feeding-the-private-debt-boom-00164605\n",
      "27: 0.76 | The Growth Of Asset-based Finance In Private Credit Markets - https://www.mondaq.com/uk/financial-services/1616008/the-growth-of-asset-based-finance-in-private-credit-markets\n",
      "28: 0.76 | 'What's going on here?': ASIC probes fast-growing private debt markets - https://www.theage.com.au/link/follow-20170101-p5jvyz\n",
      "29: 0.76 | Fink Pushes BlackRock Into High-Stakes Bet on Private Markets - https://www.bloomberg.com/news/articles/2024-11-15/fink-pushes-blackrock-into-high-stakes-bet-on-private-markets\n",
      "30: 0.76 | Restructuring wave draws hedge fund interest in French PE-backed firms | Private Equity Insights - https://pe-insights.com/restructuring-wave-draws-hedge-fund-interest-in-french-pe-backed-firms\n",
      "31: 0.76 | BlackRock buys HPS for $12-billion in private credit expansion - https://www.theglobeandmail.com/world/video-blackrock-buys-hps-for-12-billion-in-private-credit-expansion\n",
      "32: 0.76 | JP Morgan Asset Management Looks to Expand in Private Credit - https://www.marketsmedia.com/jp-morgan-asset-management-looks-to-expand-in-private-credit\n",
      "33: 0.75 | Third Point Launches Private Credit Fund for Insurers - https://www.marketsmedia.com/third-point-launches-private-credit-fund-for-insurance-companies\n",
      "34: 0.75 | Inside the Private Credit Boom - https://www.mheducation.com/highered/blog/2024/07/inside-the-private-credit-boom.html\n",
      "35: 0.75 | Growth of Private Credit Risks Market Fragmentation - https://www.marketsmedia.com/growth-of-private-credit-risks-market-fragmentation\n",
      "36: 0.74 | Key Findings Investment Funds Forum 2024 - https://www.mondaq.com/uk/fund-management-reits/1530528/key-findings-investment-funds-forum-2024\n",
      "37: 0.74 | Regulatory Roundup for June 2024 | JD Supra - https://www.jdsupra.com/legalnews/private-fund-rules-cancelled-survey-2305645\n",
      "38: 0.74 | Recent Trends in Private Credit | JD Supra - https://www.jdsupra.com/legalnews/recent-trends-in-private-credit-2089236\n",
      "39: 0.74 | Private credit is creating a quiet revolution in debt finance - https://londonlovesbusiness.com/private-credit-is-creating-a-quiet-revolution-in-debt-finance\n",
      "40: 0.74 | How JPMorgan is betting on a risky lending boom it helped warn against - https://www.moneycontrol.com/news/business/how-jpmorgan-is-betting-on-a-risky-lending-boom-it-helped-warn-against-13280883.html\n",
      "41: 0.74 | The future of private credit - https://www.newstatesman.com/uncategorized/2024/06/private-credit-markets-state-street\n",
      "42: 0.74 | 'What's going on here?': ASIC probes fast-growing private debt markets - https://www.smh.com.au/business/banking-and-finance/what-s-going-on-here-asic-probes-fast-growing-private-debt-markets-20240723-p5jvyz.html\n",
      "43: 0.74 | Why Jamie Dimon says we 'may have seen peak private credit'—and why you should care - https://finance.yahoo.com/news/why-jamie-dimon-says-may-163855006.html\n",
      "44: 0.74 | Private equity fast-tracks finance grads amid Wall Street slowdown | Private Equity Insights - https://pe-insights.com/private-equity-fast-tracks-finance-grads-amid-wall-street-slowdown\n",
      "45: 0.74 | Private Credit & Tariffs: Company Loan Strategies | TrainingView News - https://www.archynetys.com/private-credit-tariffs-company-loan-strategies-trainingview-news\n",
      "46: 0.73 | Winning the race to the asset-based finance opportunity - https://www.alternativeswatch.com/2025/03/12/winning-the-race-to-the-asset-based-finance-abf-opportunity-arcesium-cesar-estrada\n",
      "47: 0.73 | Private-credit investors are staffing up. Here's where the jobs are. - https://www.businessinsider.com/private-credit-hiring-job-trends-distressed-debt-portfolio-operators-abs-2025-1\n",
      "48: 0.73 | Growth of Permanent Capital Vehicles Expected to Accelerate | JD Supra - https://www.jdsupra.com/legalnews/growth-of-permanent-capital-vehicles-7153324\n",
      "49: 0.73 | Ultimus Enhances Comprehensive Private Credit Fund Administration to Support Investment Managers - https://www.globenewswire.com/news-release/2025/05/06/3075108/0/en/Ultimus-Enhances-Comprehensive-Private-Credit-Fund-Administration-to-Support-Investment-Managers.html\n",
      "50: 0.73 | US Banks Finance Their Own Competition to Tune of $1 Trillion - https://www.bloomberg.com/news/articles/2025-03-27/us-banks-finance-their-own-competition-to-tune-of-1-trillion\n",
      "51: 0.73 | Private credit ascending: Why insurers and institutions are doubling down amid market volatility - https://www.alternativeswatch.com/2025/07/03/private-credit-ascending-why-insurers-institutions-are-doubling-down-amid-market-volatility\n",
      "52: 0.73 | CGF ASX: Challenger ramps up private credit strategy, in talks with partners including ORDE Financial - https://www.afr.com/companies/financial-services/annuities-giant-challenger-considers-serious-push-into-private-credit-20250425-p5lu62\n",
      "53: 0.73 | Invesco Private Credit Closes $1.4 Billion for Direct Lending Strategy - https://www.finanzen.net/nachricht/aktien/invesco-private-credit-closes-1-4-billion-for-direct-lending-strategy-14228682\n",
      "54: 0.72 | Trends In The Private Credit Market And Broader Lending Dynamics - https://www.mondaq.com/unitedstates/corporate-and-company-law/1657528/trends-in-the-private-credit-market-and-broader-lending-dynamics\n",
      "55: 0.72 | The Rise of Private Equity: Ares Management's Expanding Influence - https://www.indexbox.io/blog/the-rise-of-private-equity-ares-managements-expanding-influence\n",
      "56: 0.72 | PGIM said to raise global private credit fund to vie against Blackstone, Ares, others - https://seekingalpha.com/news/4141518-pgim-said-to-raise-global-private-credit-fund-to-compete-with-blackstone-ares-others\n",
      "57: 0.72 | Private Credit Giant: Invesco's New $1.4B Fund Targets Middle Market Lending Surge - https://www.stocktitan.net/news/IVZ/invesco-private-credit-closes-1-4-billion-for-direct-lending-zrhtpb7d76lb.html\n",
      "58: 0.72 | Betashares expands into private credit after ETFs hit $50 billion - https://www.afr.com/companies/financial-services/betashares-to-expand-into-private-credit-after-etfs-hit-50b-20250601-p5m3wu?instance=2025-06-02-05-58-AEST&jobid=31520583&list_name=5655EA70-F54A-4680-8E43-524D4E016C59&mbnr=MTMxNDUwMjM&promote_channel=edmail\n",
      "59: 0.72 | Hedge Fund Industry Statistics 2025: Growth, Leaders, and Strategies - https://coinlaw.io/hedge-fund-industry-statistics\n",
      "60: 0.72 | Partner Insight: Capitalising on the growing alternative lending market - https://www.investmentweek.co.uk/sponsored/4411511/partner-insight-capitalising-growing-alternative-lending-market\n",
      "61: 0.72 | Blackstone Opens $453B Credit Platform to Individual Investors with New Fund - https://www.stocktitan.net/news/BX/blackstone-announces-sec-effectiveness-for-private-multi-asset-mju7quydzhyx.html\n",
      "62: 0.72 | Private credit tipped to dominate alternative fund launches in 2026 - https://portfolio-adviser.com/private-credit-tipped-to-dominate-alternative-fund-launches-in-2026\n",
      "63: 0.72 | First Eagle Investments Offers Private Credit Fund for Income-Oriented Investors - http://www.businesswire.com/news/home/20250407421108/en/First-Eagle-Investments-Offers-Private-Credit-Fund-for-Income-Oriented-Investors\n",
      "64: 0.71 | Heron Finance Adds Antares Private Credit Fund To Client Portfolios - https://menafn.com/1109901027/Heron-Finance-Adds-Antares-Private-Credit-Fund-To-Client-Portfolios\n",
      "65: 0.71 | Developments In Private Credit: Key Takeaways From Recent Conferences - https://www.mondaq.com/canada/financial-services/1657534/developments-in-private-credit-key-takeaways-from-recent-conferences\n",
      "66: 0.71 | Empowering Growth: The Resilience and Future of Private Debt  - https://home.cib.natixis.com/articles/empowering-growth-the-resilience-and-future-of-private-debt\n",
      "67: 0.71 | Fund Finance Laws And Regulations 2025 – Mauritius - https://www.mondaq.com/fund-finance/1579658/fund-finance-laws-and-regulations-2025-mauritius\n",
      "68: 0.71 | Capital Markets, Professional Perspective - Recent Developments Affecting Private Credit Funds - https://www.mondaq.com/unitedstates/fund-management-reits/1479020/capital-markets-professional-perspective---recent-developments-affecting-private-credit-funds\n",
      "69: 0.71 | SEC Approves Blackstone Private Multi-Asset Credit Fund - https://www.marketsmedia.com/sec-approves-blackstone-private-multi-asset-credit-income-fund\n",
      "70: 0.71 | Blackstone (NYSE:BX) and TPG Eye US$16 Billion Hologic Buyout in Rejected Offer - https://simplywall.st/stocks/us/diversified-financials/nyse-bx/blackstone/news/blackstone-nysebx-and-tpg-eye-us16-billion-hologic-buyout-in\n",
      "71: 0.71 | Prime broking challengers target 'underserved' hedge funds - https://www.fnlondon.com/articles/prime-broking-challengers-target-underserved-hedge-funds-a81718c9\n",
      "72: 0.71 | Apollo Global Management Q1 2025 Earnings Call Transcript - https://www.marketbeat.com/earnings/reports/2025-5-2-apollo-global-management-inc-stock\n",
      "73: 0.71 | The Rise Of Private Credit And Its Future Potential - Brand Spur - https://brandspurng.com/2024/11/04/the-rise-of-private-credit-and-its-future-potential\n",
      "74: 0.71 | Bank Lending to Nonbanks Has Doubled in Five Years - https://www.pymnts.com/loans/2025/bank-lending-nonbanks-has-doubled-five-years\n",
      "75: 0.71 | Hedge Fund Capital Continues to Grow - The Full FX - https://thefullfx.com/hedge-fund-capital-continues-to-grow\n",
      "76: 0.71 | Private credit market to grow in 2025 as investors seek yield - AdviserVoice - https://www.adviservoice.com.au/2024/12/private-credit-market-to-grow-in-2025-as-investors-seek-yield\n",
      "77: 0.71 | Principal® Direct Lending Business Launches Private Credit Fund - https://www.stocktitan.net/news/PFG/principal-r-direct-lending-business-launches-private-credit-vqg9a0ybs3sg.html\n",
      "78: 0.71 | Heron Finance Adds Antares Private Credit Fund to Client Portfolios - https://www.finanzen.net/nachricht/aktien/heron-finance-adds-antares-private-credit-fund-to-client-portfolios-14704707\n",
      "79: 0.71 | EMERGING MARKETS HEDGE FUNDS SURGE, CAPITAL RISES AS MID-EAST TENSIONS ESCALATE - https://www.hfr.com/media/market-commentary/emerging-markets-hedge-funds-surge-capital-rises-as-mid-east-tensions-escalate\n",
      "80: 0.70 | Dubai's Magellan Capital Holdings Ltd. to Launch $700 Million Hedge Fund - https://www.businessoutreach.in/dubais-magellan-capital-holdings-ltd\n",
      "81: 0.70 | Private Credit Markets Continue to Expand in Asia | JD Supra - https://www.jdsupra.com/legalnews/private-credit-markets-continue-to-1216068\n",
      "82: 0.70 | Private Credit Is Challenging Banks and Changing the Terrain of CRE Finance - https://commercialobserver.com/2025/04/private-credit-cre-finance\n",
      "83: 0.70 | Jupiter Asset Management launches its first hedge fund - https://www.cityam.com/jupiter-asset-management-launches-its-first-hedge-fund\n",
      "84: 0.70 | Falcon unveils open-ended HF strategy for family offices  - https://www.alternativeswatch.com/2024/07/02/falcon-unveils-open-ended-hf-strategy-for-family-offices\n",
      "85: 0.70 | BlackRock creates new private credit division in latest private markets push - https://www.pionline.com/alternatives/blackrock-creates-new-private-credit-division-latest-private-markets-push\n",
      "86: 0.70 | Private Lenders Storm Public Bond Markets at Record-Setting Pace - BNN Bloomberg - https://www.bnnbloomberg.ca/private-lenders-storm-public-bond-markets-at-record-setting-pace-1.2084711\n",
      "87: 0.70 | Golub Capital president sees more private credit partnerships ahead  - https://www.pionline.com/alternative-investments/private-credit/pi-private-credit-golub-capital-president-david\n",
      "88: 0.70 | MFA Supports SEC Revisiting Cap on Private Fund Investments - https://www.marketsmedia.com/mfa-supports-sec-revisiting-cap-on-private-fund-investments\n",
      "89: 0.70 | Heron Finance brings innovative private credit solution to US investors - https://www.thearmchairtrader.com/brokers/heron-finance-private-credit-portfolio-management\n",
      "90: 0.70 | JPMorgan creates new unit to tap funding demand, memo says - https://www.reuters.com/markets/us/jpmorgan-creates-new-unit-tap-funding-demand-memo-says-2025-07-14\n",
      "91: 0.70 | Activist Fir Tree to return external capital after 30 years - Hedgeweek - https://www.hedgeweek.com/activist-fir-tree-to-return-external-capital-after-three-years\n",
      "92: 0.70 | PGIM Seeks Deals to Expand Private-Market Assets to $500 Billion - BNN Bloomberg - https://www.bnnbloomberg.ca/pgim-seeks-deals-to-expand-private-market-assets-to-500-billion-1.2084790\n",
      "93: 0.70 | Promoters keen to guard equity are turning to private credit before IPOs | Stock Market News - https://www.livemint.com/market/stock-market-news/private-credit-chases-pre-ipo-companies-11725533275532.html\n",
      "94: 0.70 | HEDGE FUNDS NAVIGATE HISTORIC VOLATILITY SURGE TO GAIN IN AUGUST - https://www.hfr.com/media/market-commentary/hedge-funds-navigate-historic-volatility-surge-to-gain-in-august\n",
      "95: 0.70 | TerraCotta Group Likes Changing Markets - https://labusinessjournal.com/real-estate/terracotta-group-likes-changing-markets\n",
      "96: 0.70 | Greater interest in private credit as investors move away from bonds as hedging tools: UBS forum panellist - https://www.businesstimes.com.sg/companies-markets/banking-finance/greater-interest-private-credit-investors-move-away-bonds-hedging-tools-ubs-forum-panellist\n",
      "97: 0.69 | Comprehensive Guide to Private Credit Investing  - https://www.syfe.com/magazine/comprehensive-guide-to-private-credit-investing\n",
      "98: 0.69 | London hedge funds Kite Lake and Astaris to close to new investors - Hedgeweek - https://www.hedgeweek.com/london-hedge-funds-kite-lake-and-astaris-to-close-to-new-investors/\n",
      "99: 0.69 | New global macro hedge fund Palinuro Capital to start trading in January - https://ca.finance.yahoo.com/news/global-macro-hedge-fund-palinuro-182601502.html\n"
     ]
    }
   ],
   "execution_count": 1
  },
  {
   "cell_type": "code",
   "id": "bbf124b4",
   "metadata": {
    "ExecuteTime": {
     "end_time": "2025-08-15T15:31:19.843881Z",
     "start_time": "2025-08-15T15:31:19.820592Z"
    }
   },
   "source": [
    "new = results.find_in_search_results(\"Warren Buffett\", top_k=5)  # Find top 5 results related to Warren Buffett\n",
    "\n",
    "print(new)"
   ],
   "outputs": [
    {
     "name": "stdout",
     "output_type": "stream",
     "text": [
      "Idx | Similarity | Title\n",
      "------------------------\n",
      "  0 |       0.70 | Private Lenders Storm Public Bond Markets at Record-Setting Pace - BNN Bloomberg\n",
      "  1 |       0.92 | Hedge funds up private credit involvement amid market boom - Hedgeweek\n",
      "  2 |       0.91 | Millennium, Point72, Third Point to Enter Booming Private Credit Market\n",
      "  3 |       0.88 | BlackRock details private markets expansion plan through GIP, Preqin acquisitions\n",
      "  4 |       0.88 | Hedge Funds Increasingly Join The Private Markets Party\n"
     ]
    }
   ],
   "execution_count": 3
  }
 ],
 "metadata": {
  "kernelspec": {
   "display_name": "nosible",
   "language": "python",
   "name": "python3"
  },
  "language_info": {
   "codemirror_mode": {
    "name": "ipython",
    "version": 3
   },
   "file_extension": ".py",
   "mimetype": "text/x-python",
   "name": "python",
   "nbconvert_exporter": "python",
   "pygments_lexer": "ipython3",
   "version": "3.10.16"
  }
 },
 "nbformat": 4,
 "nbformat_minor": 5
}
