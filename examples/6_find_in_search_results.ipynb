{
 "cells": [
  {
   "cell_type": "markdown",
   "id": "1a41a26f",
   "metadata": {},
   "source": [
    "# Find in Search Results\n",
    "\n",
    "This allows you to search within the results of a search using BM25 scoring.\n",
    "- You can pass a `query` to the `find_in_search_results` method, which will rerank and return **top_k** results based on the query."
   ]
  },
  {
   "cell_type": "code",
   "execution_count": 1,
   "id": "ab7bff95",
   "metadata": {},
   "outputs": [
    {
     "name": "stdout",
     "output_type": "stream",
     "text": [
      " 0: 0.91 | Hedge funds are diving deeper into a hot area: private credit - http://www.pionline.com/hedge-funds/hedge-funds-are-diving-deeper-hot-area-private-credit\n",
      " 1: 0.91 | Hedge funds up private credit involvement amid market boom - Hedgeweek - https://www.hedgeweek.com/hedge-funds-up-private-credit-involvement-amid-market-boom/\n",
      " 2: 0.89 | Millennium, Point72, Third Point to Enter Booming Private Credit Market - https://coinfomania.com/millennium-point72-third-point-to-enter-booming-private-credit-market\n",
      " 3: 0.86 | Hedge funds target private credit lenders as economic pressures mount - Hedgeweek - https://www.hedgeweek.com/hedge-funds-target-private-credit-lenders-as-economic-pressures-mount\n",
      " 4: 0.86 | Hedge Funds Increasingly Join The Private Markets Party - https://www.familywealthreport.com/article.php/Hedge-Funds-Increasingly-Join-The-Private-Markets-Party\n",
      " 5: 0.84 | Top bankers chase a big payday by defecting to private credit - https://www.businesstimes.com.sg/wealth/top-bankers-chase-big-payday-defecting-private-credit\n",
      " 6: 0.82 | Why Wall Street wants to 'privatize' more of your stock and bond money in market correction - https://www.nbcwashington.com/news/business/money-report/in-risky-market-wall-street-wants-to-privatize-more-of-your-stock-and-bond-money/3879430\n",
      " 7: 0.82 | Hedge fund investor appetite hit by high fees and private credit, says Goldman Sachs - https://www.kitco.com/news/off-the-wire/2024-08-02/hedge-fund-investor-appetite-hit-high-fees-and-private-credit-says\n",
      " 8: 0.82 | Hedge Fund Sona Raises $800 Million for Capital Solutions - BNN Bloomberg - https://www.bnnbloomberg.ca/hedge-fund-sona-raises-800-million-for-capital-solutions-1.2086570\n",
      " 9: 0.81 | Why JPMorgan, BlackRock want to 'privatize' more of your stock and bond money in volatile market - https://www.cnbc.com/2025/03/30/wall-street-wants-privatize-stock-bond-money-market-correction.html\n",
      "10: 0.81 | Largest Hedge Fund Managers 2024 - https://www.pionline.com/largest-hedge-funds/2024\n",
      "11: 0.80 | Why JPMorgan and BlackRock want to 'privatize' more of your stock and bond money in market correction - https://www.nbcchicago.com/news/business/money-report/in-risky-market-wall-street-wants-to-privatize-more-of-your-stock-and-bond-money/3709382\n",
      "12: 0.80 | Hedge Fund Capital Continues to Grow - The Full FX - https://thefullfx.com/hedge-fund-capital-continues-to-grow\n",
      "13: 0.80 | Family offices up hedge fund investments - Hedgeweek - https://www.hedgeweek.com/family-offices-up-hedge-fund-investments/\n",
      "14: 0.80 | Wall Street wants to privatize more of your money in market correction - Finnoexpert - https://finnoexpert.com/wall-street-wants-to-privatize-more-of-your-money-in-market-correction\n",
      "15: 0.80 | Hedge Funds Chase `Dumb Money' by Targeting Mini-Millionaires - https://www.bloomberg.com/news/articles/2024-12-10/hedge-funds-chase-dumb-money-by-targeting-mini-millionaires\n",
      "16: 0.80 | Starwood Capital Secures Massive $2.86B for Private Credit as Traditional Lenders Pull Back - https://www.stocktitan.net/news/STWD/starwood-capital-group-closes-private-credit-focused-vehicles-at-glu86eyfpf6t.html\n",
      "17: 0.79 | Private funds growth pushes the number of Cayman funds above 30,000 in 2024 | Cayman Finance - https://caymanfinance.ky/2025/01/08/private-funds-growth-pushes-the-number-of-cayman-funds-above-30000-in-2024\n",
      "18: 0.79 | Private credit is maturing as an asset class. Investors want to diversify, says AllianceBernstein. - https://www.pionline.com/alternatives/asset-based-finance-diversifies-private-credit-allocations-says-alliancebernsteins\n",
      "19: 0.79 | Hedge funds' alpha surge shakes up investor allocation plans - https://www.alternativeswatch.com/2025/02/13/allocators-to-grow-their-hedge-fund-portfolio-this-year-bnp-paribas-alpha-report\n",
      "20: 0.79 | Bobby Jain Faced 'Flat Wind' Raising Cash in Private Credit Boom - BNN Bloomberg - https://www.bnnbloomberg.ca/bobby-jain-faced-flat-wind-raising-cash-in-private-credit-boom-1.2087330\n",
      "21: 0.79 | Patrimonium to enter real estate debt market | Börsen-Zeitung - https://www.boersen-zeitung.de/english/patrimonium-to-enter-real-estate-debt-market\n",
      "22: 0.79 | Point72's Steven Cohen is looking beyond hedge funds, building 'other types of funds' - https://www.pionline.com/hedge-funds/point72s-steven-cohen-looking-beyond-hedge-funds-building-other-types-funds\n",
      "23: 0.79 | Millennium, Citadel bolster staff size as biggest hedge funds keep growing | Crain's Chicago Business - https://www.chicagobusiness.com/finance-banking/millennium-citadel-bolster-staff-size-biggest-hedge-funds-keep-growing\n",
      "24: 0.78 | The Hedge Fund Bet Luring Retail Investors to High-Risk Bonds - BNN Bloomberg - https://www.bnnbloomberg.ca/the-hedge-fund-bet-luring-retail-investors-to-high-risk-bonds-1.2088445\n",
      "25: 0.78 | Hedge Fund and Insider Trading News: Kyle Bass, Ray Dalio, Bill Ackman, Daniel Loeb, Warren Buffett, Brevan Howard Asset Management, Procter & Gamble Co (PG), and More - https://www.insidermonkey.com/blog/hedge-fund-and-insider-trading-news-kyle-bass-ray-dalio-bill-ackman-daniel-loeb-warren-buffett-brevan-howard-asset-management-procter-gamble-co-pg-and-more-1344756\n",
      "26: 0.78 | The next big power play on Wall Street | Stock Market News - https://www.livemint.com/market/stock-market-news/the-next-big-power-play-on-wall-street-11720358183914.html\n",
      "27: 0.78 | MFA Supports SEC Revisiting Cap on Private Fund Investments - https://www.marketsmedia.com/mfa-supports-sec-revisiting-cap-on-private-fund-investments\n",
      "28: 0.78 | Short Sellers Bet Against Private Credit Lenders - https://finance.yahoo.com/news/short-sellers-bet-against-private-190000445.html\n",
      "29: 0.78 | Diego Megia's Hedge Fund Reopens to Raise Another $1 Billion - https://www.bloomberg.com/news/articles/2024-11-27/diego-megia-s-hedge-fund-reopens-to-raise-another-1-billion\n",
      "30: 0.78 | Hedge Fund and Insider Trading News: Michael Germino, Scott Bessent, Ken Griffin, Greenlight Capital, Bridgewater Associates, Point72 Asset Management, Hasbro Inc (HAS), Liberty Latin America Ltd (LILA), and More - https://www.insidermonkey.com/blog/hedge-fund-and-insider-trading-news-michael-germino-ken-griffin-scott-bessent-greenlight-capital-bridgewater-associates-point72-asset-management-liberty-latin-america-ltd-lila-hasbro-inc-ha-1401350\n",
      "31: 0.77 | Hedge fund Third Point to acquire credit fund manager AS Birch Grove - https://www.reuters.com/markets/deals/hedge-fund-third-point-acquire-credit-fund-manager-birch-grove-2024-12-23\n",
      "32: 0.77 | Hedge Fund and Insider Trading News: David Einhorn, Paul Marshall, Bill Ackman, Brookfield Asset Management, Zynex Inc (ZYXI), NextDecade Corporation (NEXT), and More - https://www.insidermonkey.com/blog/hedge-fund-and-insider-trading-news-david-einhorn-paul-marshall-bill-ackman-brookfield-asset-management-zynex-inc-zyxi-nextdecade-corporation-next-and-more-1329062\n",
      "33: 0.77 | Hedge fund Polar Asset grows team after best returns since 2020 - https://www.pionline.com/hedge-funds/hedge-fund-polar-asset-management-partners-grows-team-after-best-returns-2020\n",
      "34: 0.77 | Race for Private-Credit ETFs to Face SEC Scrutiny - https://www.thinkadvisor.com/2024/11/01/race-for-private-credit-etfs-to-face-sec-scrutiny\n",
      "35: 0.77 | Hedge fund investor appetite wanes for high fees and private credit, says Goldman Sachs - https://finance.yahoo.com/news/hedge-fund-investor-appetite-hit-143759685.html?guccounter=1&guce_referrer=aHR0cHM6Ly9maW5hbmNlLnlhaG9vLmNvbS8&guce_referrer_sig=AQAAANkGq_PLAZXIR0dRDFfoih01L67K0ns1P23601qP-ge6LgPY9pNVcLryNfred6W8hwYJ6yFNaFMkX69M-ZmsLj\n",
      "36: 0.77 | Hedge Fund Assets to Reach $5.5 Trillion by 2030 - https://www.marketsmedia.com/hedge-fund-assets-to-reach-5-5-trillion-by-2030\n",
      "37: 0.77 | Millennium mulls first found in more than 30 years - Hedgeweek - https://www.hedgeweek.com/millennium-mulls-first-found-in-more-than-30-years/\n",
      "38: 0.77 | Institutional investors predict rise in HF capital-raising - https://www.alternativeswatch.com/2024/10/03/institutional-investors-predict-rise-in-hf-capital-raising-beacon-research\n",
      "39: 0.77 | Wall St. Is Minting Easy Money From Risky Loans. What Could Go Wrong? - https://www.nytimes.com/2024/12/27/business/wall-st-private-credit-money.html?referringSource=articleShare&smid=nytcore-ios-share\n",
      "40: 0.77 | Family offices pour more money into hedge funds - https://www.alternativeswatch.com/2024/08/22/family-offices-pour-more-money-into-hedge-funds-citi-private-bank-survey\n",
      "41: 0.76 | Bobby Jain, the latest guest at the multibillion-dollar hedge fund party - https://english.elpais.com/economy-and-business/2024-07-15/bobby-jain-the-latest-guest-at-the-multibillion-dollar-hedge-fund-party.html\n",
      "42: 0.76 | Hedge Fund and Insider Trading News: Whale Rock Capital Management, Millennium Management, Elliott Management, Park Ohio Holdings Corp (PKOH), Stepstone Group Inc (STEP), and More - https://www.insidermonkey.com/blog/hedge-fund-and-insider-trading-news-whale-rock-capital-management-millennium-management-elliott-management-park-ohio-holdings-corp-pkoh-stepstone-group-inc-step-and-more-1313481\n",
      "43: 0.76 | Hedge Fund Founder Puts His Faith in These 3 Stocks to Deliver Market-Beating Returns  - https://247wallst.com/investing/2025/03/17/hedge-fund-founder-puts-his-faith-in-these-3-stocks-to-deliver-market-beating-returns\n",
      "44: 0.76 | Blackstone is launching 2 new funds for wealthy investors - https://www.businessinsider.com/blackstone-is-launching-two-new-funds-for-wealthy-investors-2024-7\n",
      "45: 0.76 | LACERA commits $1.1bn to hedge, credit funds - https://www.alternativeswatch.com/2025/01/21/lacera-hedge-funds-private-credit-equity-real-estate-mandates\n",
      "46: 0.76 | Hedge Funds Kite Lake and Astaris Prepare to Close to New Cash - https://www.livemint.com/companies/news/hedge-funds-kite-lake-and-astaris-prepare-to-close-to-new-cash-11725383681889.html\n",
      "47: 0.76 | New global macro hedge fund Palinuro Capital to start trading in January - https://ca.finance.yahoo.com/news/global-macro-hedge-fund-palinuro-182601502.html\n",
      "48: 0.76 | Hedge Fund and Insider Trading News: John Hempton, Palliser Capital, Elliott Investment Management, Starboard Value LP, UBS Asset Management, Olympus Peak Asset Management LP, Neogen Corp (NEOG), and More - https://www.insidermonkey.com/blog/hedge-fund-and-insider-trading-news-john-hempton-palliser-capital-elliott-investment-management-starboard-value-lp-ubs-asset-management-olympus-peak-asset-management-lp-neogen-corp-neog-and-1373905\n",
      "49: 0.76 | Hedge funds fuel secondary market for deal contingent hedges - Hedgeweek - https://www.hedgeweek.com/hedge-funds-fuel-secondary-market-for-deal-contingent-hedges/\n",
      "50: 0.76 | Hedge fund startups dwindle as managers battle pressure on fees - https://www.pionline.com/hedge-funds/hedge-fund-startups-dwindle-managers-battle-pressure-fees\n",
      "51: 0.76 | Avendus to wind down its hedge funds business; vertical head to move out - https://www.business-standard.com/companies/news/avendus-to-wind-down-its-hedge-funds-business-vertical-head-to-move-out-125012901392_1.html\n",
      "52: 0.76 | Move Over, Banks. Alternative Asset Giants Plunge Into Private Credit. - https://www.barrons.com/articles/banks-alternative-assets-private-credit-0f76bdbd\n",
      "53: 0.76 | GCM Grosvenor expands private credit, retail channels as AUM rises to $80bn - https://www.alternativeswatch.com/2024/11/11/gcm-grosvenor-expands-private-credit-retail-channels-third-quarter-q3-aum\n",
      "54: 0.76 | BlackRock's next big bet is on the private markets - http://www.businessinsider.com/blackrocks-next-big-bet-private-markets-2024-10\n",
      "55: 0.75 | Private credit losing ground in fight for family office riches - https://www.straitstimes.com/business/private-credit-losing-ground-in-fight-for-family-office-riches\n",
      "56: 0.75 | Man Group introduces pass-through fees for multi-strat hedge fund - Hedgeweek - https://www.hedgeweek.com/man-group-introduces-pass-through-fees-for-multi-strat-hedge-fund/\n",
      "57: 0.75 | Hedge Funds Q&A: Philip Seager, CFM  - https://www.alpha-week.com/hedge-funds-qa-philip-seager-cfm\n",
      "58: 0.75 | Hedge fund launches on the rise: five takeaways from the 'ones to watch' report - https://www.marex.com/news/2024/09/hedge-fund-launches-on-the-rise-five-takeaways-from-the-ones-to-watch-report\n",
      "59: 0.75 | Hedge Fund That Rode EM Distressed Debt Rally Says Party Is Over - https://www.bloomberg.com/news/articles/2025-01-31/hedge-fund-that-rode-em-distressed-debt-rally-says-party-is-over\n",
      "60: 0.75 | Hedge Funds Down-shifted on Pro-Growth Positions During Q1 2025 - https://www.thestar.com/globenewswire/hedge-funds-down-shifted-on-pro-growth-positions-during-q1-2025/article_12e7a662-5d08-5c1a-ac10-b4cab788011a.html\n",
      "61: 0.75 | Hedge funds ramp up CLO market activity amid strong loan demand - Hedgeweek - https://www.hedgeweek.com/hedge-funds-ramp-up-clo-market-activity-amid-strong-loan-demand\n",
      "62: 0.75 | J.P. Morgan Asset Management Seeks to Convert $1.3 Billion JPMorgan Unconstrained Debt Fund to JPMorgan Flexible Debt ETF (JFLX) - https://www.finanzen.net/nachricht/aktien/j-p-morgan-asset-management-seeks-to-convert-1-3-billion-jpmorgan-unconstrained-debt-fund-to-jpmorgan-flexible-debt-etf-jflx-14250479\n",
      "63: 0.75 | Alternative Fund Advisors Releases RIA Private Credit Usage Study, Confirming Continued Growth In The Asset Class - https://menafn.com/1109386300/Alternative-Fund-Advisors-Releases-RIA-Private-Credit-Usage-Study-Confirming-Continued-Growth-In-The-Asset-Class\n",
      "64: 0.75 | Falcon unveils open-ended HF strategy for family offices  - https://www.alternativeswatch.com/2024/07/02/falcon-unveils-open-ended-hf-strategy-for-family-offices\n",
      "65: 0.75 | Hedge Fund EDL Capital Soars 14% on Bearish Bet Against the US - https://www.bloomberg.com/news/articles/2025-04-02/hedge-fund-edl-capital-soars-14-on-bearish-bet-against-the-us\n",
      "66: 0.75 | Hedge Fund and Insider Trading News: Nelson Peltz, Warren Buffett, Bill Ackman, Eric Jackson, Renaissance Technologies, Elliott Investment Management, Innovative Eyewear Inc (LUCY), Mission Produce Inc (AVO), and More - https://www.insidermonkey.com/blog/hedge-fund-and-insider-trading-news-nelson-peltz-warren-buffett-bill-ackman-eric-jackson-renaissance-technologies-elliott-investment-management-innovative-eyewear-inc-lucy-mission-produce-in-1360285\n",
      "67: 0.75 | Hedge funds feel the squeeze as equity-funding costs spike - Hedgeweek - https://www.hedgeweek.com/hedge-funds-feel-the-squeeze-as-equity-funding-costs-spike\n",
      "68: 0.75 | Hedge Fund Basis Trade Faces Scrutiny as Regulators Mull Probe - https://www.livemint.com/companies/news/hedge-fund-basis-trade-faces-scrutiny-as-regulators-mull-probe-11730742401105.html\n",
      "69: 0.75 | Hedge funds bullish on bonus increases - Hedgeweek - https://www.hedgeweek.com/hedge-funds-bullish-on-bonus-increases\n",
      "70: 0.75 | Growing List of Hedge Fund Passthrough Fees Cuts Into Client Profits - https://www.bloomberg.com/graphics/2025-hedge-fund-investment-fees\n",
      "71: 0.75 | Veteran trader plans new hedge fund to capitalise on market volatility - Hedgeweek - https://www.hedgeweek.com/veteran-trader-plans-new-hedge-fund-to-capitalise-on-market-volatility\n",
      "72: 0.75 | RBC Survey: Fixed-income hedge funds going mainstream as asset owners seek double-digit returns - https://www.alternativeswatch.com/2025/02/26/rbc-survey-fixed-income-hedge-funds-going-midstream-as-asset-owners-seek-double-digit-returns\n",
      "73: 0.75 | Hedge Fund Investors Seek New Allocations to Equity Strategies, Says BNP Paribas - https://abbonews.com/us-markets/hedge-fund-investors-seek-new-allocations-to-equity-strategies-says-bnp-paribas\n",
      "74: 0.75 | BlackRock hits US$11.5 trillion of assets as private markets grow - https://www.businesstimes.com.sg/companies-markets/banking-finance/blackrock-hits-us11-5-trillion-assets-private-markets-grow\n",
      "75: 0.75 | Inside Goldman Sachs' expanding but risky financing engine - https://www.reuters.com/business/finance/inside-goldman-sachs-expanding-risky-financing-engine-2024-07-11/\n",
      "76: 0.74 | Hedge fund investor appetite hit by high fees and private credit, says Goldman Sachs - https://www.businesstimes.com.sg/international/global/hedge-fund-investor-appetite-hit-high-fees-and-private-credit-says-goldman-sachs\n",
      "77: 0.74 | Increased Pension Fund Allocation and Geopolitical Volatility to Drive Hedge Funds Above $5 Trillion Mark by - https://www.einpresswire.com/article/774914854/increased-pension-fund-allocation-and-geopolitical-volatility-to-drive-hedge-funds-above-5-trillion-mark-by-2030\n",
      "78: 0.74 | Hedge fund investors seek new allocation to equity strategies, says BNP Paribas - https://www.kitco.com/news/off-the-wire/2024-09-09/hedge-fund-investors-seek-new-allocation-equity-strategies-says-bnp\n",
      "79: 0.74 | Revolution bets demise of hybrids will boost private credit demand - https://www.capitalbrief.com/article/revolution-bets-demise-of-hybrids-will-boost-private-credit-demand-a849e09b-b286-4449-a3df-72b9cb62bfd6\n",
      "80: 0.74 | Robert Gibbins to Tap Outside Cash Again After His Hedge Fund Soars 54% - https://www.bloomberg.com/news/articles/2025-04-23/gibbins-to-tap-outside-cash-again-after-his-hedge-fund-soars-54\n",
      "81: 0.74 | Hedge Fund Star Who Profited Big In 2008 Financial Crisis Is Betting Big On Current Market Volatility: 'R - https://www.benzinga.com/markets/25/01/42808169/hedge-fund-star-who-profited-big-in-2008-financial-crisis-is-betting-big-on-current-market-volatility-risk-prices-have-come-down\n",
      "82: 0.74 | Hedge Funds Broaden Their Trump Trades - https://www.wsj.com/livecoverage/stock-market-today-dow-sp500-nasdaq-earnings-02-21-2025/card/hedge-funds-broaden-their-trump-trades-H5cf8tJ5fSk8ggJj957y\n",
      "83: 0.74 | Hedge funds ante-up big bets to kick off Trump's second term - https://www.reuters.com/markets/us/hedge-funds-ante-up-big-bets-kick-off-trumps-second-term-2025-01-21\n",
      "84: 0.74 | Investors bullish on fixed-income hedge funds - https://spearswms.com/wealth/wealth-management/investors-bullish-on-fixed-income-hedge-funds\n",
      "85: 0.74 | Global Investors Bullish On Fixed Income Hedge Funds – Survey - https://www.wealthbriefingasia.com/article.php/Global-Investors-Bullish-On-Fixed-Income-Hedge-Funds-–-Survey-/?id=203725\n",
      "86: 0.74 | Appetite For Alternative Assets Grows In Private Banking - https://gfmag.com/banking/private-banking-alternative-assets\n",
      "87: 0.74 | Hedge fund's trades with lenders point to return of crisis-era structures - https://www.reuters.com/markets/us/hedge-funds-trades-with-lenders-point-return-crisis-era-structures-2024-06-18/\n",
      "88: 0.74 | Texas Teachers wants cash hurdles for hedge fund fees. Now the pension fund has almost 60 allies in the industry. - https://www.pionline.com/hedge-funds/texas-teachers-pushes-hedge-funds-use-cash-hurdles\n",
      "89: 0.74 | Citadel Is Looking at Selling High-Grade Corporate Bonds - https://www.bloomberg.com/news/articles/2025-02-04/citadel-is-looking-at-selling-high-grade-corporate-bonds\n",
      "90: 0.74 | Stock-picking hedge funds flock into numerous hidden-gem stocks that are beating the market - https://www.cnbc.com/2025/02/20/stock-picking-hedge-funds-flock-into-a-number-of-hidden-gem-stocks-that-are-beating-the-market.html\n",
      "91: 0.74 | Here's What the Super Rich Are Increasing Their Investments In, According to BlackRock: Report - https://dailyhodl.com/2025/06/17/heres-what-the-super-rich-are-increasing-their-investments-in-according-to-blackrock-report\n",
      "92: 0.74 | Blackstone seeks $5.6 billion to back other private equity firms - http://www.pionline.com/private-equity/blackstone-seeks-56-billion-back-other-private-equity-firms\n",
      "93: 0.73 | Hedge funds sped up de-risking, and there likely is more to come - https://www.kitco.com/news/off-the-wire/2025-03-12/hedge-funds-sped-de-risking-and-there-likely-more-come\n",
      "94: 0.73 | The hottest investment for hedge funds is other hedge funds - https://www.fnlondon.com/articles/the-hottest-investment-for-hedge-funds-is-other-hedge-funds-559a2db8\n",
      "95: 0.73 | Buenos Aires Times | Hedge fund run by Nicolás Dujovne posts 22% gain - https://batimes.com.ar/news/economy/hedge-fund-run-by-former-argentina-economic-chief-posts-22-gain.phtml\n",
      "96: 0.73 | Bobby Jain raises $5.3 billion in biggest hedge fund debut since 2018 - https://www.pionline.com/alternatives/bobby-jain-raises-53-billion-biggest-hedge-fund-debut-2018\n",
      "97: 0.73 | Hedge Fund and Insider Trading News: David Tepper, Bill Ackman, Josh Friedman, Whale Rock Capital Management, 352 Capital, Alto Neuroscience Inc (ANRO), Lions Gate Entertainment Corp. (LGF), and More - https://www.insidermonkey.com/blog/hedge-fund-and-insider-trading-news-david-tepper-bill-ackman-josh-friedman-whale-rock-capital-management-352-capital-alto-neuroscience-inc-anro-lions-gate-entertainment-corp-lgf-and-more-1322685\n",
      "98: 0.73 | The Hedge Funds Market: A Comprehensive Overview and Its Role in the Global Financial Landscape - https://techbullion.com/the-hedge-funds-market-a-comprehensive-overview-and-its-role-in-the-global-financial-landscape\n",
      "99: 0.73 | In risky market, Wall Street wants to privatize more of your stock and bond money - https://www.nbclosangeles.com/news/business/money-report/in-risky-market-wall-street-wants-to-privatize-more-of-your-stock-and-bond-money/3665936/?os=vbkn42tqhoPmKBEXtc%2F\n"
     ]
    }
   ],
   "source": [
    "from nosible import Nosible\n",
    "\n",
    "# Simple search with just date.\n",
    "with Nosible() as nos:\n",
    "    results = nos.search(\n",
    "        question=\"Hedge funds seek to expand into private credit\", n_results=100, publish_start=\"2024-06-01\"\n",
    "    )\n",
    "\n",
    "for idx, result in enumerate(results):\n",
    "    print(f\"{idx:2}: {result.similarity:.2f} | {result.title} - {result.url}\")"
   ]
  },
  {
   "cell_type": "code",
   "execution_count": 2,
   "id": "bbf124b4",
   "metadata": {},
   "outputs": [
    {
     "name": "stdout",
     "output_type": "stream",
     "text": [
      "Idx | Similarity | Title\n",
      "------------------------\n",
      "  0 |   0.75 | Hedge Fund and Insider Trading News: Nelson Peltz, Warren Buffett, Bill Ackman, Eric Jackson, Renaissance Technologies, Elliott Investment Management, Innovative Eyewear Inc (LUCY), Mission Produce Inc (AVO), and More\n",
      "  1 |   0.78 | Hedge Fund and Insider Trading News: Kyle Bass, Ray Dalio, Bill Ackman, Daniel Loeb, Warren Buffett, Brevan Howard Asset Management, Procter & Gamble Co (PG), and More\n",
      "  2 |   0.91 | Hedge funds are diving deeper into a hot area: private credit\n",
      "  3 |   0.91 | Hedge funds up private credit involvement amid market boom - Hedgeweek\n",
      "  4 |   0.89 | Millennium, Point72, Third Point to Enter Booming Private Credit Market\n"
     ]
    }
   ],
   "source": [
    "new = results.find_in_search_results(\"Warren Buffett\", top_k=5)  # Find top 5 results related to Warren Buffett\n",
    "\n",
    "print(new)"
   ]
  }
 ],
 "metadata": {
  "kernelspec": {
   "display_name": "nosible",
   "language": "python",
   "name": "python3"
  },
  "language_info": {
   "codemirror_mode": {
    "name": "ipython",
    "version": 3
   },
   "file_extension": ".py",
   "mimetype": "text/x-python",
   "name": "python",
   "nbconvert_exporter": "python",
   "pygments_lexer": "ipython3",
   "version": "3.10.16"
  }
 },
 "nbformat": 4,
 "nbformat_minor": 5
}
